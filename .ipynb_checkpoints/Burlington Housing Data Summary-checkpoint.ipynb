{
 "cells": [
  {
   "cell_type": "code",
   "execution_count": 1,
   "metadata": {
    "collapsed": false
   },
   "outputs": [
    {
     "name": "stderr",
     "output_type": "stream",
     "text": [
      "C:\\Users\\kefor\\Anaconda3\\lib\\site-packages\\sklearn\\cross_validation.py:44: DeprecationWarning: This module was deprecated in version 0.18 in favor of the model_selection module into which all the refactored classes and functions are moved. Also note that the interface of the new CV iterators are different from that of this module. This module will be removed in 0.20.\n",
      "  \"This module will be removed in 0.20.\", DeprecationWarning)\n"
     ]
    }
   ],
   "source": [
    "%matplotlib inline\n",
    "# Handle table-like data and matrices\n",
    "import numpy as np\n",
    "import pandas as pd\n",
    "import re\n",
    "\n",
    "# Modelling Algorithms\n",
    "from sklearn.tree import DecisionTreeClassifier\n",
    "from sklearn.linear_model import LogisticRegression\n",
    "from sklearn.neighbors import KNeighborsClassifier\n",
    "from sklearn.naive_bayes import GaussianNB\n",
    "from sklearn.svm import SVC, LinearSVC\n",
    "from sklearn.ensemble import RandomForestClassifier , GradientBoostingClassifier, RandomForestRegressor\n",
    "\n",
    "# Modelling Helpers\n",
    "from sklearn.preprocessing import Imputer , Normalizer , scale\n",
    "from sklearn.cross_validation import train_test_split , StratifiedKFold\n",
    "from sklearn.model_selection import KFold\n",
    "from sklearn.feature_selection import RFECV\n",
    "from sklearn.preprocessing import LabelEncoder,OneHotEncoder\n",
    "\n",
    "# Visualisation\n",
    "import matplotlib \n",
    "import matplotlib.pyplot as plt\n",
    "import matplotlib.pylab as pylab\n",
    "import seaborn as sns\n",
    "\n",
    "# Configure visualisations\n",
    "sns.set(style=\"ticks\")"
   ]
  },
  {
   "cell_type": "markdown",
   "metadata": {},
   "source": [
    "Summary\n",
    "--------------\n",
    "Burlington is a small city located on the shores of Lake Champlain in Vermont.  About an hour south of the canadian border it has some of the quantness and weirdness of Vermont and the real estate market has been booming for a long time.  The website for getting the data set: https://data.burlingtonvt.gov/City-Hall/City-of-Burlington-Property-Details/k7ck-hpwh\n",
    "\n",
    "Null Hypothesis\n",
    "-----\n",
    "There is a point where the return for the investment increases given a set of variables where the return on the investment reaches a threashold of ideal purchase.  We will use machine learning to predict the best properties and attributes to look for a return on investment.\n",
    "\n",
    "The Data\n",
    "----------------\n",
    "First pull in th CSV with all the housing data and display the initial information. Some will be more useful than other\n",
    "to determine what is the most return for the value and here are some values that could be dropped.  There are also a bunch of values that I will drop.  Since my focus is on housing rather than public or manufacturing spaces I have to trim it."
   ]
  },
  {
   "cell_type": "code",
   "execution_count": 2,
   "metadata": {
    "collapsed": false
   },
   "outputs": [
    {
     "name": "stdout",
     "output_type": "stream",
     "text": [
      "   AccountNumber       ParcelID     SpanNumber StreetNumber AlternateNumber  \\\n",
      "0           7502  049-3-187-000  114-035-17502          227             NaN   \n",
      "1          10680  043-3-085-001  114-035-20680           53             NaN   \n",
      "2           9512  057-1-013-000  114-035-19512           47             NaN   \n",
      "3           7960  050-2-019-001  114-035-17960          258             NaN   \n",
      "4           9255  056-3-017-000  114-035-19255           47             NaN   \n",
      "\n",
      "         StreetName Unit            CuO1LastName CuO1FirstName CuO2LastName  \\\n",
      "0        COLLEGE ST  NaN                CITY DPW           NaN          NaN   \n",
      "1           WARD ST  NaN                 EMERSON     DEBORAH A      EMERSON   \n",
      "2          SEARS LN  NaN      CITY OF BURLINGTON           NaN          NaN   \n",
      "3  SOUTH WILLARD ST  NaN  CHAMPLAIN COLLEGE INC.           NaN          NaN   \n",
      "4        CENTRAL AV  NaN                  BRANDT       RICHARD          NaN   \n",
      "\n",
      "           ...          LegalReference GrantorLastName NumofRooms  \\\n",
      "0          ...                       0             NaN          0   \n",
      "1          ...                       0             NaN          6   \n",
      "2          ...                       0             NaN          0   \n",
      "3          ...                       0             NaN          0   \n",
      "4          ...                       0             NaN          9   \n",
      "\n",
      "  NumofBedrooms  Baths  NumofUnits  ZoningCode  Foundation  Depreciation  \\\n",
      "0             0  0 / 0           0          DT         NaN         0.000   \n",
      "1             3  1 / 0           1         NaN           C         0.300   \n",
      "2             0  0 / 0           0         ELM         NaN         0.000   \n",
      "3             0  0 / 5           1           I           S         0.060   \n",
      "4             4  2 / 1           2         RLW          BS         0.236   \n",
      "\n",
      "    PropertyCenterPoint  \n",
      "0  (-73.2105, 44.47668)  \n",
      "1                   NaN  \n",
      "2  (-73.2168, 44.45806)  \n",
      "3  (-73.2044, 44.47292)  \n",
      "4  (-73.2213, 44.45953)  \n",
      "\n",
      "[5 rows x 38 columns]\n"
     ]
    }
   ],
   "source": [
    "train_df = pd.read_csv('~/Desktop/PythonLearning/City_of_Burlington_Property_Details.csv')\n",
    "print(train_df.head())"
   ]
  },
  {
   "cell_type": "code",
   "execution_count": 3,
   "metadata": {
    "collapsed": false
   },
   "outputs": [
    {
     "name": "stdout",
     "output_type": "stream",
     "text": [
      "<class 'pandas.core.frame.DataFrame'>\n",
      "RangeIndex: 10832 entries, 0 to 10831\n",
      "Data columns (total 38 columns):\n",
      "AccountNumber            10832 non-null int64\n",
      "ParcelID                 10832 non-null object\n",
      "SpanNumber               10832 non-null object\n",
      "StreetNumber             10827 non-null object\n",
      "AlternateNumber          1074 non-null object\n",
      "StreetName               10832 non-null object\n",
      "Unit                     2076 non-null object\n",
      "CuO1LastName             10831 non-null object\n",
      "CuO1FirstName            8519 non-null object\n",
      "CuO2LastName             5633 non-null object\n",
      "CuO2FirstName            5107 non-null object\n",
      "CuO3LastName             572 non-null object\n",
      "CuO3FirstName            461 non-null object\n",
      "LandUse                  10832 non-null object\n",
      "CurrentAcres             10832 non-null float64\n",
      "TotalGrossArea           10832 non-null int64\n",
      "FinishedArea             10832 non-null float64\n",
      "CurrentValue             10832 non-null float64\n",
      "CurrentLandValue         10832 non-null int64\n",
      "CurrentYardItemsValue    10832 non-null int64\n",
      "CurrentBuildingValue     10832 non-null float64\n",
      "BuildingType             10431 non-null object\n",
      "HeatFuel                 10339 non-null object\n",
      "HeatType                 10409 non-null object\n",
      "Grade                    10431 non-null object\n",
      "YearBlt                  10832 non-null int64\n",
      "SaleDate                 4636 non-null object\n",
      "SalePrice                10832 non-null int64\n",
      "LegalReference           10832 non-null object\n",
      "GrantorLastName          4635 non-null object\n",
      "NumofRooms               10832 non-null int64\n",
      "NumofBedrooms            10832 non-null int64\n",
      "Baths                    10832 non-null object\n",
      "NumofUnits               10832 non-null int64\n",
      "ZoningCode               10777 non-null object\n",
      "Foundation               10382 non-null object\n",
      "Depreciation             10832 non-null float64\n",
      "PropertyCenterPoint      10615 non-null object\n",
      "dtypes: float64(5), int64(9), object(24)\n",
      "memory usage: 3.1+ MB\n",
      "None\n"
     ]
    }
   ],
   "source": [
    "print(train_df.info())"
   ]
  },
  {
   "cell_type": "markdown",
   "metadata": {},
   "source": [
    "Residential Housing\n",
    "------\n",
    "First step it to reduce the data set to just residential housing only by taking only rows with the correct value under LandUse.  \n",
    "\n",
    "Single Family\n",
    "Residential Condo\n",
    "Two Family\n",
    "Three Family\n",
    "Five Family Plus\n",
    "Four Family \n",
    "Commercial Condo\n",
    "Seasonal home \n",
    "Commercial Land\n"
   ]
  },
  {
   "cell_type": "code",
   "execution_count": 4,
   "metadata": {
    "collapsed": false
   },
   "outputs": [
    {
     "name": "stdout",
     "output_type": "stream",
     "text": [
      "Single Family                   5176\n",
      "Residential Condo               2150\n",
      "2 Family                        1041\n",
      "3 Family                         369\n",
      "Apartments 5+Units               367\n",
      "Commercial                       299\n",
      "Exempt                           286\n",
      "4 Family                         239\n",
      "Res. Vacant Land                 235\n",
      "Commercial and Residential       158\n",
      "Mobile Home                      117\n",
      "Exempt Land                      112\n",
      "Commercial Condo                  91\n",
      "Seasonal home                     45\n",
      "Partial Exempt                    43\n",
      "Commercial Land                   34\n",
      "Industrial                        22\n",
      "Exempt Utility                    11\n",
      "Mobile Home w/Land                 8\n",
      "RESIDENTAL APT CONDO               6\n",
      "Farmland                           6\n",
      "Utility Electric                   6\n",
      "Utility Other                      4\n",
      "Industrial Land                    3\n",
      "Farm                               2\n",
      "Commercial/Residential Condo       1\n",
      "Cable TV personal property         1\n",
      "Name: LandUse, dtype: int64\n",
      "1 Family              5176\n",
      "Condo                 2248\n",
      "2 Family              1041\n",
      "3 Family               369\n",
      "Apartments 5+Units     367\n",
      "4 Family               239\n",
      "Name: LandUse, dtype: int64\n"
     ]
    }
   ],
   "source": [
    "print(train_df['LandUse'].value_counts())\n",
    "\n",
    "# clean up some of the names in LandUse\n",
    "train_df.loc[train_df[\"LandUse\"] == \"RESIDENTAL APT CONDO\", \"LandUse\"] = 'Condo'\n",
    "train_df.loc[train_df[\"LandUse\"] == \"Commercial/Residential Condo\", \"LandUse\"] = 'Condo'\n",
    "train_df.loc[train_df[\"LandUse\"] == \"Commercial Condo\", \"LandUse\"] = 'Condo'\n",
    "train_df.loc[train_df[\"LandUse\"] == \"Residential Condo\", \"LandUse\"] = 'Condo'\n",
    "train_df.loc[train_df[\"LandUse\"] == \"Single Family\", \"LandUse\"] = '1 Family'\n",
    "\n",
    "# return just the residential properties based on LandUse\n",
    "train_df = train_df.loc[(train_df[\"LandUse\"] == \"1 Family\") | (train_df[\"LandUse\"] == \"2 Family\")\n",
    "                    | (train_df[\"LandUse\"] == \"3 Family\") | (train_df[\"LandUse\"] == \"4 Family\")\n",
    "                    | (train_df[\"LandUse\"] == \"Apartments 5+Units\") | (train_df[\"LandUse\"] == \"Condo\")]\n",
    "\n",
    "# Verify that it all worked \n",
    "print(train_df['LandUse'].value_counts())"
   ]
  },
  {
   "cell_type": "markdown",
   "metadata": {},
   "source": [
    "Correlation\n",
    "---------\n",
    "The simpliest way to get a feeling for the usefulness of the values from the start is a quick heatmap.  My primary interest is correlation to SalePrice and CurrentValue.  Interestingly, Depreciation seems to have little correlation with anything else, something that surprises me. When we get done this should have a lot more features and be much more useful."
   ]
  },
  {
   "cell_type": "code",
   "execution_count": 5,
   "metadata": {
    "collapsed": false
   },
   "outputs": [
    {
     "data": {
      "image/png": "[encoded data removed]",
      "text/plain": [
       "<matplotlib.figure.Figure at 0x1f5ebd0a438>"
      ]
     },
     "metadata": {},
     "output_type": "display_data"
    }
   ],
   "source": [
    "corr = train_df.corr()\n",
    "sns.heatmap(corr)\n",
    "plt.show()"
   ]
  },
  {
   "cell_type": "code",
   "execution_count": 7,
   "metadata": {
    "collapsed": false
   },
   "outputs": [
    {
     "name": "stdout",
     "output_type": "stream",
     "text": [
      "<class 'pandas.core.frame.DataFrame'>\n",
      "Int64Index: 9440 entries, 1 to 10831\n",
      "Data columns (total 33 columns):\n",
      "SpanNumber               9440 non-null object\n",
      "StreetName               9440 non-null object\n",
      "CuO1LastName             9439 non-null object\n",
      "CuO1FirstName            8072 non-null object\n",
      "CuO2LastName             5205 non-null object\n",
      "CuO2FirstName            4914 non-null object\n",
      "CuO3LastName             521 non-null object\n",
      "CuO3FirstName            437 non-null object\n",
      "LandUse                  9440 non-null object\n",
      "CurrentAcres             9440 non-null float64\n",
      "TotalGrossArea           9440 non-null int64\n",
      "FinishedArea             9440 non-null float64\n",
      "CurrentValue             9440 non-null float64\n",
      "CurrentLandValue         9440 non-null int64\n",
      "CurrentYardItemsValue    9440 non-null int64\n",
      "CurrentBuildingValue     9440 non-null float64\n",
      "BuildingType             9439 non-null object\n",
      "HeatFuel                 9387 non-null object\n",
      "HeatType                 9423 non-null object\n",
      "Grade                    9439 non-null object\n",
      "YearBlt                  9440 non-null int64\n",
      "SaleDate                 4374 non-null object\n",
      "SalePrice                9440 non-null int64\n",
      "LegalReference           9440 non-null object\n",
      "GrantorLastName          4373 non-null object\n",
      "NumofRooms               9440 non-null int64\n",
      "NumofBedrooms            9440 non-null int64\n",
      "Baths                    9440 non-null object\n",
      "NumofUnits               9440 non-null int64\n",
      "ZoningCode               9418 non-null object\n",
      "Foundation               9402 non-null object\n",
      "Depreciation             9440 non-null float64\n",
      "PropertyCenterPoint      9306 non-null object\n",
      "dtypes: float64(5), int64(8), object(20)\n",
      "memory usage: 2.4+ MB\n",
      "None\n"
     ]
    }
   ],
   "source": [
    "print(train_df.info())"
   ]
  },
  {
   "cell_type": "markdown",
   "metadata": {},
   "source": [
    "Triming\n",
    "----------\n",
    "In order to save time later on, I am going to trim some data off the set, specifically first name, street nnumber, account number and parcel ID.  These should be unique to each record or in the case of the first name, just not useful."
   ]
  },
  {
   "cell_type": "code",
   "execution_count": 8,
   "metadata": {
    "collapsed": false
   },
   "outputs": [
    {
     "ename": "KeyError",
     "evalue": "'StreetNumber'",
     "output_type": "error",
     "traceback": [
      "\u001b[0;31m---------------------------------------------------------------------------\u001b[0m",
      "\u001b[0;31mKeyError\u001b[0m                                  Traceback (most recent call last)",
      "\u001b[0;32mC:\\Users\\kefor\\Anaconda3\\lib\\site-packages\\pandas\\indexes\\base.py\u001b[0m in \u001b[0;36mget_loc\u001b[0;34m(self, key, method, tolerance)\u001b[0m\n\u001b[1;32m   1944\u001b[0m             \u001b[1;32mtry\u001b[0m\u001b[1;33m:\u001b[0m\u001b[1;33m\u001b[0m\u001b[0m\n\u001b[0;32m-> 1945\u001b[0;31m                 \u001b[1;32mreturn\u001b[0m \u001b[0mself\u001b[0m\u001b[1;33m.\u001b[0m\u001b[0m_engine\u001b[0m\u001b[1;33m.\u001b[0m\u001b[0mget_loc\u001b[0m\u001b[1;33m(\u001b[0m\u001b[0mkey\u001b[0m\u001b[1;33m)\u001b[0m\u001b[1;33m\u001b[0m\u001b[0m\n\u001b[0m\u001b[1;32m   1946\u001b[0m             \u001b[1;32mexcept\u001b[0m \u001b[0mKeyError\u001b[0m\u001b[1;33m:\u001b[0m\u001b[1;33m\u001b[0m\u001b[0m\n",
      "\u001b[0;32mpandas\\index.pyx\u001b[0m in \u001b[0;36mpandas.index.IndexEngine.get_loc (pandas\\index.c:4154)\u001b[0;34m()\u001b[0m\n",
      "\u001b[0;32mpandas\\index.pyx\u001b[0m in \u001b[0;36mpandas.index.IndexEngine.get_loc (pandas\\index.c:4018)\u001b[0;34m()\u001b[0m\n",
      "\u001b[0;32mpandas\\hashtable.pyx\u001b[0m in \u001b[0;36mpandas.hashtable.PyObjectHashTable.get_item (pandas\\hashtable.c:12368)\u001b[0;34m()\u001b[0m\n",
      "\u001b[0;32mpandas\\hashtable.pyx\u001b[0m in \u001b[0;36mpandas.hashtable.PyObjectHashTable.get_item (pandas\\hashtable.c:12322)\u001b[0;34m()\u001b[0m\n",
      "\u001b[0;31mKeyError\u001b[0m: 'StreetNumber'",
      "\nDuring handling of the above exception, another exception occurred:\n",
      "\u001b[0;31mKeyError\u001b[0m                                  Traceback (most recent call last)",
      "\u001b[0;32m<ipython-input-8-27d57e398500>\u001b[0m in \u001b[0;36m<module>\u001b[0;34m()\u001b[0m\n\u001b[1;32m      1\u001b[0m \u001b[1;31m# Delete all the columns that are not relevant\u001b[0m\u001b[1;33m\u001b[0m\u001b[1;33m\u001b[0m\u001b[0m\n\u001b[0;32m----> 2\u001b[0;31m \u001b[1;32mdel\u001b[0m \u001b[0mtrain_df\u001b[0m\u001b[1;33m[\u001b[0m\u001b[1;34m'StreetNumber'\u001b[0m\u001b[1;33m]\u001b[0m\u001b[1;33m\u001b[0m\u001b[0m\n\u001b[0m\u001b[1;32m      3\u001b[0m \u001b[1;32mdel\u001b[0m \u001b[0mtrain_df\u001b[0m\u001b[1;33m[\u001b[0m\u001b[1;34m'AccountNumber'\u001b[0m\u001b[1;33m]\u001b[0m\u001b[1;33m\u001b[0m\u001b[0m\n\u001b[1;32m      4\u001b[0m \u001b[1;32mdel\u001b[0m \u001b[0mtrain_df\u001b[0m\u001b[1;33m[\u001b[0m\u001b[1;34m'ParcelID'\u001b[0m\u001b[1;33m]\u001b[0m\u001b[1;33m\u001b[0m\u001b[0m\n\u001b[1;32m      5\u001b[0m \u001b[1;32mdel\u001b[0m \u001b[0mtrain_df\u001b[0m\u001b[1;33m[\u001b[0m\u001b[1;34m'AlternateNumber'\u001b[0m\u001b[1;33m]\u001b[0m\u001b[1;33m\u001b[0m\u001b[0m\n",
      "\u001b[0;32mC:\\Users\\kefor\\Anaconda3\\lib\\site-packages\\pandas\\core\\generic.py\u001b[0m in \u001b[0;36m__delitem__\u001b[0;34m(self, key)\u001b[0m\n\u001b[1;32m   1604\u001b[0m             \u001b[1;31m# there was no match, this call should raise the appropriate\u001b[0m\u001b[1;33m\u001b[0m\u001b[1;33m\u001b[0m\u001b[0m\n\u001b[1;32m   1605\u001b[0m             \u001b[1;31m# exception:\u001b[0m\u001b[1;33m\u001b[0m\u001b[1;33m\u001b[0m\u001b[0m\n\u001b[0;32m-> 1606\u001b[0;31m             \u001b[0mself\u001b[0m\u001b[1;33m.\u001b[0m\u001b[0m_data\u001b[0m\u001b[1;33m.\u001b[0m\u001b[0mdelete\u001b[0m\u001b[1;33m(\u001b[0m\u001b[0mkey\u001b[0m\u001b[1;33m)\u001b[0m\u001b[1;33m\u001b[0m\u001b[0m\n\u001b[0m\u001b[1;32m   1607\u001b[0m \u001b[1;33m\u001b[0m\u001b[0m\n\u001b[1;32m   1608\u001b[0m         \u001b[1;31m# delete from the caches\u001b[0m\u001b[1;33m\u001b[0m\u001b[1;33m\u001b[0m\u001b[0m\n",
      "\u001b[0;32mC:\\Users\\kefor\\Anaconda3\\lib\\site-packages\\pandas\\core\\internals.py\u001b[0m in \u001b[0;36mdelete\u001b[0;34m(self, item)\u001b[0m\n\u001b[1;32m   3347\u001b[0m         \u001b[0mDelete\u001b[0m \u001b[0mselected\u001b[0m \u001b[0mitem\u001b[0m \u001b[1;33m(\u001b[0m\u001b[0mitems\u001b[0m \u001b[1;32mif\u001b[0m \u001b[0mnon\u001b[0m\u001b[1;33m-\u001b[0m\u001b[0munique\u001b[0m\u001b[1;33m)\u001b[0m \u001b[1;32min\u001b[0m\u001b[1;33m-\u001b[0m\u001b[0mplace\u001b[0m\u001b[1;33m.\u001b[0m\u001b[1;33m\u001b[0m\u001b[0m\n\u001b[1;32m   3348\u001b[0m         \"\"\"\n\u001b[0;32m-> 3349\u001b[0;31m         \u001b[0mindexer\u001b[0m \u001b[1;33m=\u001b[0m \u001b[0mself\u001b[0m\u001b[1;33m.\u001b[0m\u001b[0mitems\u001b[0m\u001b[1;33m.\u001b[0m\u001b[0mget_loc\u001b[0m\u001b[1;33m(\u001b[0m\u001b[0mitem\u001b[0m\u001b[1;33m)\u001b[0m\u001b[1;33m\u001b[0m\u001b[0m\n\u001b[0m\u001b[1;32m   3350\u001b[0m \u001b[1;33m\u001b[0m\u001b[0m\n\u001b[1;32m   3351\u001b[0m         \u001b[0mis_deleted\u001b[0m \u001b[1;33m=\u001b[0m \u001b[0mnp\u001b[0m\u001b[1;33m.\u001b[0m\u001b[0mzeros\u001b[0m\u001b[1;33m(\u001b[0m\u001b[0mself\u001b[0m\u001b[1;33m.\u001b[0m\u001b[0mshape\u001b[0m\u001b[1;33m[\u001b[0m\u001b[1;36m0\u001b[0m\u001b[1;33m]\u001b[0m\u001b[1;33m,\u001b[0m \u001b[0mdtype\u001b[0m\u001b[1;33m=\u001b[0m\u001b[0mnp\u001b[0m\u001b[1;33m.\u001b[0m\u001b[0mbool_\u001b[0m\u001b[1;33m)\u001b[0m\u001b[1;33m\u001b[0m\u001b[0m\n",
      "\u001b[0;32mC:\\Users\\kefor\\Anaconda3\\lib\\site-packages\\pandas\\indexes\\base.py\u001b[0m in \u001b[0;36mget_loc\u001b[0;34m(self, key, method, tolerance)\u001b[0m\n\u001b[1;32m   1945\u001b[0m                 \u001b[1;32mreturn\u001b[0m \u001b[0mself\u001b[0m\u001b[1;33m.\u001b[0m\u001b[0m_engine\u001b[0m\u001b[1;33m.\u001b[0m\u001b[0mget_loc\u001b[0m\u001b[1;33m(\u001b[0m\u001b[0mkey\u001b[0m\u001b[1;33m)\u001b[0m\u001b[1;33m\u001b[0m\u001b[0m\n\u001b[1;32m   1946\u001b[0m             \u001b[1;32mexcept\u001b[0m \u001b[0mKeyError\u001b[0m\u001b[1;33m:\u001b[0m\u001b[1;33m\u001b[0m\u001b[0m\n\u001b[0;32m-> 1947\u001b[0;31m                 \u001b[1;32mreturn\u001b[0m \u001b[0mself\u001b[0m\u001b[1;33m.\u001b[0m\u001b[0m_engine\u001b[0m\u001b[1;33m.\u001b[0m\u001b[0mget_loc\u001b[0m\u001b[1;33m(\u001b[0m\u001b[0mself\u001b[0m\u001b[1;33m.\u001b[0m\u001b[0m_maybe_cast_indexer\u001b[0m\u001b[1;33m(\u001b[0m\u001b[0mkey\u001b[0m\u001b[1;33m)\u001b[0m\u001b[1;33m)\u001b[0m\u001b[1;33m\u001b[0m\u001b[0m\n\u001b[0m\u001b[1;32m   1948\u001b[0m \u001b[1;33m\u001b[0m\u001b[0m\n\u001b[1;32m   1949\u001b[0m         \u001b[0mindexer\u001b[0m \u001b[1;33m=\u001b[0m \u001b[0mself\u001b[0m\u001b[1;33m.\u001b[0m\u001b[0mget_indexer\u001b[0m\u001b[1;33m(\u001b[0m\u001b[1;33m[\u001b[0m\u001b[0mkey\u001b[0m\u001b[1;33m]\u001b[0m\u001b[1;33m,\u001b[0m \u001b[0mmethod\u001b[0m\u001b[1;33m=\u001b[0m\u001b[0mmethod\u001b[0m\u001b[1;33m,\u001b[0m \u001b[0mtolerance\u001b[0m\u001b[1;33m=\u001b[0m\u001b[0mtolerance\u001b[0m\u001b[1;33m)\u001b[0m\u001b[1;33m\u001b[0m\u001b[0m\n",
      "\u001b[0;32mpandas\\index.pyx\u001b[0m in \u001b[0;36mpandas.index.IndexEngine.get_loc (pandas\\index.c:4154)\u001b[0;34m()\u001b[0m\n",
      "\u001b[0;32mpandas\\index.pyx\u001b[0m in \u001b[0;36mpandas.index.IndexEngine.get_loc (pandas\\index.c:4018)\u001b[0;34m()\u001b[0m\n",
      "\u001b[0;32mpandas\\hashtable.pyx\u001b[0m in \u001b[0;36mpandas.hashtable.PyObjectHashTable.get_item (pandas\\hashtable.c:12368)\u001b[0;34m()\u001b[0m\n",
      "\u001b[0;32mpandas\\hashtable.pyx\u001b[0m in \u001b[0;36mpandas.hashtable.PyObjectHashTable.get_item (pandas\\hashtable.c:12322)\u001b[0;34m()\u001b[0m\n",
      "\u001b[0;31mKeyError\u001b[0m: 'StreetNumber'"
     ]
    }
   ],
   "source": [
    "# Delete all the columns that are not relevant \n",
    "del train_df['StreetNumber']\n",
    "del train_df['AccountNumber']\n",
    "del train_df['ParcelID']\n",
    "del train_df['AlternateNumber']\n",
    "del train_df['Unit']\n",
    "del train_df['CuO1FirstName']\n",
    "del train_df['CuO2LastName']\n",
    "del train_df['CuO2FirstName']\n",
    "del train_df['CuO3LastName']\n",
    "del train_df['CuO3FirstName']"
   ]
  },
  {
   "cell_type": "markdown",
   "metadata": {
    "collapsed": true
   },
   "source": [
    "Find and fill missing values"
   ]
  },
  {
   "cell_type": "code",
   "execution_count": null,
   "metadata": {
    "collapsed": false
   },
   "outputs": [],
   "source": [
    "train_df.isnull().sum()"
   ]
  },
  {
   "cell_type": "code",
   "execution_count": null,
   "metadata": {
    "collapsed": true
   },
   "outputs": [],
   "source": [
    "# plot distribution of family size\n",
    "g = sns.lmplot(x=\"FamilySize\", y=\"Fare\", hue=\"Survived\", row=\"Pclass\",  data=train_df, x_jitter=.3, sharey=False)\n",
    "g.set(ylim=(0, None))"
   ]
  },
  {
   "cell_type": "code",
   "execution_count": null,
   "metadata": {
    "collapsed": false
   },
   "outputs": [],
   "source": [
    "# Fill missing values with Gas\n",
    "train_df[\"CuO1LastName\"] = train_df[\"CuO1LastName\"].fillna(\"None\")\n",
    "train_df[\"BuildingType\"] = train_df[\"BuildingType\"].fillna(\"GAS\")\n",
    "train_df[\"YearBlt\"].fillna(train_df[\"YearBlt\"].median(), inplace=True)\n",
    "\n",
    "# train_df.median()['YearBlt']\n",
    "\n",
    "train_df.isnull().sum()"
   ]
  },
  {
   "cell_type": "markdown",
   "metadata": {},
   "source": [
    "Building Type\n",
    "------\n",
    "Building Types are widespread and only partially useful. In order to make it a more useful feature, some engineering is needed to bring it into more useful form."
   ]
  },
  {
   "cell_type": "code",
   "execution_count": null,
   "metadata": {
    "collapsed": false
   },
   "outputs": [],
   "source": [
    "#print(train_df['BuildingType'].value_counts())\n",
    "\n",
    "#train_df.loc[train_df[\"BuildingType\"] == \"TOWNHS END\", BuildingType\"] = 'Townhouse'            \n",
    "#train_df.loc[train_df[\"BuildingType\"] == \"NONE\", \"BuildingType\"] = \"UNIQUE\""
   ]
  },
  {
   "cell_type": "markdown",
   "metadata": {},
   "source": [
    "Heat Fuel\n",
    "--------\n",
    "Here are a couple of data cleansing steps to remove outliers for a better machine learning model.  "
   ]
  },
  {
   "cell_type": "code",
   "execution_count": null,
   "metadata": {
    "collapsed": false
   },
   "outputs": [],
   "source": [
    "print(train_df['HeatFuel'].value_counts())\n",
    "\n",
    "# reassign uncommon values\n",
    "train_df.loc[train_df[\"HeatFuel\"] == \"NONE\", \"HeatFuel\"] = \"UNIQUE\"\n",
    "train_df.loc[train_df[\"HeatFuel\"] == \"WOOD\", \"HeatFuel\"] = \"UNIQUE\"\n",
    "train_df.loc[train_df[\"HeatFuel\"] == \"WOOD COMBO\", \"HeatFuel\"] = \"UNIQUE\"\n",
    "train_df.loc[train_df[\"HeatFuel\"] == \"PROPANE\", \"HeatFuel\"] = \"UNIQUE\"\n",
    "\n",
    "# Fill missing values with Gas\n",
    "train_df[\"HeatFuel\"] = train_df[\"HeatFuel\"].fillna(\"GAS\")\n",
    "\n",
    "print(train_df['HeatFuel'].value_counts())"
   ]
  },
  {
   "cell_type": "code",
   "execution_count": null,
   "metadata": {
    "collapsed": false
   },
   "outputs": [],
   "source": [
    "# train_df[[\"LandUse\", \"CurrentValue\"]].groupby(['LandUse'], as_index=False).mean()\n"
   ]
  },
  {
   "cell_type": "markdown",
   "metadata": {},
   "source": [
    "Heat Type\n",
    "----------\n",
    "There are several loose ends for the Heat Types.  Here we get a view of some stragglers and correct or modify values to reduce the variables."
   ]
  },
  {
   "cell_type": "code",
   "execution_count": null,
   "metadata": {
    "collapsed": false
   },
   "outputs": [],
   "source": [
    "print(train_df['HeatType'].value_counts())\n",
    "\n",
    "# reassign uncommon values\n",
    "train_df.loc[train_df[\"HeatType\"] == \"TYPICAL\", \"HeatType\"] = \"HOT WATER\"\n",
    "train_df.loc[train_df[\"HeatType\"] == \"Hot Water\", \"HeatType\"] = \"HOT WATER\"\n",
    "train_df.loc[train_df[\"HeatType\"] == \"H WATER/RADI\", \"HeatType\"] = \"HOT WATER\"\n",
    "train_df.loc[train_df[\"HeatType\"] == \"STEAM\", \"HeatType\"] = \"HOT WATER\"\n",
    "train_df.loc[train_df[\"HeatType\"] == \"HEAT PUMP\", \"HeatType\"] = \"HOT WATER\"\n",
    "train_df.loc[train_df[\"HeatType\"] == \"HVAC\", \"HeatType\"] = \"HOT AIR\"\n",
    "\n",
    "# Fill missing 52 values with Hot Water\n",
    "train_df[\"HeatType\"] = train_df[\"HeatType\"].fillna(\"HOT WATER\")\n",
    "\n",
    "print(train_df['HeatType'].value_counts())"
   ]
  },
  {
   "cell_type": "code",
   "execution_count": null,
   "metadata": {
    "collapsed": false
   },
   "outputs": [],
   "source": [
    "sns.stripplot(x=\"HeatType\", y=\"CurrentValue\", data=train_df, jitter=True);\n",
    "plt.show()"
   ]
  },
  {
   "cell_type": "markdown",
   "metadata": {},
   "source": [
    "Grade\n",
    "-----\n",
    "Cleaning of Grade"
   ]
  },
  {
   "cell_type": "code",
   "execution_count": null,
   "metadata": {
    "collapsed": false
   },
   "outputs": [],
   "source": [
    "print(train_df['Grade'].value_counts())\n",
    "\n",
    "# reassign uncommon values\n",
    "train_df.loc[train_df[\"Grade\"] == \"CUSTOM\", \"Grade\"] = \"AVERAGE\"\n",
    "train_df.loc[train_df[\"Grade\"] == \"CUSTOM PLUS\", \"Grade\"] = \"AVERAGE\"\n",
    "train_df.loc[train_df[\"Grade\"] == \"CUSTOM MINUS\", \"Grade\"] = \"AVERAGE\"\n",
    "train_df.loc[train_df[\"Grade\"] == \"FAIR PLUS\", \"Grade\"] = \"FAIR\"\n",
    "train_df.loc[train_df[\"Grade\"] == \"FAIR MINUS\", \"Grade\"] = \"FAIR\"\n",
    "train_df.loc[train_df[\"Grade\"] == \"AVERAGEMINUS\", \"Grade\"] = \"AVERAGE\"\n",
    "train_df.loc[train_df[\"Grade\"] == \"AVERAGE PLUS\", \"Grade\"] = \"AVERAGE\"\n",
    "train_df.loc[train_df[\"Grade\"] == \"GOOD MINUS\", \"Grade\"] = \"GOOD\"\n",
    "train_df.loc[train_df[\"Grade\"] == \"GOOD PLUS\", \"Grade\"] = \"GOOD\"\n",
    "train_df.loc[train_df[\"Grade\"] == \"VRYGOODMINUS\", \"Grade\"] = \"VERY GOOD\"\n",
    "train_df.loc[train_df[\"Grade\"] == \"VRYGOODPLUS\", \"Grade\"] = \"VERY GOOD\"\n",
    "train_df.loc[train_df[\"Grade\"] == \"EXCLNT MINUS\", \"Grade\"] = \"EXCELLENT\"\n",
    "train_df.loc[train_df[\"Grade\"] == \"EXCLT PLUS\", \"Grade\"] = \"EXCELLENT\"\n",
    "train_df.loc[train_df[\"Grade\"] == \"POOR PLUS\", \"Grade\"] = \"POOR\"\n",
    "train_df.loc[train_df[\"Grade\"] == \"POOR MINUS\", \"Grade\"] = \"POOR\"\n",
    "train_df.loc[train_df[\"Grade\"] == \"CUSTOM\", \"Grade\"] = \"AVERAGE\"\n",
    "\n",
    "# Fill missing values\n",
    "train_df[\"Grade\"] = train_df[\"Grade\"].fillna(\"AVERAGE\")\n",
    "\n",
    "print(train_df['Grade'].value_counts())"
   ]
  },
  {
   "cell_type": "code",
   "execution_count": null,
   "metadata": {
    "collapsed": false
   },
   "outputs": [],
   "source": [
    "sns.stripplot(x=\"Grade\", y=\"CurrentValue\", data=train_df, jitter=True);\n",
    "plt.show()\n",
    "\n",
    "sns.barplot(x=\"Grade\", y=\"CurrentValue\", hue=\"HeatFuel\", data=train_df);\n",
    "\n",
    "#sns.violinplot(x=\"Grade\", y=\"TotalGrossArea\", data=train_df);"
   ]
  },
  {
   "cell_type": "code",
   "execution_count": null,
   "metadata": {
    "collapsed": false
   },
   "outputs": [],
   "source": []
  },
  {
   "cell_type": "markdown",
   "metadata": {},
   "source": [
    "\n",
    "BuildingType x\n",
    "\n",
    "\n",
    "CurrentAcres, TotalGrossArea, FinishedArea, CurrentValue, CurrentLandValue, \n",
    "CurrentYardItemsValue, CurrentBuildingValue, YearBlt, Depreciation, \n",
    "\n",
    "LandUse  x\n",
    "\n",
    "HeatFuel x  \n",
    "HeatType   x  \n",
    "Grade    x \n",
    "NumofRooms s\n",
    "NumofBedrooms s\n",
    "Bath1 s\n",
    "Bath2 s   \n",
    "NumofUnits s\n",
    "\n",
    "\n",
    "CurrentAcres, TotalGrossArea, FinishedArea, CurrentValue, CurrentLandValue, \n",
    "CurrentYardItemsValue, CurrentBuildingValue, YearBlt, Depreciation, LandUse, BuildingType, HeatFuel, HeatType, Grade, \n",
    "NumofRooms, NumofBedrooms, Bath1, Bath2, NumofUnits\n",
    "\n",
    "\n",
    "SalePrice   "
   ]
  },
  {
   "cell_type": "code",
   "execution_count": null,
   "metadata": {
    "collapsed": false
   },
   "outputs": [],
   "source": [
    "# All values that are being treated as direct features\n",
    "CurrentAcres = train_df['CurrentAcres']\n",
    "TotalGrossArea = train_df['TotalGrossArea']\n",
    "FinishedArea = train_df['FinishedArea']\n",
    "CurrentValue = train_df['CurrentValue']\n",
    "CurrentLandValue = train_df['CurrentLandValue']\n",
    "CurrentYardItemsValue = train_df['CurrentYardItemsValue']\n",
    "CurrentBuildingValue = train_df['CurrentBuildingValue']\n",
    "#YearBlt = train_df['YearBlt']\n",
    "Depreciation = train_df['Depreciation']\n",
    "\n",
    "# LandUse = train_df['LandUse']\n",
    "NumofUnits = train_df['NumofUnits']\n",
    "Baths = train_df['Baths']\n",
    "NumofRooms = train_df['NumofRooms']\n",
    "NumofBedrooms = train_df['NumofBedrooms']\n",
    "\n",
    "# Features that are split out to binary\n",
    "LandUse = pd.get_dummies( train_df['LandUse'] , prefix = 'LandUse')\n",
    "HeatFuel = pd.get_dummies( train_df['HeatFuel'] , prefix = 'HeatFuel')\n",
    "HeatType = pd.get_dummies( train_df['HeatType'] , prefix = 'HeatType')\n",
    "Grade = pd.get_dummies( train_df['Grade'] , prefix = 'Grade')\n",
    "#NumofRooms = pd.get_dummies( train_df['NumofRooms'] , prefix = 'NumofRooms')\n",
    "#NumofBedrooms = pd.get_dummies( train_df['NumofBedrooms'] , prefix = 'NumofBedrooms')\n",
    "#Baths = pd.get_dummies( train_df['Baths'] , prefix = 'Baths')\n",
    "#NumofUnits = pd.get_dummies( train_df['NumofUnits'] , prefix = 'NumofUnits')\n",
    "\n",
    "SalePrice = train_df['SalePrice']\n",
    "\n"
   ]
  },
  {
   "cell_type": "code",
   "execution_count": null,
   "metadata": {
    "collapsed": false
   },
   "outputs": [],
   "source": [
    "# removed year built\n",
    "train_X = pd.concat([CurrentAcres, TotalGrossArea, FinishedArea, CurrentValue, CurrentLandValue, \n",
    "CurrentYardItemsValue, CurrentBuildingValue, Depreciation, LandUse, HeatFuel, HeatType, Grade, \n",
    "NumofRooms, NumofBedrooms, Baths, NumofUnits], axis=1)\n",
    "train_X.head()\n",
    "\n",
    "# This is just to determing correlation with survived to see how well it worked\n",
    "train_corr = pd.concat([SalePrice, CurrentAcres, TotalGrossArea, FinishedArea, CurrentValue, CurrentLandValue, \n",
    "CurrentYardItemsValue, CurrentBuildingValue, Depreciation, LandUse, HeatFuel, HeatType, Grade, \n",
    "NumofRooms, NumofBedrooms, Baths, NumofUnits], axis=1)"
   ]
  },
  {
   "cell_type": "code",
   "execution_count": null,
   "metadata": {
    "collapsed": false
   },
   "outputs": [],
   "source": [
    "corr = train_corr.corr()\n",
    "sns.heatmap(corr)\n",
    "plt.show()\n",
    "\n",
    "train_corr.corr()['SalePrice']"
   ]
  },
  {
   "cell_type": "code",
   "execution_count": null,
   "metadata": {
    "collapsed": false
   },
   "outputs": [],
   "source": [
    "splitmissing = train_corr[train_corr['SalePrice'].isnull()]\n",
    "splithas =  train_corr[train_corr['SalePrice'].notnull()]\n",
    "\n",
    "train_corr.info()\n",
    "splithas.info()\n",
    "splitmissing.info()\n",
    "\n",
    "# splithas.head()['SalePrice']\n",
    "# splitmissing.head()['SalePrice']"
   ]
  },
  {
   "cell_type": "code",
   "execution_count": null,
   "metadata": {
    "collapsed": true
   },
   "outputs": [],
   "source": [
    "# train_X = df[df['column'].isnull()]\n",
    "# train_y = train_df[train['column'].isnull()]"
   ]
  },
  {
   "cell_type": "code",
   "execution_count": null,
   "metadata": {
    "collapsed": false
   },
   "outputs": [],
   "source": [
    "# Create all datasets that are necessary to train, validate and test models\n",
    "train_valid_X = splithas\n",
    "train_valid_y = splithas['SalePrice']\n",
    "test_X = splitmissing\n",
    "train_X , valid_X , train_y , valid_y = train_test_split( train_valid_X , train_valid_y , train_size = .7 )\n"
   ]
  },
  {
   "cell_type": "code",
   "execution_count": null,
   "metadata": {
    "collapsed": false
   },
   "outputs": [],
   "source": [
    "# model = RandomForestClassifier()\n",
    "model = RandomForestRegressor()\n",
    "#model = SVC()\n",
    "#model = GradientBoostingClassifier()\n",
    "# model = KNeighborsClassifier(n_neighbors = 3)\n",
    "# model = GaussianNB()\n",
    "# model = LogisticRegression()"
   ]
  },
  {
   "cell_type": "code",
   "execution_count": null,
   "metadata": {
    "collapsed": false
   },
   "outputs": [],
   "source": [
    "model.fit( train_X , train_y )"
   ]
  },
  {
   "cell_type": "code",
   "execution_count": null,
   "metadata": {
    "collapsed": false
   },
   "outputs": [],
   "source": [
    "# Score the model\n",
    "print (model.score( train_X , train_y ) , model.score( valid_X , valid_y ))"
   ]
  },
  {
   "cell_type": "code",
   "execution_count": null,
   "metadata": {
    "collapsed": true
   },
   "outputs": [],
   "source": [
    "#test_Y = model.predict( test_X )\n",
    "#passenger_id = test_df.PassengerId\n",
    "#test = pd.DataFrame( { 'PassengerId': passenger_id , 'Survived': test_Y } )\n",
    "#test.shape\n",
    "#test.head(10)\n",
    "#test.to_csv( 'titanic_pred.csv' , index = False )"
   ]
  },
  {
   "cell_type": "code",
   "execution_count": null,
   "metadata": {
    "collapsed": false
   },
   "outputs": [],
   "source": [
    "\n",
    "\n",
    "\n",
    "# This takes the age and breaks it into precentiles\n",
    "# #print(np.percentile(train_df['CurrentAcres'],[0,33,66,100]))\n",
    "# print(np.percentile(test_df['CurrentAcres'],[0,33,66,100]))\n",
    "# farepercentile = [0, .09, .19, 29]\n",
    "\n",
    "# Creates a new column binning the ages in to brackets and labeling them with numbers.  \n",
    "# Prencentiles In this case are 0-7, 7=14, 14-31 and 31-513)\n",
    "# train_df[\"CurrentAcresBin\"] = pd.cut(train_df['CurrentAcres'],farepercentile, labels=[\"Low\",\"Mid\",\"High\"])\n",
    "#test_df[\"CurrentAcresBin\"] = pd.cut(test_df['CurrentAcres'],farepercentile, labels=[\"Low\",\"Mid\",\"High\"])\n",
    "\n",
    "# plot the result\n",
    "# sns.swarmplot(x=\"CurrentAcresBin\", y=\"SalePrice\", hue=\"Bath1\", data=train_df)\n",
    "# plt.show()"
   ]
  },
  {
   "cell_type": "code",
   "execution_count": null,
   "metadata": {
    "collapsed": false
   },
   "outputs": [],
   "source": [
    "\n",
    "\n",
    "# Embarked only in train_df, fill the two missing values with the most occurred value, which is \"S\".\n",
    "# train_df[\"Embarked\"].value_counts() \n",
    "# train_df[\"Embarked\"] = train_df[\"Embarked\"].fillna(\"S\")\n",
    "\n",
    "# Fill in the single missing fare with median value\n",
    "#test_df[\"Fare\"].fillna(test_df[\"Fare\"].median(), inplace=True)\n",
    "                                           \n",
    "# Convert fare from float to int\n",
    "#train_df['Fare'] = train_df['Fare'].astype(int)"
   ]
  },
  {
   "cell_type": "code",
   "execution_count": null,
   "metadata": {
    "collapsed": true
   },
   "outputs": [],
   "source": [
    "#propertyd = property.ix[:,'LandUse':'Depreciation']\n",
    "#propertyone = propertyd[(property['LandUse'] == '1 Family') & (property['CurrentValue'] < 400000) & (property['NumofRooms'] < 40)]\n",
    "#propertytwo = propertyd[(property['LandUse'] == '2 Family') & (property['CurrentValue'] < 400000) & (property['NumofRooms'] < 40)]\n",
    "#propertythree = propertyd[(property['LandUse'] == '3 Family') & (property['CurrentValue'] < 400000) & (property['NumofRooms'] < 40)]\n",
    "#propertyfour = propertyd[(property['LandUse'] == '4 Family') & (property['CurrentValue'] < 400000) & (property['NumofRooms'] < 40)]\n",
    "#propertycondo = propertyd[(property['LandUse'] == 'Residential Condo') & (property['CurrentValue'] < 400000) & (property['NumofRooms'] < 40)]\n"
   ]
  },
  {
   "cell_type": "code",
   "execution_count": null,
   "metadata": {
    "collapsed": false
   },
   "outputs": [],
   "source": []
  },
  {
   "cell_type": "code",
   "execution_count": null,
   "metadata": {
    "collapsed": false
   },
   "outputs": [],
   "source": []
  },
  {
   "cell_type": "code",
   "execution_count": null,
   "metadata": {
    "collapsed": false
   },
   "outputs": [],
   "source": []
  },
  {
   "cell_type": "code",
   "execution_count": null,
   "metadata": {
    "collapsed": false
   },
   "outputs": [],
   "source": []
  },
  {
   "cell_type": "code",
   "execution_count": null,
   "metadata": {
    "collapsed": true
   },
   "outputs": [],
   "source": []
  }
 ],
 "metadata": {
  "anaconda-cloud": {},
  "kernelspec": {
   "display_name": "Python [conda root]",
   "language": "python",
   "name": "conda-root-py"
  },
  "language_info": {
   "codemirror_mode": {
    "name": "ipython",
    "version": 3
   },
   "file_extension": ".py",
   "mimetype": "text/x-python",
   "name": "python",
   "nbconvert_exporter": "python",
   "pygments_lexer": "ipython3",
   "version": "3.5.2"
  }
 },
 "nbformat": 4,
 "nbformat_minor": 1
}
