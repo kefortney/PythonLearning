{
 "cells": [
  {
   "cell_type": "markdown",
   "metadata": {},
   "source": [
    "Burlington Data Scientists Meetup\n",
    "--------\n",
    "Working Session: Intro to Python, Basic Data Frames and Visualization\n",
    "\n",
    "April 3, 2017"
   ]
  },
  {
   "cell_type": "code",
   "execution_count": 1,
   "metadata": {
    "collapsed": true
   },
   "outputs": [],
   "source": [
    "%matplotlib inline\n",
    "\n",
    "# Handle table-like data and matrices\n",
    "import numpy as np\n",
    "import pandas as pd\n",
    "\n",
    "# Visualisation\n",
    "import matplotlib \n",
    "import matplotlib.pyplot as plt\n",
    "import matplotlib.pylab as pylab\n",
    "import seaborn as sns"
   ]
  },
  {
   "cell_type": "code",
   "execution_count": 2,
   "metadata": {
    "collapsed": true
   },
   "outputs": [],
   "source": [
    "wholedf = pd.read_csv('~/Desktop/PythonLearning/Police_Incident_Log.csv')\n"
   ]
  },
  {
   "cell_type": "code",
   "execution_count": 3,
   "metadata": {
    "collapsed": false
   },
   "outputs": [
    {
     "data": {
      "text/html": [
       "<div>\n",
       "<table border=\"1\" class=\"dataframe\">\n",
       "  <thead>\n",
       "    <tr style=\"text-align: right;\">\n",
       "      <th></th>\n",
       "      <th>Incident Id</th>\n",
       "      <th>Call Type</th>\n",
       "      <th>Date</th>\n",
       "      <th>Location</th>\n",
       "      <th>Incident Number</th>\n",
       "    </tr>\n",
       "  </thead>\n",
       "  <tbody>\n",
       "    <tr>\n",
       "      <th>0</th>\n",
       "      <td>576</td>\n",
       "      <td>Domestic Disturbance</td>\n",
       "      <td>10/01/2011 07:10:00 PM</td>\n",
       "      <td>Park St</td>\n",
       "      <td>11BU023135</td>\n",
       "    </tr>\n",
       "    <tr>\n",
       "      <th>1</th>\n",
       "      <td>584</td>\n",
       "      <td>Traffic</td>\n",
       "      <td>10/01/2011 08:58:00 PM</td>\n",
       "      <td>S Winooski Ave/Bank St</td>\n",
       "      <td>11BU023143</td>\n",
       "    </tr>\n",
       "    <tr>\n",
       "      <th>2</th>\n",
       "      <td>586</td>\n",
       "      <td>Intoxication</td>\n",
       "      <td>10/01/2011 09:13:00 PM</td>\n",
       "      <td>Pearl St</td>\n",
       "      <td>11BU023145</td>\n",
       "    </tr>\n",
       "    <tr>\n",
       "      <th>3</th>\n",
       "      <td>587</td>\n",
       "      <td>Noise</td>\n",
       "      <td>10/01/2011 09:25:00 PM</td>\n",
       "      <td>No Willard St</td>\n",
       "      <td>11BU023146</td>\n",
       "    </tr>\n",
       "    <tr>\n",
       "      <th>4</th>\n",
       "      <td>591</td>\n",
       "      <td>Noise</td>\n",
       "      <td>10/01/2011 10:03:00 PM</td>\n",
       "      <td>Peru St</td>\n",
       "      <td>11BU023150</td>\n",
       "    </tr>\n",
       "    <tr>\n",
       "      <th>5</th>\n",
       "      <td>592</td>\n",
       "      <td>Traffic</td>\n",
       "      <td>10/01/2011 10:32:00 PM</td>\n",
       "      <td>Pine St/Locust St</td>\n",
       "      <td>11BU023151</td>\n",
       "    </tr>\n",
       "    <tr>\n",
       "      <th>6</th>\n",
       "      <td>595</td>\n",
       "      <td>Intoxication</td>\n",
       "      <td>10/01/2011 10:53:00 PM</td>\n",
       "      <td>Colchester Ave</td>\n",
       "      <td>11BU023154</td>\n",
       "    </tr>\n",
       "    <tr>\n",
       "      <th>7</th>\n",
       "      <td>599</td>\n",
       "      <td>Traffic</td>\n",
       "      <td>10/01/2011 11:40:00 PM</td>\n",
       "      <td>S Winooski Ave/Bank St</td>\n",
       "      <td>11BU023158</td>\n",
       "    </tr>\n",
       "    <tr>\n",
       "      <th>8</th>\n",
       "      <td>602</td>\n",
       "      <td>Noise</td>\n",
       "      <td>10/02/2011 12:02:00 AM</td>\n",
       "      <td>North St/N Winooski Ave</td>\n",
       "      <td>11BU023161</td>\n",
       "    </tr>\n",
       "    <tr>\n",
       "      <th>9</th>\n",
       "      <td>603</td>\n",
       "      <td>Assault - Simple</td>\n",
       "      <td>10/02/2011 12:10:00 AM</td>\n",
       "      <td>Converse Ct</td>\n",
       "      <td>11BU023162</td>\n",
       "    </tr>\n",
       "  </tbody>\n",
       "</table>\n",
       "</div>"
      ],
      "text/plain": [
       "   Incident Id             Call Type                    Date  \\\n",
       "0          576  Domestic Disturbance  10/01/2011 07:10:00 PM   \n",
       "1          584               Traffic  10/01/2011 08:58:00 PM   \n",
       "2          586          Intoxication  10/01/2011 09:13:00 PM   \n",
       "3          587                 Noise  10/01/2011 09:25:00 PM   \n",
       "4          591                 Noise  10/01/2011 10:03:00 PM   \n",
       "5          592               Traffic  10/01/2011 10:32:00 PM   \n",
       "6          595          Intoxication  10/01/2011 10:53:00 PM   \n",
       "7          599               Traffic  10/01/2011 11:40:00 PM   \n",
       "8          602                 Noise  10/02/2011 12:02:00 AM   \n",
       "9          603      Assault - Simple  10/02/2011 12:10:00 AM   \n",
       "\n",
       "                  Location Incident Number  \n",
       "0                  Park St      11BU023135  \n",
       "1   S Winooski Ave/Bank St      11BU023143  \n",
       "2                 Pearl St      11BU023145  \n",
       "3            No Willard St      11BU023146  \n",
       "4                  Peru St      11BU023150  \n",
       "5        Pine St/Locust St      11BU023151  \n",
       "6           Colchester Ave      11BU023154  \n",
       "7   S Winooski Ave/Bank St      11BU023158  \n",
       "8  North St/N Winooski Ave      11BU023161  \n",
       "9              Converse Ct      11BU023162  "
      ]
     },
     "execution_count": 3,
     "metadata": {},
     "output_type": "execute_result"
    }
   ],
   "source": [
    "# Lists the first lines in a dataframe\n",
    "wholedf.head(10)"
   ]
  },
  {
   "cell_type": "code",
   "execution_count": 4,
   "metadata": {
    "collapsed": false
   },
   "outputs": [
    {
     "data": {
      "text/html": [
       "<div>\n",
       "<table border=\"1\" class=\"dataframe\">\n",
       "  <thead>\n",
       "    <tr style=\"text-align: right;\">\n",
       "      <th></th>\n",
       "      <th>Incident Id</th>\n",
       "      <th>Call Type</th>\n",
       "      <th>Date</th>\n",
       "      <th>Location</th>\n",
       "      <th>Incident Number</th>\n",
       "    </tr>\n",
       "  </thead>\n",
       "  <tbody>\n",
       "    <tr>\n",
       "      <th>28823</th>\n",
       "      <td>159162</td>\n",
       "      <td>Stolen Vehicle</td>\n",
       "      <td>09/18/2013 12:50:00 PM</td>\n",
       "      <td>S Winooski Ave</td>\n",
       "      <td>13BU025009</td>\n",
       "    </tr>\n",
       "    <tr>\n",
       "      <th>28824</th>\n",
       "      <td>160945</td>\n",
       "      <td>Trespass</td>\n",
       "      <td>09/21/2013 01:59:00 PM</td>\n",
       "      <td>Pearl St</td>\n",
       "      <td>13BU025379</td>\n",
       "    </tr>\n",
       "    <tr>\n",
       "      <th>28825</th>\n",
       "      <td>161280</td>\n",
       "      <td>Noise</td>\n",
       "      <td>09/22/2013 04:09:00 AM</td>\n",
       "      <td>S Union St</td>\n",
       "      <td>13BU025467</td>\n",
       "    </tr>\n",
       "    <tr>\n",
       "      <th>28826</th>\n",
       "      <td>164261</td>\n",
       "      <td>Noise</td>\n",
       "      <td>09/27/2013 10:58:00 PM</td>\n",
       "      <td>S Union St/Kingsland Terr</td>\n",
       "      <td>13BU026061</td>\n",
       "    </tr>\n",
       "    <tr>\n",
       "      <th>28827</th>\n",
       "      <td>165840</td>\n",
       "      <td>Vandalism</td>\n",
       "      <td>10/01/2013 08:44:00 AM</td>\n",
       "      <td>Lakeside Ave</td>\n",
       "      <td>13BU026395</td>\n",
       "    </tr>\n",
       "    <tr>\n",
       "      <th>28828</th>\n",
       "      <td>169204</td>\n",
       "      <td>Domestic Disturbance</td>\n",
       "      <td>10/07/2013 03:26:00 PM</td>\n",
       "      <td>Church St/King St</td>\n",
       "      <td>13BU027107</td>\n",
       "    </tr>\n",
       "    <tr>\n",
       "      <th>28829</th>\n",
       "      <td>173283</td>\n",
       "      <td>Ordinance Violation - Other</td>\n",
       "      <td>10/15/2013 05:14:00 PM</td>\n",
       "      <td>Shelburne Rd</td>\n",
       "      <td>13BU027957</td>\n",
       "    </tr>\n",
       "    <tr>\n",
       "      <th>28830</th>\n",
       "      <td>177985</td>\n",
       "      <td>Noise</td>\n",
       "      <td>10/25/2013 01:40:00 AM</td>\n",
       "      <td>College St</td>\n",
       "      <td>13BU028878</td>\n",
       "    </tr>\n",
       "    <tr>\n",
       "      <th>28831</th>\n",
       "      <td>180001</td>\n",
       "      <td>Larceny - from Building</td>\n",
       "      <td>10/29/2013 02:08:00 PM</td>\n",
       "      <td>N Union St</td>\n",
       "      <td>13BU029253</td>\n",
       "    </tr>\n",
       "    <tr>\n",
       "      <th>28832</th>\n",
       "      <td>186525</td>\n",
       "      <td>Larceny - from Building</td>\n",
       "      <td>11/12/2013 02:35:00 PM</td>\n",
       "      <td>N Winooski Ave</td>\n",
       "      <td>13BU030503</td>\n",
       "    </tr>\n",
       "  </tbody>\n",
       "</table>\n",
       "</div>"
      ],
      "text/plain": [
       "       Incident Id                    Call Type                    Date  \\\n",
       "28823       159162               Stolen Vehicle  09/18/2013 12:50:00 PM   \n",
       "28824       160945                     Trespass  09/21/2013 01:59:00 PM   \n",
       "28825       161280                        Noise  09/22/2013 04:09:00 AM   \n",
       "28826       164261                        Noise  09/27/2013 10:58:00 PM   \n",
       "28827       165840                    Vandalism  10/01/2013 08:44:00 AM   \n",
       "28828       169204         Domestic Disturbance  10/07/2013 03:26:00 PM   \n",
       "28829       173283  Ordinance Violation - Other  10/15/2013 05:14:00 PM   \n",
       "28830       177985                        Noise  10/25/2013 01:40:00 AM   \n",
       "28831       180001      Larceny - from Building  10/29/2013 02:08:00 PM   \n",
       "28832       186525      Larceny - from Building  11/12/2013 02:35:00 PM   \n",
       "\n",
       "                        Location Incident Number  \n",
       "28823             S Winooski Ave      13BU025009  \n",
       "28824                   Pearl St      13BU025379  \n",
       "28825                 S Union St      13BU025467  \n",
       "28826  S Union St/Kingsland Terr      13BU026061  \n",
       "28827               Lakeside Ave      13BU026395  \n",
       "28828          Church St/King St      13BU027107  \n",
       "28829               Shelburne Rd      13BU027957  \n",
       "28830                 College St      13BU028878  \n",
       "28831                 N Union St      13BU029253  \n",
       "28832             N Winooski Ave      13BU030503  "
      ]
     },
     "execution_count": 4,
     "metadata": {},
     "output_type": "execute_result"
    }
   ],
   "source": [
    "# Lists the last rows in a dataframe\n",
    "wholedf.tail(10)"
   ]
  },
  {
   "cell_type": "code",
   "execution_count": 5,
   "metadata": {
    "collapsed": false
   },
   "outputs": [
    {
     "data": {
      "text/plain": [
       "['Incident Id', 'Call Type', 'Date', 'Location', 'Incident Number']"
      ]
     },
     "execution_count": 5,
     "metadata": {},
     "output_type": "execute_result"
    }
   ],
   "source": [
    "# List out all the columns \n",
    "list(wholedf)"
   ]
  },
  {
   "cell_type": "code",
   "execution_count": 6,
   "metadata": {
    "collapsed": false
   },
   "outputs": [
    {
     "name": "stdout",
     "output_type": "stream",
     "text": [
      "<class 'pandas.core.frame.DataFrame'>\n",
      "RangeIndex: 28833 entries, 0 to 28832\n",
      "Data columns (total 5 columns):\n",
      "Incident Id        28833 non-null int64\n",
      "Call Type          28833 non-null object\n",
      "Date               28833 non-null object\n",
      "Location           28813 non-null object\n",
      "Incident Number    28833 non-null object\n",
      "dtypes: int64(1), object(4)\n",
      "memory usage: 1.1+ MB\n"
     ]
    }
   ],
   "source": [
    "# Lists summary info of datafram including count of non-null elements, data type, memory useage and range index\n",
    "wholedf.info()"
   ]
  },
  {
   "cell_type": "code",
   "execution_count": 31,
   "metadata": {
    "collapsed": false
   },
   "outputs": [
    {
     "data": {
      "text/html": [
       "<div>\n",
       "<table border=\"1\" class=\"dataframe\">\n",
       "  <thead>\n",
       "    <tr style=\"text-align: right;\">\n",
       "      <th></th>\n",
       "      <th>Incident Id</th>\n",
       "    </tr>\n",
       "  </thead>\n",
       "  <tbody>\n",
       "    <tr>\n",
       "      <th>count</th>\n",
       "      <td>28833.000000</td>\n",
       "    </tr>\n",
       "    <tr>\n",
       "      <th>mean</th>\n",
       "      <td>68692.982797</td>\n",
       "    </tr>\n",
       "    <tr>\n",
       "      <th>std</th>\n",
       "      <td>59495.371755</td>\n",
       "    </tr>\n",
       "    <tr>\n",
       "      <th>min</th>\n",
       "      <td>576.000000</td>\n",
       "    </tr>\n",
       "    <tr>\n",
       "      <th>25%</th>\n",
       "      <td>17939.000000</td>\n",
       "    </tr>\n",
       "    <tr>\n",
       "      <th>50%</th>\n",
       "      <td>47241.000000</td>\n",
       "    </tr>\n",
       "    <tr>\n",
       "      <th>75%</th>\n",
       "      <td>112475.000000</td>\n",
       "    </tr>\n",
       "    <tr>\n",
       "      <th>max</th>\n",
       "      <td>207844.000000</td>\n",
       "    </tr>\n",
       "  </tbody>\n",
       "</table>\n",
       "</div>"
      ],
      "text/plain": [
       "         Incident Id\n",
       "count   28833.000000\n",
       "mean    68692.982797\n",
       "std     59495.371755\n",
       "min       576.000000\n",
       "25%     17939.000000\n",
       "50%     47241.000000\n",
       "75%    112475.000000\n",
       "max    207844.000000"
      ]
     },
     "execution_count": 31,
     "metadata": {},
     "output_type": "execute_result"
    }
   ],
   "source": [
    "# Returns a count of not null elements in each column (much like df.info)\n",
    "wholedf.count()\n",
    "\n",
    "# Returns a list of numerical columns with total sum\n",
    "wholedf.sum()\n",
    "\n",
    "# Returns a list of numerical columns with standard deviation\n",
    "wholedf.std()\n",
    "\n",
    "# Returns a list of numerical columns with mean\n",
    "wholedf.mean()\n",
    "\n",
    "# Returns a list of numerical columns with median\n",
    "wholedf.median()\n",
    "\n",
    "# Returns the min for any float or int64\n",
    "wholedf.min()\n",
    "\n",
    "# Returns the max for any float or int64\n",
    "wholedf.max()\n",
    "\n",
    "# Mathmatical description and statistics of all numerical columns\n",
    "wholedf.describe()"
   ]
  },
  {
   "cell_type": "code",
   "execution_count": 18,
   "metadata": {
    "collapsed": false
   },
   "outputs": [
    {
     "data": {
      "text/plain": [
       "Traffic                        11747\n",
       "Noise                           3422\n",
       "Intoxication                    2640\n",
       "Trespass                        2616\n",
       "Ordinance Violation - Other     1768\n",
       "Domestic Disturbance            1429\n",
       "Mental Health Issue             1225\n",
       "Vandalism                       1222\n",
       "Burglary                         872\n",
       "Larceny - from Building          854\n",
       "Assault - Simple                 484\n",
       "Stolen Vehicle                   154\n",
       "Domestic Assault - Misd          118\n",
       "Assault - Aggravated              82\n",
       "Robbery                           67\n",
       "Larceny from a Person             53\n",
       "Airport AOA Violation             46\n",
       "Alcohol Offense                   32\n",
       "Inciting a Felony                  2\n",
       "Name: Call Type, dtype: int64"
      ]
     },
     "execution_count": 18,
     "metadata": {},
     "output_type": "execute_result"
    }
   ],
   "source": [
    "wholedf['Call Type'].value_counts()"
   ]
  },
  {
   "cell_type": "code",
   "execution_count": 11,
   "metadata": {
    "collapsed": false
   },
   "outputs": [
    {
     "data": {
      "text/html": [
       "<div>\n",
       "<table border=\"1\" class=\"dataframe\">\n",
       "  <thead>\n",
       "    <tr style=\"text-align: right;\">\n",
       "      <th></th>\n",
       "      <th>Incident Id</th>\n",
       "      <th>Call Type</th>\n",
       "      <th>Date</th>\n",
       "      <th>Location</th>\n",
       "      <th>Incident Number</th>\n",
       "    </tr>\n",
       "  </thead>\n",
       "  <tbody>\n",
       "    <tr>\n",
       "      <th>0</th>\n",
       "      <td>False</td>\n",
       "      <td>False</td>\n",
       "      <td>False</td>\n",
       "      <td>False</td>\n",
       "      <td>False</td>\n",
       "    </tr>\n",
       "    <tr>\n",
       "      <th>1</th>\n",
       "      <td>False</td>\n",
       "      <td>False</td>\n",
       "      <td>False</td>\n",
       "      <td>False</td>\n",
       "      <td>False</td>\n",
       "    </tr>\n",
       "    <tr>\n",
       "      <th>2</th>\n",
       "      <td>False</td>\n",
       "      <td>False</td>\n",
       "      <td>False</td>\n",
       "      <td>False</td>\n",
       "      <td>False</td>\n",
       "    </tr>\n",
       "    <tr>\n",
       "      <th>3</th>\n",
       "      <td>False</td>\n",
       "      <td>False</td>\n",
       "      <td>False</td>\n",
       "      <td>False</td>\n",
       "      <td>False</td>\n",
       "    </tr>\n",
       "    <tr>\n",
       "      <th>4</th>\n",
       "      <td>False</td>\n",
       "      <td>False</td>\n",
       "      <td>False</td>\n",
       "      <td>False</td>\n",
       "      <td>False</td>\n",
       "    </tr>\n",
       "  </tbody>\n",
       "</table>\n",
       "</div>"
      ],
      "text/plain": [
       "  Incident Id Call Type   Date Location Incident Number\n",
       "0       False     False  False    False           False\n",
       "1       False     False  False    False           False\n",
       "2       False     False  False    False           False\n",
       "3       False     False  False    False           False\n",
       "4       False     False  False    False           False"
      ]
     },
     "execution_count": 11,
     "metadata": {},
     "output_type": "execute_result"
    }
   ],
   "source": [
    "test = wholedf.isnull()\n",
    "test.head(5)"
   ]
  },
  {
   "cell_type": "code",
   "execution_count": 15,
   "metadata": {
    "collapsed": false
   },
   "outputs": [
    {
     "data": {
      "text/plain": [
       "Incident Id         0\n",
       "Call Type           0\n",
       "Date                0\n",
       "Location           20\n",
       "Incident Number     0\n",
       "dtype: int64"
      ]
     },
     "execution_count": 15,
     "metadata": {},
     "output_type": "execute_result"
    }
   ],
   "source": [
    "wholedf.isnull().sum()"
   ]
  },
  {
   "cell_type": "code",
   "execution_count": 16,
   "metadata": {
    "collapsed": false
   },
   "outputs": [
    {
     "data": {
      "text/plain": [
       "Incident Id        28833\n",
       "Call Type          28833\n",
       "Date               28833\n",
       "Location           28813\n",
       "Incident Number    28833\n",
       "dtype: int64"
      ]
     },
     "execution_count": 16,
     "metadata": {},
     "output_type": "execute_result"
    }
   ],
   "source": [
    "wholedf.notnull().sum()"
   ]
  },
  {
   "cell_type": "code",
   "execution_count": 9,
   "metadata": {
    "collapsed": false
   },
   "outputs": [
    {
     "ename": "NameError",
     "evalue": "name 'df' is not defined",
     "output_type": "error",
     "traceback": [
      "\u001b[0;31m---------------------------------------------------------------------------\u001b[0m",
      "\u001b[0;31mNameError\u001b[0m                                 Traceback (most recent call last)",
      "\u001b[0;32m<ipython-input-9-1ffd025ec4e4>\u001b[0m in \u001b[0;36m<module>\u001b[0;34m()\u001b[0m\n\u001b[0;32m----> 1\u001b[0;31m \u001b[0mdf\u001b[0m\u001b[1;33m[\u001b[0m\u001b[1;33m[\u001b[0m\u001b[1;34m\"HeatType\"\u001b[0m\u001b[1;33m,\u001b[0m \u001b[1;34m\"NumofRooms\"\u001b[0m\u001b[1;33m]\u001b[0m\u001b[1;33m]\u001b[0m\u001b[1;33m.\u001b[0m\u001b[0mgroupby\u001b[0m\u001b[1;33m(\u001b[0m\u001b[1;33m[\u001b[0m\u001b[1;34m'HeatType'\u001b[0m\u001b[1;33m]\u001b[0m\u001b[1;33m,\u001b[0m \u001b[0mas_index\u001b[0m\u001b[1;33m=\u001b[0m\u001b[1;32mFalse\u001b[0m\u001b[1;33m)\u001b[0m\u001b[1;33m.\u001b[0m\u001b[0mcount\u001b[0m\u001b[1;33m(\u001b[0m\u001b[1;33m)\u001b[0m\u001b[1;33m.\u001b[0m\u001b[0msort_values\u001b[0m\u001b[1;33m(\u001b[0m\u001b[0mby\u001b[0m\u001b[1;33m=\u001b[0m\u001b[1;34m'NumofRooms'\u001b[0m\u001b[1;33m,\u001b[0m\u001b[0mascending\u001b[0m\u001b[1;33m=\u001b[0m\u001b[1;36m0\u001b[0m\u001b[1;33m)\u001b[0m\u001b[1;33m\u001b[0m\u001b[0m\n\u001b[0m",
      "\u001b[0;31mNameError\u001b[0m: name 'df' is not defined"
     ]
    }
   ],
   "source": [
    "# A subdf is used in case perimeters need to be changed\n",
    "subdf = wholedf\n",
    "locchurchdf = subdf[(subdf['Location'] == \"church st\")]\n",
    "locmaindf = subdf[(subdf['Location'] == \"main st\")]"
   ]
  },
  {
   "cell_type": "code",
   "execution_count": null,
   "metadata": {
    "collapsed": false
   },
   "outputs": [],
   "source": []
  },
  {
   "cell_type": "code",
   "execution_count": 21,
   "metadata": {
    "collapsed": false
   },
   "outputs": [
    {
     "data": {
      "text/html": [
       "<div>\n",
       "<table border=\"1\" class=\"dataframe\">\n",
       "  <thead>\n",
       "    <tr style=\"text-align: right;\">\n",
       "      <th></th>\n",
       "      <th>Type</th>\n",
       "      <th>Count</th>\n",
       "      <th>Total</th>\n",
       "      <th>Percentage</th>\n",
       "    </tr>\n",
       "  </thead>\n",
       "  <tbody>\n",
       "    <tr>\n",
       "      <th>16</th>\n",
       "      <td>Traffic</td>\n",
       "      <td>11747</td>\n",
       "      <td>28833</td>\n",
       "      <td>0.407415</td>\n",
       "    </tr>\n",
       "    <tr>\n",
       "      <th>12</th>\n",
       "      <td>Noise</td>\n",
       "      <td>3422</td>\n",
       "      <td>28833</td>\n",
       "      <td>0.118683</td>\n",
       "    </tr>\n",
       "    <tr>\n",
       "      <th>8</th>\n",
       "      <td>Intoxication</td>\n",
       "      <td>2640</td>\n",
       "      <td>28833</td>\n",
       "      <td>0.091562</td>\n",
       "    </tr>\n",
       "    <tr>\n",
       "      <th>17</th>\n",
       "      <td>Trespass</td>\n",
       "      <td>2616</td>\n",
       "      <td>28833</td>\n",
       "      <td>0.090729</td>\n",
       "    </tr>\n",
       "    <tr>\n",
       "      <th>13</th>\n",
       "      <td>Ordinance Violation - Other</td>\n",
       "      <td>1768</td>\n",
       "      <td>28833</td>\n",
       "      <td>0.061319</td>\n",
       "    </tr>\n",
       "    <tr>\n",
       "      <th>6</th>\n",
       "      <td>Domestic Disturbance</td>\n",
       "      <td>1429</td>\n",
       "      <td>28833</td>\n",
       "      <td>0.049561</td>\n",
       "    </tr>\n",
       "    <tr>\n",
       "      <th>11</th>\n",
       "      <td>Mental Health Issue</td>\n",
       "      <td>1225</td>\n",
       "      <td>28833</td>\n",
       "      <td>0.042486</td>\n",
       "    </tr>\n",
       "    <tr>\n",
       "      <th>18</th>\n",
       "      <td>Vandalism</td>\n",
       "      <td>1222</td>\n",
       "      <td>28833</td>\n",
       "      <td>0.042382</td>\n",
       "    </tr>\n",
       "    <tr>\n",
       "      <th>4</th>\n",
       "      <td>Burglary</td>\n",
       "      <td>872</td>\n",
       "      <td>28833</td>\n",
       "      <td>0.030243</td>\n",
       "    </tr>\n",
       "    <tr>\n",
       "      <th>9</th>\n",
       "      <td>Larceny - from Building</td>\n",
       "      <td>854</td>\n",
       "      <td>28833</td>\n",
       "      <td>0.029619</td>\n",
       "    </tr>\n",
       "    <tr>\n",
       "      <th>3</th>\n",
       "      <td>Assault - Simple</td>\n",
       "      <td>484</td>\n",
       "      <td>28833</td>\n",
       "      <td>0.016786</td>\n",
       "    </tr>\n",
       "    <tr>\n",
       "      <th>15</th>\n",
       "      <td>Stolen Vehicle</td>\n",
       "      <td>154</td>\n",
       "      <td>28833</td>\n",
       "      <td>0.005341</td>\n",
       "    </tr>\n",
       "    <tr>\n",
       "      <th>5</th>\n",
       "      <td>Domestic Assault - Misd</td>\n",
       "      <td>118</td>\n",
       "      <td>28833</td>\n",
       "      <td>0.004093</td>\n",
       "    </tr>\n",
       "    <tr>\n",
       "      <th>2</th>\n",
       "      <td>Assault - Aggravated</td>\n",
       "      <td>82</td>\n",
       "      <td>28833</td>\n",
       "      <td>0.002844</td>\n",
       "    </tr>\n",
       "    <tr>\n",
       "      <th>14</th>\n",
       "      <td>Robbery</td>\n",
       "      <td>67</td>\n",
       "      <td>28833</td>\n",
       "      <td>0.002324</td>\n",
       "    </tr>\n",
       "  </tbody>\n",
       "</table>\n",
       "</div>"
      ],
      "text/plain": [
       "                           Type  Count  Total  Percentage\n",
       "16                      Traffic  11747  28833    0.407415\n",
       "12                        Noise   3422  28833    0.118683\n",
       "8                  Intoxication   2640  28833    0.091562\n",
       "17                     Trespass   2616  28833    0.090729\n",
       "13  Ordinance Violation - Other   1768  28833    0.061319\n",
       "6          Domestic Disturbance   1429  28833    0.049561\n",
       "11          Mental Health Issue   1225  28833    0.042486\n",
       "18                    Vandalism   1222  28833    0.042382\n",
       "4                      Burglary    872  28833    0.030243\n",
       "9       Larceny - from Building    854  28833    0.029619\n",
       "3              Assault - Simple    484  28833    0.016786\n",
       "15               Stolen Vehicle    154  28833    0.005341\n",
       "5       Domestic Assault - Misd    118  28833    0.004093\n",
       "2          Assault - Aggravated     82  28833    0.002844\n",
       "14                      Robbery     67  28833    0.002324"
      ]
     },
     "execution_count": 21,
     "metadata": {},
     "output_type": "execute_result"
    }
   ],
   "source": [
    "countviolationdf = wholedf[['Call Type', 'Date']].groupby(['Call Type'], as_index=False).count().sort_values(by='Date',ascending=0)\n",
    "countviolationdf.columns = ['Type','Count']\n",
    "countviolationdf['Total']= countviolationdf['Count'].sum()\n",
    "countviolationdf['Percentage'] = countviolationdf['Count'] / countviolationdf['Total']\n",
    "countviolationdf.head(15)"
   ]
  },
  {
   "cell_type": "code",
   "execution_count": 17,
   "metadata": {
    "collapsed": false
   },
   "outputs": [
    {
     "data": {
      "text/plain": [
       "array(['Park St', 'S Winooski Ave/Bank St', 'Pearl St', ...,\n",
       "       'Summer St/Front St', 'Intervale', 'Pine Pl/St Paul St'], dtype=object)"
      ]
     },
     "execution_count": 17,
     "metadata": {},
     "output_type": "execute_result"
    }
   ],
   "source": [
    "pd.unique(wholedf.Location)"
   ]
  },
  {
   "cell_type": "code",
   "execution_count": null,
   "metadata": {
    "collapsed": true
   },
   "outputs": [],
   "source": []
  },
  {
   "cell_type": "code",
   "execution_count": null,
   "metadata": {
    "collapsed": true
   },
   "outputs": [],
   "source": [
    "# make all location lower case\n",
    "wholedf.Location = wholedf.Location.str.lower()\n",
    "\n",
    "# Split it into two parts\n",
    "wholedf['Street1'], wholedf['Street2'] = wholedf['Location'].str.split('/', 1).str\n",
    "\n",
    "# Remove trailing spaces from string\n",
    "wholedf['Street1'] = wholedf.Street1.str.rstrip()\n",
    "wholedf['Street2'] = wholedf.Street2.str.rstrip()"
   ]
  },
  {
   "cell_type": "code",
   "execution_count": null,
   "metadata": {
    "collapsed": true
   },
   "outputs": [],
   "source": [
    "# Convert Date to datetime value and Split date out into seperate date and time only\n",
    "wholedf['Date'] = pd.to_datetime(wholedf['Date'])\n",
    "wholedf['timeonly'],wholedf['dateonly']= wholedf['Date'].apply(lambda x:x.time()), wholedf['Date'].apply(lambda x:x.date())\n",
    "wholedf.head(5)"
   ]
  },
  {
   "cell_type": "code",
   "execution_count": 7,
   "metadata": {
    "collapsed": false
   },
   "outputs": [],
   "source": [
    "#wholedf.Location.str.len()"
   ]
  },
  {
   "cell_type": "code",
   "execution_count": 22,
   "metadata": {
    "collapsed": false
   },
   "outputs": [
    {
     "ename": "NameError",
     "evalue": "name 'sns' is not defined",
     "output_type": "error",
     "traceback": [
      "\u001b[0;31m---------------------------------------------------------------------------\u001b[0m",
      "\u001b[0;31mNameError\u001b[0m                                 Traceback (most recent call last)",
      "\u001b[0;32m<ipython-input-22-3696f0c00784>\u001b[0m in \u001b[0;36m<module>\u001b[0;34m()\u001b[0m\n\u001b[0;32m----> 1\u001b[0;31m \u001b[0msns\u001b[0m\u001b[1;33m.\u001b[0m\u001b[0mcountplot\u001b[0m\u001b[1;33m(\u001b[0m\u001b[0my\u001b[0m\u001b[1;33m=\u001b[0m\u001b[1;34m\"Call Type\"\u001b[0m\u001b[1;33m,\u001b[0m \u001b[0mdata\u001b[0m\u001b[1;33m=\u001b[0m\u001b[0mwholedf\u001b[0m\u001b[1;33m,\u001b[0m \u001b[0morder\u001b[0m\u001b[1;33m=\u001b[0m\u001b[0mcountviolationdf\u001b[0m\u001b[1;33m[\u001b[0m\u001b[1;34m'Type'\u001b[0m\u001b[1;33m]\u001b[0m\u001b[1;33m,\u001b[0m \u001b[0mpalette\u001b[0m\u001b[1;33m=\u001b[0m\u001b[1;34m\"Blues_r\"\u001b[0m\u001b[1;33m)\u001b[0m\u001b[1;33m\u001b[0m\u001b[0m\n\u001b[0m\u001b[1;32m      2\u001b[0m \u001b[0mplt\u001b[0m\u001b[1;33m.\u001b[0m\u001b[0mtitle\u001b[0m\u001b[1;33m(\u001b[0m\u001b[1;34m\"Total Count Per Violation\"\u001b[0m\u001b[1;33m)\u001b[0m\u001b[1;33m\u001b[0m\u001b[0m\n\u001b[1;32m      3\u001b[0m \u001b[0mplt\u001b[0m\u001b[1;33m.\u001b[0m\u001b[0mshow\u001b[0m\u001b[1;33m(\u001b[0m\u001b[1;33m)\u001b[0m\u001b[1;33m\u001b[0m\u001b[0m\n",
      "\u001b[0;31mNameError\u001b[0m: name 'sns' is not defined"
     ]
    }
   ],
   "source": [
    "sns.countplot(y=\"Call Type\", data=wholedf, order=countviolationdf['Type'], palette=\"Blues_r\")\n",
    "plt.title(\"Total Count Per Violation\")\n",
    "plt.show()"
   ]
  },
  {
   "cell_type": "code",
   "execution_count": null,
   "metadata": {
    "collapsed": false
   },
   "outputs": [],
   "source": [
    "%timeit [column for column in wholedf]"
   ]
  },
  {
   "cell_type": "code",
   "execution_count": null,
   "metadata": {
    "collapsed": true
   },
   "outputs": [],
   "source": []
  },
  {
   "cell_type": "code",
   "execution_count": null,
   "metadata": {
    "collapsed": false
   },
   "outputs": [],
   "source": [
    "%timeit wholedf.columns.values.tolist()"
   ]
  },
  {
   "cell_type": "code",
   "execution_count": null,
   "metadata": {
    "collapsed": false
   },
   "outputs": [],
   "source": [
    "% timeit list(wholedf.columns.values)"
   ]
  },
  {
   "cell_type": "code",
   "execution_count": null,
   "metadata": {
    "collapsed": false
   },
   "outputs": [],
   "source": [
    "%timeit list(wholedf)"
   ]
  }
 ],
 "metadata": {
  "kernelspec": {
   "display_name": "Python [conda root]",
   "language": "python",
   "name": "conda-root-py"
  },
  "language_info": {
   "codemirror_mode": {
    "name": "ipython",
    "version": 3
   },
   "file_extension": ".py",
   "mimetype": "text/x-python",
   "name": "python",
   "nbconvert_exporter": "python",
   "pygments_lexer": "ipython3",
   "version": "3.5.2"
  }
 },
 "nbformat": 4,
 "nbformat_minor": 1
}
