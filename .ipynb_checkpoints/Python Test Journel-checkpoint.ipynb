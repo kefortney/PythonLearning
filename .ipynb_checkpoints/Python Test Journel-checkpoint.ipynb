{
 "cells": [
  {
   "cell_type": "code",
   "execution_count": 13,
   "metadata": {
    "collapsed": false
   },
   "outputs": [
    {
     "data": {
      "text/html": [
       "<div>\n",
       "<table border=\"1\" class=\"dataframe\">\n",
       "  <thead>\n",
       "    <tr style=\"text-align: right;\">\n",
       "      <th></th>\n",
       "      <th>ParcelID</th>\n",
       "      <th>AccountNumber</th>\n",
       "      <th>SpanNumber</th>\n",
       "      <th>StreetNumber</th>\n",
       "      <th>CuO1LastName</th>\n",
       "      <th>CuO1FirstName</th>\n",
       "      <th>LandUse</th>\n",
       "      <th>CurrentAcres</th>\n",
       "      <th>TotalGrossArea</th>\n",
       "      <th>FinishedArea</th>\n",
       "      <th>...</th>\n",
       "      <th>SalePrice</th>\n",
       "      <th>NumofRooms</th>\n",
       "      <th>NumofBedrooms</th>\n",
       "      <th>Bath1</th>\n",
       "      <th>Bath2</th>\n",
       "      <th>NumofUnits</th>\n",
       "      <th>ZoningCode</th>\n",
       "      <th>Foundation</th>\n",
       "      <th>Depreciation</th>\n",
       "      <th>PropertyCenterPoint</th>\n",
       "    </tr>\n",
       "  </thead>\n",
       "  <tbody>\n",
       "    <tr>\n",
       "      <th>0</th>\n",
       "      <td>046-1-013-000</td>\n",
       "      <td>6416</td>\n",
       "      <td>114-035-16416</td>\n",
       "      <td>184</td>\n",
       "      <td>BRACE</td>\n",
       "      <td>WILLIAM H</td>\n",
       "      <td>2 Family</td>\n",
       "      <td>0.34</td>\n",
       "      <td>3344.0</td>\n",
       "      <td>1609.5</td>\n",
       "      <td>...</td>\n",
       "      <td>NaN</td>\n",
       "      <td>10</td>\n",
       "      <td>4</td>\n",
       "      <td>2</td>\n",
       "      <td>0</td>\n",
       "      <td>2</td>\n",
       "      <td>NACR</td>\n",
       "      <td>BS</td>\n",
       "      <td>0.3</td>\n",
       "      <td>(-73.191, 44.48612)</td>\n",
       "    </tr>\n",
       "  </tbody>\n",
       "</table>\n",
       "<p>1 rows × 30 columns</p>\n",
       "</div>"
      ],
      "text/plain": [
       "        ParcelID  AccountNumber     SpanNumber StreetNumber CuO1LastName  \\\n",
       "0  046-1-013-000           6416  114-035-16416          184        BRACE   \n",
       "\n",
       "  CuO1FirstName   LandUse  CurrentAcres  TotalGrossArea  FinishedArea  \\\n",
       "0     WILLIAM H  2 Family          0.34          3344.0        1609.5   \n",
       "\n",
       "          ...           SalePrice  NumofRooms  NumofBedrooms  Bath1 Bath2  \\\n",
       "0         ...                 NaN          10              4      2     0   \n",
       "\n",
       "  NumofUnits ZoningCode Foundation  Depreciation  PropertyCenterPoint  \n",
       "0          2       NACR         BS           0.3  (-73.191, 44.48612)  \n",
       "\n",
       "[1 rows x 30 columns]"
      ]
     },
     "execution_count": 13,
     "metadata": {},
     "output_type": "execute_result"
    }
   ],
   "source": [
    "%matplotlib inline\n",
    "import pandas as pd\n",
    "import matplotlib.pyplot as plt\n",
    "import numpy as np\n",
    "property = pd.read_csv('~/Desktop/pythonexplore/BurlingtonPropertyDetails.csv')\n",
    "property.head(1)"
   ]
  },
  {
   "cell_type": "code",
   "execution_count": 20,
   "metadata": {
    "collapsed": false,
    "scrolled": true
   },
   "outputs": [
    {
     "data": {
      "text/plain": [
       "<matplotlib.collections.PathCollection at 0x1110498d0>"
      ]
     },
     "execution_count": 20,
     "metadata": {},
     "output_type": "execute_result"
    },
    {
     "data": {
      "image/png": "[encoded data removed]",
      "text/plain": [
       "<matplotlib.figure.Figure at 0x10df639b0>"
      ]
     },
     "metadata": {},
     "output_type": "display_data"
    }
   ],
   "source": [
    "shortyummy = property[['Bath1','Bath2','NumofBedrooms']]\n",
    "plt.scatter(shortyummy['Bath2'],shortyummy['Bath1'])"
   ]
  },
  {
   "cell_type": "markdown",
   "metadata": {},
   "source": [
    "Take the propert data set, return columns CurrentAcres\tTotalGrossArea\tFinishedArea only.  Then refine the dataset to not have any values over 150,000 to removed the larger multifamily homes.  Plot the values as a matplotlib scatter plot."
   ]
  },
  {
   "cell_type": "code",
   "execution_count": 30,
   "metadata": {
    "collapsed": false,
    "scrolled": true
   },
   "outputs": [
    {
     "data": {
      "text/plain": [
       "<matplotlib.collections.PathCollection at 0x10e2d5c18>"
      ]
     },
     "execution_count": 30,
     "metadata": {},
     "output_type": "execute_result"
    },
    {
     "data": {
      "image/png": "[encoded data removed]",
      "text/plain": [
       "<matplotlib.figure.Figure at 0x111b0ebe0>"
      ]
     },
     "metadata": {},
     "output_type": "display_data"
    }
   ],
   "source": [
    "size = property.ix[:,'CurrentAcres':'FinishedArea']\n",
    "sizerefined = size[(size['FinishedArea'] < 150000) & (size['TotalGrossArea'] < 150000)]\n",
    "plt.scatter(sizerefined['TotalGrossArea'],sizerefined['FinishedArea'])"
   ]
  },
  {
   "cell_type": "code",
   "execution_count": null,
   "metadata": {
    "collapsed": true
   },
   "outputs": [],
   "source": []
  },
  {
   "cell_type": "code",
   "execution_count": 3,
   "metadata": {
    "collapsed": true
   },
   "outputs": [],
   "source": []
  },
  {
   "cell_type": "code",
   "execution_count": null,
   "metadata": {
    "collapsed": true
   },
   "outputs": [],
   "source": []
  }
 ],
 "metadata": {
  "anaconda-cloud": {},
  "kernelspec": {
   "display_name": "Python [conda root]",
   "language": "python",
   "name": "conda-root-py"
  },
  "language_info": {
   "codemirror_mode": {
    "name": "ipython",
    "version": 3
   },
   "file_extension": ".py",
   "mimetype": "text/x-python",
   "name": "python",
   "nbconvert_exporter": "python",
   "pygments_lexer": "ipython3",
   "version": "3.5.2"
  }
 },
 "nbformat": 4,
 "nbformat_minor": 1
}
