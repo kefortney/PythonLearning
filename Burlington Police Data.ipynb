{
 "cells": [
  {
   "cell_type": "code",
   "execution_count": 1,
   "metadata": {
    "collapsed": false
   },
   "outputs": [
    {
     "name": "stderr",
     "output_type": "stream",
     "text": [
      "C:\\Users\\kefor\\Anaconda3\\lib\\site-packages\\sklearn\\cross_validation.py:44: DeprecationWarning: This module was deprecated in version 0.18 in favor of the model_selection module into which all the refactored classes and functions are moved. Also note that the interface of the new CV iterators are different from that of this module. This module will be removed in 0.20.\n",
      "  \"This module will be removed in 0.20.\", DeprecationWarning)\n"
     ]
    }
   ],
   "source": [
    "%matplotlib inline\n",
    "# Handle table-like data and matrices\n",
    "import numpy as np\n",
    "import pandas as pd\n",
    "import re\n",
    "\n",
    "# Modelling Algorithms\n",
    "from sklearn.tree import DecisionTreeClassifier\n",
    "from sklearn.linear_model import LogisticRegression, LassoLarsCV,Ridge\n",
    "from sklearn.neighbors import KNeighborsClassifier\n",
    "from sklearn.naive_bayes import GaussianNB\n",
    "from sklearn.svm import SVC, LinearSVC\n",
    "from sklearn.ensemble import RandomForestClassifier , GradientBoostingClassifier, RandomForestRegressor\n",
    "\n",
    "# Modelling Helpers\n",
    "from sklearn.preprocessing import Imputer , Normalizer , scale\n",
    "from sklearn.cross_validation import train_test_split , StratifiedKFold\n",
    "from sklearn.model_selection import KFold\n",
    "from sklearn.feature_selection import RFECV\n",
    "from sklearn.preprocessing import LabelEncoder,OneHotEncoder\n",
    "\n",
    "# Visualisation\n",
    "import matplotlib \n",
    "import matplotlib.pyplot as plt\n",
    "import matplotlib.pylab as pylab\n",
    "import seaborn as sns\n",
    "\n",
    "# Configure visualisations\n",
    "sns.set(style=\"ticks\")"
   ]
  },
  {
   "cell_type": "code",
   "execution_count": 4,
   "metadata": {
    "collapsed": false
   },
   "outputs": [
    {
     "data": {
      "text/html": [
       "<div>\n",
       "<table border=\"1\" class=\"dataframe\">\n",
       "  <thead>\n",
       "    <tr style=\"text-align: right;\">\n",
       "      <th></th>\n",
       "      <th>Incident Id</th>\n",
       "      <th>Call Type</th>\n",
       "      <th>Date</th>\n",
       "      <th>Location</th>\n",
       "      <th>Incident Number</th>\n",
       "    </tr>\n",
       "  </thead>\n",
       "  <tbody>\n",
       "    <tr>\n",
       "      <th>0</th>\n",
       "      <td>576</td>\n",
       "      <td>Domestic Disturbance</td>\n",
       "      <td>10/01/2011 07:10:00 PM</td>\n",
       "      <td>Park St</td>\n",
       "      <td>11BU023135</td>\n",
       "    </tr>\n",
       "    <tr>\n",
       "      <th>1</th>\n",
       "      <td>584</td>\n",
       "      <td>Traffic</td>\n",
       "      <td>10/01/2011 08:58:00 PM</td>\n",
       "      <td>S Winooski Ave/Bank St</td>\n",
       "      <td>11BU023143</td>\n",
       "    </tr>\n",
       "    <tr>\n",
       "      <th>2</th>\n",
       "      <td>586</td>\n",
       "      <td>Intoxication</td>\n",
       "      <td>10/01/2011 09:13:00 PM</td>\n",
       "      <td>Pearl St</td>\n",
       "      <td>11BU023145</td>\n",
       "    </tr>\n",
       "    <tr>\n",
       "      <th>3</th>\n",
       "      <td>587</td>\n",
       "      <td>Noise</td>\n",
       "      <td>10/01/2011 09:25:00 PM</td>\n",
       "      <td>No Willard St</td>\n",
       "      <td>11BU023146</td>\n",
       "    </tr>\n",
       "    <tr>\n",
       "      <th>4</th>\n",
       "      <td>591</td>\n",
       "      <td>Noise</td>\n",
       "      <td>10/01/2011 10:03:00 PM</td>\n",
       "      <td>Peru St</td>\n",
       "      <td>11BU023150</td>\n",
       "    </tr>\n",
       "  </tbody>\n",
       "</table>\n",
       "</div>"
      ],
      "text/plain": [
       "   Incident Id             Call Type                    Date  \\\n",
       "0          576  Domestic Disturbance  10/01/2011 07:10:00 PM   \n",
       "1          584               Traffic  10/01/2011 08:58:00 PM   \n",
       "2          586          Intoxication  10/01/2011 09:13:00 PM   \n",
       "3          587                 Noise  10/01/2011 09:25:00 PM   \n",
       "4          591                 Noise  10/01/2011 10:03:00 PM   \n",
       "\n",
       "                 Location Incident Number  \n",
       "0                 Park St      11BU023135  \n",
       "1  S Winooski Ave/Bank St      11BU023143  \n",
       "2                Pearl St      11BU023145  \n",
       "3           No Willard St      11BU023146  \n",
       "4                 Peru St      11BU023150  "
      ]
     },
     "execution_count": 4,
     "metadata": {},
     "output_type": "execute_result"
    }
   ],
   "source": [
    "wholedf = pd.read_csv('~/Desktop/PythonLearning/Police_Incident_Log.csv')\n",
    "wholedf.head()"
   ]
  },
  {
   "cell_type": "code",
   "execution_count": 5,
   "metadata": {
    "collapsed": false
   },
   "outputs": [
    {
     "name": "stdout",
     "output_type": "stream",
     "text": [
      "<class 'pandas.core.frame.DataFrame'>\n",
      "RangeIndex: 28833 entries, 0 to 28832\n",
      "Data columns (total 5 columns):\n",
      "Incident Id        28833 non-null int64\n",
      "Call Type          28833 non-null object\n",
      "Date               28833 non-null object\n",
      "Location           28813 non-null object\n",
      "Incident Number    28833 non-null object\n",
      "dtypes: int64(1), object(4)\n",
      "memory usage: 1.1+ MB\n"
     ]
    }
   ],
   "source": [
    "wholedf.info()"
   ]
  },
  {
   "cell_type": "code",
   "execution_count": 6,
   "metadata": {
    "collapsed": true
   },
   "outputs": [],
   "source": [
    "wholedf['Date'] = pd.to_datetime(wholedf['Date'])"
   ]
  },
  {
   "cell_type": "code",
   "execution_count": 7,
   "metadata": {
    "collapsed": false
   },
   "outputs": [
    {
     "name": "stdout",
     "output_type": "stream",
     "text": [
      "<class 'pandas.core.frame.DataFrame'>\n",
      "RangeIndex: 28833 entries, 0 to 28832\n",
      "Data columns (total 5 columns):\n",
      "Incident Id        28833 non-null int64\n",
      "Call Type          28833 non-null object\n",
      "Date               28833 non-null datetime64[ns]\n",
      "Location           28813 non-null object\n",
      "Incident Number    28833 non-null object\n",
      "dtypes: datetime64[ns](1), int64(1), object(3)\n",
      "memory usage: 1.1+ MB\n"
     ]
    }
   ],
   "source": [
    "wholedf.info()"
   ]
  },
  {
   "cell_type": "code",
   "execution_count": 8,
   "metadata": {
    "collapsed": false
   },
   "outputs": [
    {
     "data": {
      "text/html": [
       "<div>\n",
       "<table border=\"1\" class=\"dataframe\">\n",
       "  <thead>\n",
       "    <tr style=\"text-align: right;\">\n",
       "      <th></th>\n",
       "      <th>Incident Id</th>\n",
       "      <th>Call Type</th>\n",
       "      <th>Date</th>\n",
       "      <th>Location</th>\n",
       "      <th>Incident Number</th>\n",
       "    </tr>\n",
       "  </thead>\n",
       "  <tbody>\n",
       "    <tr>\n",
       "      <th>0</th>\n",
       "      <td>576</td>\n",
       "      <td>Domestic Disturbance</td>\n",
       "      <td>2011-10-01 19:10:00</td>\n",
       "      <td>Park St</td>\n",
       "      <td>11BU023135</td>\n",
       "    </tr>\n",
       "    <tr>\n",
       "      <th>1</th>\n",
       "      <td>584</td>\n",
       "      <td>Traffic</td>\n",
       "      <td>2011-10-01 20:58:00</td>\n",
       "      <td>S Winooski Ave/Bank St</td>\n",
       "      <td>11BU023143</td>\n",
       "    </tr>\n",
       "    <tr>\n",
       "      <th>2</th>\n",
       "      <td>586</td>\n",
       "      <td>Intoxication</td>\n",
       "      <td>2011-10-01 21:13:00</td>\n",
       "      <td>Pearl St</td>\n",
       "      <td>11BU023145</td>\n",
       "    </tr>\n",
       "    <tr>\n",
       "      <th>3</th>\n",
       "      <td>587</td>\n",
       "      <td>Noise</td>\n",
       "      <td>2011-10-01 21:25:00</td>\n",
       "      <td>No Willard St</td>\n",
       "      <td>11BU023146</td>\n",
       "    </tr>\n",
       "    <tr>\n",
       "      <th>4</th>\n",
       "      <td>591</td>\n",
       "      <td>Noise</td>\n",
       "      <td>2011-10-01 22:03:00</td>\n",
       "      <td>Peru St</td>\n",
       "      <td>11BU023150</td>\n",
       "    </tr>\n",
       "  </tbody>\n",
       "</table>\n",
       "</div>"
      ],
      "text/plain": [
       "   Incident Id             Call Type                Date  \\\n",
       "0          576  Domestic Disturbance 2011-10-01 19:10:00   \n",
       "1          584               Traffic 2011-10-01 20:58:00   \n",
       "2          586          Intoxication 2011-10-01 21:13:00   \n",
       "3          587                 Noise 2011-10-01 21:25:00   \n",
       "4          591                 Noise 2011-10-01 22:03:00   \n",
       "\n",
       "                 Location Incident Number  \n",
       "0                 Park St      11BU023135  \n",
       "1  S Winooski Ave/Bank St      11BU023143  \n",
       "2                Pearl St      11BU023145  \n",
       "3           No Willard St      11BU023146  \n",
       "4                 Peru St      11BU023150  "
      ]
     },
     "execution_count": 8,
     "metadata": {},
     "output_type": "execute_result"
    }
   ],
   "source": [
    "wholedf.head()"
   ]
  },
  {
   "cell_type": "code",
   "execution_count": 84,
   "metadata": {
    "collapsed": false
   },
   "outputs": [
    {
     "data": {
      "text/plain": [
       "0         \n",
       "1         \n",
       "2         \n",
       "3         \n",
       "4         \n",
       "5         \n",
       "6         \n",
       "7         \n",
       "8         \n",
       "9         \n",
       "10        \n",
       "11        \n",
       "12        \n",
       "13        \n",
       "14        \n",
       "15        \n",
       "16        \n",
       "17        \n",
       "18        \n",
       "19        \n",
       "20        \n",
       "21        \n",
       "22        \n",
       "23        \n",
       "24        \n",
       "25        \n",
       "26        \n",
       "27        \n",
       "28        \n",
       "29        \n",
       "        ..\n",
       "28803     \n",
       "28804     \n",
       "28805     \n",
       "28806     \n",
       "28807     \n",
       "28808     \n",
       "28809     \n",
       "28810     \n",
       "28811     \n",
       "28812     \n",
       "28813     \n",
       "28814     \n",
       "28815     \n",
       "28816     \n",
       "28817     \n",
       "28818     \n",
       "28819     \n",
       "28820     \n",
       "28821     \n",
       "28822     \n",
       "28823     \n",
       "28824     \n",
       "28825     \n",
       "28826     \n",
       "28827     \n",
       "28828     \n",
       "28829     \n",
       "28830     \n",
       "28831     \n",
       "28832     \n",
       "Name: Location, dtype: object"
      ]
     },
     "execution_count": 84,
     "metadata": {},
     "output_type": "execute_result"
    }
   ],
   "source": [
    "wholedf['Location'] = str(wholedf['Location'])\n",
    "\n",
    "import re\n",
    "\n",
    "# function to get the title from a name.\n",
    "def get_title(name):\n",
    "    # Use a regular expression to search for a title.  Titles always consist of capital and lowercase letters, and end with a period.\n",
    "    title_search = re.search(' ([A-Za-z]+)\\/', name)\n",
    "    #If the title exists, extract and return it.\n",
    "    if title_search:\n",
    "        return title_search.group(1)\n",
    "    return \"\"\n",
    "\n",
    "# Get all the titles\n",
    "titles = wholedf['Location'].apply(get_title)\n",
    "\n",
    "titles\n",
    "#Add in the title column with all the current values so we can then manually change them\n",
    "#train_df[\"Title\"] = titles"
   ]
  },
  {
   "cell_type": "code",
   "execution_count": null,
   "metadata": {
    "collapsed": true
   },
   "outputs": [],
   "source": []
  },
  {
   "cell_type": "code",
   "execution_count": 92,
   "metadata": {
    "collapsed": false
   },
   "outputs": [
    {
     "data": {
      "text/html": [
       "<div>\n",
       "<table border=\"1\" class=\"dataframe\">\n",
       "  <thead>\n",
       "    <tr style=\"text-align: right;\">\n",
       "      <th></th>\n",
       "      <th>Count</th>\n",
       "    </tr>\n",
       "    <tr>\n",
       "      <th>Call Type</th>\n",
       "      <th></th>\n",
       "    </tr>\n",
       "  </thead>\n",
       "  <tbody>\n",
       "    <tr>\n",
       "      <th>Traffic</th>\n",
       "      <td>11747</td>\n",
       "    </tr>\n",
       "    <tr>\n",
       "      <th>Noise</th>\n",
       "      <td>3422</td>\n",
       "    </tr>\n",
       "    <tr>\n",
       "      <th>Intoxication</th>\n",
       "      <td>2640</td>\n",
       "    </tr>\n",
       "    <tr>\n",
       "      <th>Trespass</th>\n",
       "      <td>2616</td>\n",
       "    </tr>\n",
       "    <tr>\n",
       "      <th>Ordinance Violation - Other</th>\n",
       "      <td>1768</td>\n",
       "    </tr>\n",
       "    <tr>\n",
       "      <th>Domestic Disturbance</th>\n",
       "      <td>1429</td>\n",
       "    </tr>\n",
       "    <tr>\n",
       "      <th>Mental Health Issue</th>\n",
       "      <td>1225</td>\n",
       "    </tr>\n",
       "    <tr>\n",
       "      <th>Vandalism</th>\n",
       "      <td>1222</td>\n",
       "    </tr>\n",
       "    <tr>\n",
       "      <th>Burglary</th>\n",
       "      <td>872</td>\n",
       "    </tr>\n",
       "    <tr>\n",
       "      <th>Larceny - from Building</th>\n",
       "      <td>854</td>\n",
       "    </tr>\n",
       "    <tr>\n",
       "      <th>Assault - Simple</th>\n",
       "      <td>484</td>\n",
       "    </tr>\n",
       "    <tr>\n",
       "      <th>Stolen Vehicle</th>\n",
       "      <td>154</td>\n",
       "    </tr>\n",
       "    <tr>\n",
       "      <th>Domestic Assault - Misd</th>\n",
       "      <td>118</td>\n",
       "    </tr>\n",
       "    <tr>\n",
       "      <th>Assault - Aggravated</th>\n",
       "      <td>82</td>\n",
       "    </tr>\n",
       "    <tr>\n",
       "      <th>Robbery</th>\n",
       "      <td>67</td>\n",
       "    </tr>\n",
       "    <tr>\n",
       "      <th>Larceny from a Person</th>\n",
       "      <td>53</td>\n",
       "    </tr>\n",
       "    <tr>\n",
       "      <th>Airport AOA Violation</th>\n",
       "      <td>46</td>\n",
       "    </tr>\n",
       "    <tr>\n",
       "      <th>Alcohol Offense</th>\n",
       "      <td>32</td>\n",
       "    </tr>\n",
       "    <tr>\n",
       "      <th>Inciting a Felony</th>\n",
       "      <td>2</td>\n",
       "    </tr>\n",
       "  </tbody>\n",
       "</table>\n",
       "</div>"
      ],
      "text/plain": [
       "                             Count\n",
       "Call Type                         \n",
       "Traffic                      11747\n",
       "Noise                         3422\n",
       "Intoxication                  2640\n",
       "Trespass                      2616\n",
       "Ordinance Violation - Other   1768\n",
       "Domestic Disturbance          1429\n",
       "Mental Health Issue           1225\n",
       "Vandalism                     1222\n",
       "Burglary                       872\n",
       "Larceny - from Building        854\n",
       "Assault - Simple               484\n",
       "Stolen Vehicle                 154\n",
       "Domestic Assault - Misd        118\n",
       "Assault - Aggravated            82\n",
       "Robbery                         67\n",
       "Larceny from a Person           53\n",
       "Airport AOA Violation           46\n",
       "Alcohol Offense                 32\n",
       "Inciting a Felony                2"
      ]
     },
     "execution_count": 92,
     "metadata": {},
     "output_type": "execute_result"
    }
   ],
   "source": [
    "calltype = wholedf.groupby('Call Type').size(); \n",
    "calltype = calltype.to_frame()\n",
    "calltype.columns = ['Count']\n",
    "calltype = calltype.sort_values(by='Count',ascending=0)\n",
    "#calltype.drop(['Call Type'])\n",
    "calltype"
   ]
  },
  {
   "cell_type": "code",
   "execution_count": 93,
   "metadata": {
    "collapsed": false
   },
   "outputs": [
    {
     "data": {
      "text/plain": [
       "(array([ 0,  1,  2,  3,  4,  5,  6,  7,  8,  9, 10, 11, 12, 13, 14, 15, 16,\n",
       "        17, 18]), <a list of 19 Text xticklabel objects>)"
      ]
     },
     "execution_count": 93,
     "metadata": {},
     "output_type": "execute_result"
    },
    {
     "data": {
      "image/png": "[encoded data removed]",
      "text/plain": [
       "<matplotlib.figure.Figure at 0x27c7d8b5518>"
      ]
     },
     "metadata": {},
     "output_type": "display_data"
    }
   ],
   "source": [
    "sns.countplot(x=\"Call Type\", data=wholedf, palette=\"Greens_d\");\n",
    "plt.xticks(rotation=90)"
   ]
  },
  {
   "cell_type": "code",
   "execution_count": null,
   "metadata": {
    "collapsed": true
   },
   "outputs": [],
   "source": []
  },
  {
   "cell_type": "code",
   "execution_count": 96,
   "metadata": {
    "collapsed": false
   },
   "outputs": [
    {
     "data": {
      "text/plain": [
       "Location\n",
       "0        0        0                          Park St\\n1...\\n1        0        0                          Park St\\n1...\\n2        0        0                          Park St\\n1...\\n3        0        0                          Park St\\n1...\\n4        0        0                          Park St\\n1...\\n5        0        0                          Park St\\n1...\\n6        0        0                          Park St\\n1...\\n7        0        0                          Park St\\n1...\\n8        0        0                          Park St\\n1...\\n9        0        0                          Park St\\n1...\\n10       0        0                          Park St\\n1...\\n11       0        0                          Park St\\n1...\\n12       0        0                          Park St\\n1...\\n13       0        0                          Park St\\n1...\\n14       0        0                          Park St\\n1...\\n15       0        0                          Park St\\n1...\\n16       0        0                          Park St\\n1...\\n17       0        0                          Park St\\n1...\\n18       0        0                          Park St\\n1...\\n19       0        0                          Park St\\n1...\\n20       0        0                          Park St\\n1...\\n21       0        0                          Park St\\n1...\\n22       0        0                          Park St\\n1...\\n23       0        0                          Park St\\n1...\\n24       0        0                          Park St\\n1...\\n25       0        0                          Park St\\n1...\\n26       0        0                          Park St\\n1...\\n27       0        0                          Park St\\n1...\\n28       0        0                          Park St\\n1...\\n29       0        0                          Park St\\n1...\\n                               ...                        \\n28803    0        0                          Park St\\n1...\\n28804    0        0                          Park St\\n1...\\n28805    0        0                          Park St\\n1...\\n28806    0        0                          Park St\\n1...\\n28807    0        0                          Park St\\n1...\\n28808    0        0                          Park St\\n1...\\n28809    0        0                          Park St\\n1...\\n28810    0        0                          Park St\\n1...\\n28811    0        0                          Park St\\n1...\\n28812    0        0                          Park St\\n1...\\n28813    0        0                          Park St\\n1...\\n28814    0        0                          Park St\\n1...\\n28815    0        0                          Park St\\n1...\\n28816    0        0                          Park St\\n1...\\n28817    0        0                          Park St\\n1...\\n28818    0        0                          Park St\\n1...\\n28819    0        0                          Park St\\n1...\\n28820    0        0                          Park St\\n1...\\n28821    0        0                          Park St\\n1...\\n28822    0        0                          Park St\\n1...\\n28823    0        0                          Park St\\n1...\\n28824    0        0                          Park St\\n1...\\n28825    0        0                          Park St\\n1...\\n28826    0        0                          Park St\\n1...\\n28827    0        0                          Park St\\n1...\\n28828    0        0                          Park St\\n1...\\n28829    0        0                          Park St\\n1...\\n28830    0        0                          Park St\\n1...\\n28831    0        0                          Park St\\n1...\\n28832    0        0                          Park St\\n1...\\nName: Location, dtype: object    28833\n",
       "dtype: int64"
      ]
     },
     "execution_count": 96,
     "metadata": {},
     "output_type": "execute_result"
    }
   ],
   "source": [
    "callloc = wholedf.groupby('Location').size(); \n",
    "#callloc = callloc.to_frame()\n",
    "#callloc.columns = ['Count']\n",
    "#callloc.drop(['Location'])\n",
    "#callloc = callloc.sort_values(by=['Count'], ascending=False)\n",
    "callloc"
   ]
  },
  {
   "cell_type": "code",
   "execution_count": 39,
   "metadata": {
    "collapsed": false
   },
   "outputs": [],
   "source": [
    "counts = wholedf.groupby('Location').size()"
   ]
  },
  {
   "cell_type": "code",
   "execution_count": 45,
   "metadata": {
    "collapsed": false
   },
   "outputs": [
    {
     "ename": "TypeError",
     "evalue": "descriptor 'date' requires a 'datetime.datetime' object but received a 'DataFrame'",
     "output_type": "error",
     "traceback": [
      "\u001b[0;31m---------------------------------------------------------------------------\u001b[0m",
      "\u001b[0;31mTypeError\u001b[0m                                 Traceback (most recent call last)",
      "\u001b[0;32m<ipython-input-45-c3b76201472e>\u001b[0m in \u001b[0;36m<module>\u001b[0;34m()\u001b[0m\n\u001b[0;32m----> 1\u001b[0;31m \u001b[0mdate\u001b[0m \u001b[1;33m=\u001b[0m \u001b[0mpd\u001b[0m\u001b[1;33m.\u001b[0m\u001b[0mdatetime\u001b[0m\u001b[1;33m.\u001b[0m\u001b[0mdate\u001b[0m\u001b[1;33m(\u001b[0m\u001b[0mwholedf\u001b[0m\u001b[1;33m)\u001b[0m\u001b[1;33m\u001b[0m\u001b[0m\n\u001b[0m",
      "\u001b[0;31mTypeError\u001b[0m: descriptor 'date' requires a 'datetime.datetime' object but received a 'DataFrame'"
     ]
    }
   ],
   "source": [
    "date = datetime.date(wholedf['Date'])"
   ]
  },
  {
   "cell_type": "code",
   "execution_count": null,
   "metadata": {
    "collapsed": true
   },
   "outputs": [],
   "source": []
  },
  {
   "cell_type": "code",
   "execution_count": null,
   "metadata": {
    "collapsed": true
   },
   "outputs": [],
   "source": []
  },
  {
   "cell_type": "code",
   "execution_count": 42,
   "metadata": {
    "collapsed": false
   },
   "outputs": [
    {
     "ename": "AttributeError",
     "evalue": "module 'pandas' has no attribute 'strptime'",
     "output_type": "error",
     "traceback": [
      "\u001b[0;31m---------------------------------------------------------------------------\u001b[0m",
      "\u001b[0;31mAttributeError\u001b[0m                            Traceback (most recent call last)",
      "\u001b[0;32m<ipython-input-42-8ba06de24283>\u001b[0m in \u001b[0;36m<module>\u001b[0;34m()\u001b[0m\n\u001b[0;32m----> 1\u001b[0;31m \u001b[0mwholedf\u001b[0m \u001b[1;33m=\u001b[0m \u001b[0mpd\u001b[0m\u001b[1;33m.\u001b[0m\u001b[0mstrptime\u001b[0m\u001b[1;33m(\u001b[0m\u001b[0mwholedf\u001b[0m\u001b[1;33m[\u001b[0m\u001b[1;34m'Date'\u001b[0m\u001b[1;33m]\u001b[0m\u001b[1;33m,\u001b[0m\u001b[1;34m\"%d/%b/%Y:%H:%M:%S -0600\"\u001b[0m\u001b[1;33m)\u001b[0m\u001b[1;33m\u001b[0m\u001b[0m\n\u001b[0m",
      "\u001b[0;31mAttributeError\u001b[0m: module 'pandas' has no attribute 'strptime'"
     ]
    }
   ],
   "source": [
    "wholedf = pd.strptime(wholedf['Date'],\"%d/%b/%Y:%H:%M:%S -0600\")\n"
   ]
  },
  {
   "cell_type": "code",
   "execution_count": 13,
   "metadata": {
    "collapsed": false
   },
   "outputs": [
    {
     "ename": "KeyError",
     "evalue": "\"[' Incident ID'] not in index\"",
     "output_type": "error",
     "traceback": [
      "\u001b[0;31m---------------------------------------------------------------------------\u001b[0m",
      "\u001b[0;31mKeyError\u001b[0m                                  Traceback (most recent call last)",
      "\u001b[0;32m<ipython-input-13-65e4984df6ff>\u001b[0m in \u001b[0;36m<module>\u001b[0;34m()\u001b[0m\n\u001b[0;32m----> 1\u001b[0;31m \u001b[0mwholedf\u001b[0m\u001b[1;33m[\u001b[0m\u001b[1;33m[\u001b[0m\u001b[1;34m\"Call Type\"\u001b[0m\u001b[1;33m,\u001b[0m \u001b[1;34m\" Incident ID\"\u001b[0m\u001b[1;33m]\u001b[0m\u001b[1;33m]\u001b[0m\u001b[1;33m.\u001b[0m\u001b[0mgroupby\u001b[0m\u001b[1;33m(\u001b[0m\u001b[1;33m[\u001b[0m\u001b[1;34m'Call Type'\u001b[0m\u001b[1;33m]\u001b[0m\u001b[1;33m,\u001b[0m \u001b[0mas_index\u001b[0m\u001b[1;33m=\u001b[0m\u001b[1;32mFalse\u001b[0m\u001b[1;33m)\u001b[0m\u001b[1;33m.\u001b[0m\u001b[0mcount\u001b[0m\u001b[1;33m(\u001b[0m\u001b[1;33m)\u001b[0m\u001b[1;33m\u001b[0m\u001b[0m\n\u001b[0m",
      "\u001b[0;32mC:\\Users\\kefor\\Anaconda3\\lib\\site-packages\\pandas\\core\\frame.py\u001b[0m in \u001b[0;36m__getitem__\u001b[0;34m(self, key)\u001b[0m\n\u001b[1;32m   1989\u001b[0m         \u001b[1;32mif\u001b[0m \u001b[0misinstance\u001b[0m\u001b[1;33m(\u001b[0m\u001b[0mkey\u001b[0m\u001b[1;33m,\u001b[0m \u001b[1;33m(\u001b[0m\u001b[0mSeries\u001b[0m\u001b[1;33m,\u001b[0m \u001b[0mnp\u001b[0m\u001b[1;33m.\u001b[0m\u001b[0mndarray\u001b[0m\u001b[1;33m,\u001b[0m \u001b[0mIndex\u001b[0m\u001b[1;33m,\u001b[0m \u001b[0mlist\u001b[0m\u001b[1;33m)\u001b[0m\u001b[1;33m)\u001b[0m\u001b[1;33m:\u001b[0m\u001b[1;33m\u001b[0m\u001b[0m\n\u001b[1;32m   1990\u001b[0m             \u001b[1;31m# either boolean or fancy integer index\u001b[0m\u001b[1;33m\u001b[0m\u001b[1;33m\u001b[0m\u001b[0m\n\u001b[0;32m-> 1991\u001b[0;31m             \u001b[1;32mreturn\u001b[0m \u001b[0mself\u001b[0m\u001b[1;33m.\u001b[0m\u001b[0m_getitem_array\u001b[0m\u001b[1;33m(\u001b[0m\u001b[0mkey\u001b[0m\u001b[1;33m)\u001b[0m\u001b[1;33m\u001b[0m\u001b[0m\n\u001b[0m\u001b[1;32m   1992\u001b[0m         \u001b[1;32melif\u001b[0m \u001b[0misinstance\u001b[0m\u001b[1;33m(\u001b[0m\u001b[0mkey\u001b[0m\u001b[1;33m,\u001b[0m \u001b[0mDataFrame\u001b[0m\u001b[1;33m)\u001b[0m\u001b[1;33m:\u001b[0m\u001b[1;33m\u001b[0m\u001b[0m\n\u001b[1;32m   1993\u001b[0m             \u001b[1;32mreturn\u001b[0m \u001b[0mself\u001b[0m\u001b[1;33m.\u001b[0m\u001b[0m_getitem_frame\u001b[0m\u001b[1;33m(\u001b[0m\u001b[0mkey\u001b[0m\u001b[1;33m)\u001b[0m\u001b[1;33m\u001b[0m\u001b[0m\n",
      "\u001b[0;32mC:\\Users\\kefor\\Anaconda3\\lib\\site-packages\\pandas\\core\\frame.py\u001b[0m in \u001b[0;36m_getitem_array\u001b[0;34m(self, key)\u001b[0m\n\u001b[1;32m   2033\u001b[0m             \u001b[1;32mreturn\u001b[0m \u001b[0mself\u001b[0m\u001b[1;33m.\u001b[0m\u001b[0mtake\u001b[0m\u001b[1;33m(\u001b[0m\u001b[0mindexer\u001b[0m\u001b[1;33m,\u001b[0m \u001b[0maxis\u001b[0m\u001b[1;33m=\u001b[0m\u001b[1;36m0\u001b[0m\u001b[1;33m,\u001b[0m \u001b[0mconvert\u001b[0m\u001b[1;33m=\u001b[0m\u001b[1;32mFalse\u001b[0m\u001b[1;33m)\u001b[0m\u001b[1;33m\u001b[0m\u001b[0m\n\u001b[1;32m   2034\u001b[0m         \u001b[1;32melse\u001b[0m\u001b[1;33m:\u001b[0m\u001b[1;33m\u001b[0m\u001b[0m\n\u001b[0;32m-> 2035\u001b[0;31m             \u001b[0mindexer\u001b[0m \u001b[1;33m=\u001b[0m \u001b[0mself\u001b[0m\u001b[1;33m.\u001b[0m\u001b[0mix\u001b[0m\u001b[1;33m.\u001b[0m\u001b[0m_convert_to_indexer\u001b[0m\u001b[1;33m(\u001b[0m\u001b[0mkey\u001b[0m\u001b[1;33m,\u001b[0m \u001b[0maxis\u001b[0m\u001b[1;33m=\u001b[0m\u001b[1;36m1\u001b[0m\u001b[1;33m)\u001b[0m\u001b[1;33m\u001b[0m\u001b[0m\n\u001b[0m\u001b[1;32m   2036\u001b[0m             \u001b[1;32mreturn\u001b[0m \u001b[0mself\u001b[0m\u001b[1;33m.\u001b[0m\u001b[0mtake\u001b[0m\u001b[1;33m(\u001b[0m\u001b[0mindexer\u001b[0m\u001b[1;33m,\u001b[0m \u001b[0maxis\u001b[0m\u001b[1;33m=\u001b[0m\u001b[1;36m1\u001b[0m\u001b[1;33m,\u001b[0m \u001b[0mconvert\u001b[0m\u001b[1;33m=\u001b[0m\u001b[1;32mTrue\u001b[0m\u001b[1;33m)\u001b[0m\u001b[1;33m\u001b[0m\u001b[0m\n\u001b[1;32m   2037\u001b[0m \u001b[1;33m\u001b[0m\u001b[0m\n",
      "\u001b[0;32mC:\\Users\\kefor\\Anaconda3\\lib\\site-packages\\pandas\\core\\indexing.py\u001b[0m in \u001b[0;36m_convert_to_indexer\u001b[0;34m(self, obj, axis, is_setter)\u001b[0m\n\u001b[1;32m   1212\u001b[0m                 \u001b[0mmask\u001b[0m \u001b[1;33m=\u001b[0m \u001b[0mcheck\u001b[0m \u001b[1;33m==\u001b[0m \u001b[1;33m-\u001b[0m\u001b[1;36m1\u001b[0m\u001b[1;33m\u001b[0m\u001b[0m\n\u001b[1;32m   1213\u001b[0m                 \u001b[1;32mif\u001b[0m \u001b[0mmask\u001b[0m\u001b[1;33m.\u001b[0m\u001b[0many\u001b[0m\u001b[1;33m(\u001b[0m\u001b[1;33m)\u001b[0m\u001b[1;33m:\u001b[0m\u001b[1;33m\u001b[0m\u001b[0m\n\u001b[0;32m-> 1214\u001b[0;31m                     \u001b[1;32mraise\u001b[0m \u001b[0mKeyError\u001b[0m\u001b[1;33m(\u001b[0m\u001b[1;34m'%s not in index'\u001b[0m \u001b[1;33m%\u001b[0m \u001b[0mobjarr\u001b[0m\u001b[1;33m[\u001b[0m\u001b[0mmask\u001b[0m\u001b[1;33m]\u001b[0m\u001b[1;33m)\u001b[0m\u001b[1;33m\u001b[0m\u001b[0m\n\u001b[0m\u001b[1;32m   1215\u001b[0m \u001b[1;33m\u001b[0m\u001b[0m\n\u001b[1;32m   1216\u001b[0m                 \u001b[1;32mreturn\u001b[0m \u001b[0m_values_from_object\u001b[0m\u001b[1;33m(\u001b[0m\u001b[0mindexer\u001b[0m\u001b[1;33m)\u001b[0m\u001b[1;33m\u001b[0m\u001b[0m\n",
      "\u001b[0;31mKeyError\u001b[0m: \"[' Incident ID'] not in index\""
     ]
    }
   ],
   "source": [
    "wholedf[[\"Call Type\", \" Incident ID\"]].groupby(['Call Type'], as_index=False).count()"
   ]
  }
 ],
 "metadata": {
  "anaconda-cloud": {},
  "kernelspec": {
   "display_name": "Python [conda root]",
   "language": "python",
   "name": "conda-root-py"
  },
  "language_info": {
   "codemirror_mode": {
    "name": "ipython",
    "version": 3
   },
   "file_extension": ".py",
   "mimetype": "text/x-python",
   "name": "python",
   "nbconvert_exporter": "python",
   "pygments_lexer": "ipython3",
   "version": "3.5.2"
  }
 },
 "nbformat": 4,
 "nbformat_minor": 1
}
