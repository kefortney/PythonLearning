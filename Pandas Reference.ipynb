{
 "cells": [
  {
   "cell_type": "markdown",
   "metadata": {},
   "source": [
    "Pandas\n",
    "==========\n",
    "Pandas is a powerful tool to manipulate dataframes in Python.  There are many features and examples are listed below."
   ]
  },
  {
   "cell_type": "code",
   "execution_count": 1,
   "metadata": {
    "collapsed": true
   },
   "outputs": [],
   "source": [
    "import numpy as np\n",
    "import pandas as pd"
   ]
  },
  {
   "cell_type": "code",
   "execution_count": 2,
   "metadata": {
    "collapsed": false
   },
   "outputs": [],
   "source": [
    "df = pd.read_csv('~/Desktop/PythonLearning/City_of_Burlington_Property_Details.csv')"
   ]
  },
  {
   "cell_type": "code",
   "execution_count": 3,
   "metadata": {
    "collapsed": false
   },
   "outputs": [
    {
     "name": "stdout",
     "output_type": "stream",
     "text": [
      "<class 'pandas.core.frame.DataFrame'>\n",
      "RangeIndex: 10832 entries, 0 to 10831\n",
      "Data columns (total 38 columns):\n",
      "AccountNumber            10832 non-null int64\n",
      "ParcelID                 10832 non-null object\n",
      "SpanNumber               10832 non-null object\n",
      "StreetNumber             10827 non-null object\n",
      "AlternateNumber          1074 non-null object\n",
      "StreetName               10832 non-null object\n",
      "Unit                     2076 non-null object\n",
      "CuO1LastName             10831 non-null object\n",
      "CuO1FirstName            8519 non-null object\n",
      "CuO2LastName             5633 non-null object\n",
      "CuO2FirstName            5107 non-null object\n",
      "CuO3LastName             572 non-null object\n",
      "CuO3FirstName            461 non-null object\n",
      "LandUse                  10832 non-null object\n",
      "CurrentAcres             10832 non-null float64\n",
      "TotalGrossArea           10832 non-null int64\n",
      "FinishedArea             10832 non-null float64\n",
      "CurrentValue             10832 non-null float64\n",
      "CurrentLandValue         10832 non-null int64\n",
      "CurrentYardItemsValue    10832 non-null int64\n",
      "CurrentBuildingValue     10832 non-null float64\n",
      "BuildingType             10431 non-null object\n",
      "HeatFuel                 10339 non-null object\n",
      "HeatType                 10409 non-null object\n",
      "Grade                    10431 non-null object\n",
      "YearBlt                  10832 non-null int64\n",
      "SaleDate                 4636 non-null object\n",
      "SalePrice                10832 non-null int64\n",
      "LegalReference           10832 non-null object\n",
      "GrantorLastName          4635 non-null object\n",
      "NumofRooms               10832 non-null int64\n",
      "NumofBedrooms            10832 non-null int64\n",
      "Baths                    10832 non-null object\n",
      "NumofUnits               10832 non-null int64\n",
      "ZoningCode               10777 non-null object\n",
      "Foundation               10382 non-null object\n",
      "Depreciation             10832 non-null float64\n",
      "PropertyCenterPoint      10615 non-null object\n",
      "dtypes: float64(5), int64(9), object(24)\n",
      "memory usage: 3.1+ MB\n"
     ]
    }
   ],
   "source": [
    "# Checks correlation of the dataframe, specify a column in the parenthesis to check against a specific variable\n",
    "df.corr()\n",
    "\n",
    "# Display the top 5 rows (including the column names)\n",
    "df.head(5)\n",
    "\n",
    "# Lists summary info of datafram including count of non-null elements, data type, memory useage and range index\n",
    "df.info()"
   ]
  },
  {
   "cell_type": "markdown",
   "metadata": {},
   "source": [
    "Numpy\n",
    "-----------\n",
    "Quick Mathmatical Functions"
   ]
  },
  {
   "cell_type": "code",
   "execution_count": 4,
   "metadata": {
    "collapsed": false
   },
   "outputs": [
    {
     "data": {
      "text/plain": [
       "AccountNumber              5538.50000\n",
       "CurrentAcres                  0.15152\n",
       "TotalGrossArea             3174.00000\n",
       "FinishedArea               1602.00000\n",
       "CurrentValue             236150.00000\n",
       "CurrentLandValue          91600.00000\n",
       "CurrentYardItemsValue         0.00000\n",
       "CurrentBuildingValue     147600.00000\n",
       "YearBlt                    1950.00000\n",
       "SalePrice                     0.00000\n",
       "NumofRooms                    6.00000\n",
       "NumofBedrooms                 3.00000\n",
       "NumofUnits                    1.00000\n",
       "Depreciation                  0.24000\n",
       "dtype: float64"
      ]
     },
     "execution_count": 4,
     "metadata": {},
     "output_type": "execute_result"
    }
   ],
   "source": [
    "# Mathmatical description and statistics of all numerical columns\n",
    "df.describe()\n",
    "\n",
    "# Returns a count of not null elements in each column (much like df.info)\n",
    "df.count()\n",
    "\n",
    "# Returns a list of numerical columns with total sum\n",
    "df.sum()\n",
    "\n",
    "# Returns a list of numerical columns with standard deviation\n",
    "df.std()\n",
    "\n",
    "# Returns a list of numerical columns with mean\n",
    "df.mean()\n",
    "\n",
    "# Returns a list of numerical columns with median\n",
    "df.median()"
   ]
  },
  {
   "cell_type": "code",
   "execution_count": 5,
   "metadata": {
    "collapsed": false
   },
   "outputs": [
    {
     "data": {
      "text/plain": [
       "array([  0,   1,   2,   4,  13,   3,   6,   5,  19,  44,  37, 123,   7,\n",
       "        49,   9,  61,  11,  10,   8, 109,  21,  16, 401,  26,  51,  33,\n",
       "        27,  12,  17,  41,  47, 125,  23,  54,  25, 375,  39, 605,  80,\n",
       "       112,  42,  52,  24,  55, 462,  14, 140,  15, 161,  20,  18,  76,\n",
       "       258,  22,  34,  36,  31,  82,  28, 396,  81, 581, 205, 460, 303,\n",
       "        29, 227, 128,  84, 144, 311, 216,  66, 160,  59,  56,  65, 225,\n",
       "       117, 338, 220,  43,  35,  40, 908,  30, 679, 150], dtype=int64)"
      ]
     },
     "execution_count": 5,
     "metadata": {},
     "output_type": "execute_result"
    }
   ],
   "source": [
    "# List unique values in a DataFrame column\n",
    "pd.unique(df.NumofUnits.ravel())"
   ]
  },
  {
   "cell_type": "code",
   "execution_count": 6,
   "metadata": {
    "collapsed": false
   },
   "outputs": [],
   "source": [
    "# Convert Series datatype to numeric, getting rid of any non-numeric values\n",
    "#df['ZoningCode'] = df['ZoningCode'].astype(str).to_numeric()\n",
    "#df['ZoningCode']"
   ]
  },
  {
   "cell_type": "code",
   "execution_count": 7,
   "metadata": {
    "collapsed": false
   },
   "outputs": [
    {
     "data": {
      "text/html": [
       "<div>\n",
       "<table border=\"1\" class=\"dataframe\">\n",
       "  <thead>\n",
       "    <tr style=\"text-align: right;\">\n",
       "      <th></th>\n",
       "      <th>AccountNumber</th>\n",
       "      <th>ParcelID</th>\n",
       "      <th>SpanNumber</th>\n",
       "      <th>StreetNumber</th>\n",
       "      <th>AlternateNumber</th>\n",
       "      <th>StreetName</th>\n",
       "      <th>Unit</th>\n",
       "      <th>CuO1LastName</th>\n",
       "      <th>CuO1FirstName</th>\n",
       "      <th>CuO2LastName</th>\n",
       "      <th>...</th>\n",
       "      <th>LegalReference</th>\n",
       "      <th>GrantorLastName</th>\n",
       "      <th>NumofRooms</th>\n",
       "      <th>NumofBedrooms</th>\n",
       "      <th>Baths</th>\n",
       "      <th>NumofUnits</th>\n",
       "      <th>ZoningCode</th>\n",
       "      <th>Foundation</th>\n",
       "      <th>Depreciation</th>\n",
       "      <th>PropertyCenterPoint</th>\n",
       "    </tr>\n",
       "  </thead>\n",
       "  <tbody>\n",
       "  </tbody>\n",
       "</table>\n",
       "<p>0 rows × 38 columns</p>\n",
       "</div>"
      ],
      "text/plain": [
       "Empty DataFrame\n",
       "Columns: [AccountNumber, ParcelID, SpanNumber, StreetNumber, AlternateNumber, StreetName, Unit, CuO1LastName, CuO1FirstName, CuO2LastName, CuO2FirstName, CuO3LastName, CuO3FirstName, LandUse, CurrentAcres, TotalGrossArea, FinishedArea, CurrentValue, CurrentLandValue, CurrentYardItemsValue, CurrentBuildingValue, BuildingType, HeatFuel, HeatType, Grade, YearBlt, SaleDate, SalePrice, LegalReference, GrantorLastName, NumofRooms, NumofBedrooms, Baths, NumofUnits, ZoningCode, Foundation, Depreciation, PropertyCenterPoint]\n",
       "Index: []\n",
       "\n",
       "[0 rows x 38 columns]"
      ]
     },
     "execution_count": 7,
     "metadata": {},
     "output_type": "execute_result"
    }
   ],
   "source": [
    "# Grab DataFrame rows where column has certain values\n",
    "valuelist = ['4']\n",
    "dfselect = df[df.NumofUnits.isin(valuelist)]\n",
    "dfselect.head(2)"
   ]
  },
  {
   "cell_type": "code",
   "execution_count": 8,
   "metadata": {
    "collapsed": false
   },
   "outputs": [
    {
     "data": {
      "text/html": [
       "<div>\n",
       "<table border=\"1\" class=\"dataframe\">\n",
       "  <thead>\n",
       "    <tr style=\"text-align: right;\">\n",
       "      <th></th>\n",
       "      <th>AccountNumber</th>\n",
       "      <th>ParcelID</th>\n",
       "      <th>SpanNumber</th>\n",
       "      <th>StreetNumber</th>\n",
       "      <th>AlternateNumber</th>\n",
       "      <th>StreetName</th>\n",
       "      <th>Unit</th>\n",
       "      <th>CuO1LastName</th>\n",
       "      <th>CuO1FirstName</th>\n",
       "      <th>CuO2LastName</th>\n",
       "      <th>...</th>\n",
       "      <th>LegalReference</th>\n",
       "      <th>GrantorLastName</th>\n",
       "      <th>NumofRooms</th>\n",
       "      <th>NumofBedrooms</th>\n",
       "      <th>Baths</th>\n",
       "      <th>NumofUnits</th>\n",
       "      <th>ZoningCode</th>\n",
       "      <th>Foundation</th>\n",
       "      <th>Depreciation</th>\n",
       "      <th>PropertyCenterPoint</th>\n",
       "    </tr>\n",
       "  </thead>\n",
       "  <tbody>\n",
       "    <tr>\n",
       "      <th>0</th>\n",
       "      <td>7502</td>\n",
       "      <td>049-3-187-000</td>\n",
       "      <td>114-035-17502</td>\n",
       "      <td>227</td>\n",
       "      <td>NaN</td>\n",
       "      <td>COLLEGE ST</td>\n",
       "      <td>NaN</td>\n",
       "      <td>CITY DPW</td>\n",
       "      <td>NaN</td>\n",
       "      <td>NaN</td>\n",
       "      <td>...</td>\n",
       "      <td>0</td>\n",
       "      <td>NaN</td>\n",
       "      <td>0</td>\n",
       "      <td>0</td>\n",
       "      <td>0 / 0</td>\n",
       "      <td>0</td>\n",
       "      <td>DT</td>\n",
       "      <td>NaN</td>\n",
       "      <td>0.0</td>\n",
       "      <td>(-73.2105, 44.47668)</td>\n",
       "    </tr>\n",
       "    <tr>\n",
       "      <th>1</th>\n",
       "      <td>10680</td>\n",
       "      <td>043-3-085-001</td>\n",
       "      <td>114-035-20680</td>\n",
       "      <td>53</td>\n",
       "      <td>NaN</td>\n",
       "      <td>WARD ST</td>\n",
       "      <td>NaN</td>\n",
       "      <td>EMERSON</td>\n",
       "      <td>DEBORAH A</td>\n",
       "      <td>EMERSON</td>\n",
       "      <td>...</td>\n",
       "      <td>0</td>\n",
       "      <td>NaN</td>\n",
       "      <td>6</td>\n",
       "      <td>3</td>\n",
       "      <td>1 / 0</td>\n",
       "      <td>1</td>\n",
       "      <td>NaN</td>\n",
       "      <td>C</td>\n",
       "      <td>0.3</td>\n",
       "      <td>NaN</td>\n",
       "    </tr>\n",
       "  </tbody>\n",
       "</table>\n",
       "<p>2 rows × 38 columns</p>\n",
       "</div>"
      ],
      "text/plain": [
       "   AccountNumber       ParcelID     SpanNumber StreetNumber AlternateNumber  \\\n",
       "0           7502  049-3-187-000  114-035-17502          227             NaN   \n",
       "1          10680  043-3-085-001  114-035-20680           53             NaN   \n",
       "\n",
       "   StreetName Unit CuO1LastName CuO1FirstName CuO2LastName  \\\n",
       "0  COLLEGE ST  NaN     CITY DPW           NaN          NaN   \n",
       "1     WARD ST  NaN      EMERSON     DEBORAH A      EMERSON   \n",
       "\n",
       "           ...          LegalReference GrantorLastName NumofRooms  \\\n",
       "0          ...                       0             NaN          0   \n",
       "1          ...                       0             NaN          6   \n",
       "\n",
       "  NumofBedrooms  Baths  NumofUnits  ZoningCode  Foundation  Depreciation  \\\n",
       "0             0  0 / 0           0          DT         NaN           0.0   \n",
       "1             3  1 / 0           1         NaN           C           0.3   \n",
       "\n",
       "    PropertyCenterPoint  \n",
       "0  (-73.2105, 44.47668)  \n",
       "1                   NaN  \n",
       "\n",
       "[2 rows x 38 columns]"
      ]
     },
     "execution_count": 8,
     "metadata": {},
     "output_type": "execute_result"
    }
   ],
   "source": [
    "# Grab DataFrame rows where column doesn't have certain values\n",
    "valuelist = ['4', '13', '6']\n",
    "dfnotselect = df[~df.NumofUnits.isin(valuelist)]\n",
    "dfnotselect.head(2)"
   ]
  },
  {
   "cell_type": "code",
   "execution_count": 9,
   "metadata": {
    "collapsed": true
   },
   "outputs": [],
   "source": [
    "# Delete column from DataFrame\n",
    "del df['LegalReference']"
   ]
  },
  {
   "cell_type": "code",
   "execution_count": 10,
   "metadata": {
    "collapsed": false
   },
   "outputs": [
    {
     "data": {
      "text/plain": [
       "AccountNumber            6966\n",
       "ParcelID                 6966\n",
       "SpanNumber               6966\n",
       "StreetNumber             6966\n",
       "AlternateNumber           861\n",
       "StreetName               6966\n",
       "Unit                      453\n",
       "CuO1LastName             6966\n",
       "CuO1FirstName            5849\n",
       "CuO2LastName             4125\n",
       "CuO2FirstName            3839\n",
       "CuO3LastName              389\n",
       "CuO3FirstName             319\n",
       "LandUse                  6966\n",
       "CurrentAcres             6966\n",
       "TotalGrossArea           6966\n",
       "FinishedArea             6966\n",
       "CurrentValue             6966\n",
       "CurrentLandValue         6966\n",
       "CurrentYardItemsValue    6966\n",
       "CurrentBuildingValue     6966\n",
       "BuildingType             6966\n",
       "HeatFuel                 6916\n",
       "HeatType                 6950\n",
       "Grade                    6966\n",
       "YearBlt                  6966\n",
       "SaleDate                 2949\n",
       "SalePrice                6966\n",
       "GrantorLastName          2948\n",
       "NumofRooms               6966\n",
       "NumofBedrooms            6966\n",
       "Baths                    6966\n",
       "NumofUnits               6966\n",
       "ZoningCode               6948\n",
       "Foundation               6949\n",
       "Depreciation             6966\n",
       "PropertyCenterPoint      6922\n",
       "dtype: int64"
      ]
     },
     "execution_count": 10,
     "metadata": {},
     "output_type": "execute_result"
    }
   ],
   "source": [
    "# Select from DataFrame using criteria from multiple columns\n",
    "# (use `|` instead of `&` to do an OR)\n",
    "newdf = df[(df['NumofRooms']>3) & (df['NumofBedrooms']>2)]\n",
    "#Check for the reduction of the dataframe\n",
    "newdf.count()"
   ]
  },
  {
   "cell_type": "code",
   "execution_count": 11,
   "metadata": {
    "collapsed": true
   },
   "outputs": [],
   "source": [
    "# Rename several DataFrame columns\n",
    "df = df.rename(columns = {\n",
    "    'Baths':'BathsCombined',\n",
    "    'GrantorLastName':'GrantorName',\n",
    "})\n"
   ]
  },
  {
   "cell_type": "code",
   "execution_count": 12,
   "metadata": {
    "collapsed": false
   },
   "outputs": [
    {
     "data": {
      "text/html": [
       "<div>\n",
       "<table border=\"1\" class=\"dataframe\">\n",
       "  <thead>\n",
       "    <tr style=\"text-align: right;\">\n",
       "      <th></th>\n",
       "      <th>accountnumber</th>\n",
       "      <th>parcelid</th>\n",
       "      <th>spannumber</th>\n",
       "      <th>streetnumber</th>\n",
       "      <th>alternatenumber</th>\n",
       "      <th>streetname</th>\n",
       "      <th>unit</th>\n",
       "      <th>cuo1lastname</th>\n",
       "      <th>cuo1firstname</th>\n",
       "      <th>cuo2lastname</th>\n",
       "      <th>...</th>\n",
       "      <th>saleprice</th>\n",
       "      <th>grantorname</th>\n",
       "      <th>numofrooms</th>\n",
       "      <th>numofbedrooms</th>\n",
       "      <th>bathscombined</th>\n",
       "      <th>numofunits</th>\n",
       "      <th>zoningcode</th>\n",
       "      <th>foundation</th>\n",
       "      <th>depreciation</th>\n",
       "      <th>propertycenterpoint</th>\n",
       "    </tr>\n",
       "  </thead>\n",
       "  <tbody>\n",
       "    <tr>\n",
       "      <th>0</th>\n",
       "      <td>7502</td>\n",
       "      <td>049-3-187-000</td>\n",
       "      <td>114-035-17502</td>\n",
       "      <td>227</td>\n",
       "      <td>NaN</td>\n",
       "      <td>COLLEGE ST</td>\n",
       "      <td>NaN</td>\n",
       "      <td>CITY DPW</td>\n",
       "      <td>NaN</td>\n",
       "      <td>NaN</td>\n",
       "      <td>...</td>\n",
       "      <td>0</td>\n",
       "      <td>NaN</td>\n",
       "      <td>0</td>\n",
       "      <td>0</td>\n",
       "      <td>0 / 0</td>\n",
       "      <td>0</td>\n",
       "      <td>DT</td>\n",
       "      <td>NaN</td>\n",
       "      <td>0.0</td>\n",
       "      <td>(-73.2105, 44.47668)</td>\n",
       "    </tr>\n",
       "  </tbody>\n",
       "</table>\n",
       "<p>1 rows × 37 columns</p>\n",
       "</div>"
      ],
      "text/plain": [
       "   accountnumber       parcelid     spannumber streetnumber alternatenumber  \\\n",
       "0           7502  049-3-187-000  114-035-17502          227             NaN   \n",
       "\n",
       "   streetname unit cuo1lastname cuo1firstname cuo2lastname  \\\n",
       "0  COLLEGE ST  NaN     CITY DPW           NaN          NaN   \n",
       "\n",
       "           ...          saleprice grantorname numofrooms numofbedrooms  \\\n",
       "0          ...                  0         NaN          0             0   \n",
       "\n",
       "   bathscombined  numofunits  zoningcode  foundation  depreciation  \\\n",
       "0          0 / 0           0          DT         NaN           0.0   \n",
       "\n",
       "    propertycenterpoint  \n",
       "0  (-73.2105, 44.47668)  \n",
       "\n",
       "[1 rows x 37 columns]"
      ]
     },
     "execution_count": 12,
     "metadata": {},
     "output_type": "execute_result"
    }
   ],
   "source": [
    "# Lower-case all DataFrame column names\n",
    "df.columns = map(str.lower, df.columns)\n",
    "df.head(1)"
   ]
  },
  {
   "cell_type": "markdown",
   "metadata": {},
   "source": [
    "Next few examples show how to work with text data in Pandas"
   ]
  },
  {
   "cell_type": "code",
   "execution_count": 14,
   "metadata": {
    "collapsed": false
   },
   "outputs": [],
   "source": [
    "# Full list of .str functions: http://pandas.pydata.org/pandas-docs/stable/text.html\n",
    "# Slice values in a DataFrame column (aka Series)\n",
    "#df.column.str[0:2]"
   ]
  },
  {
   "cell_type": "code",
   "execution_count": 15,
   "metadata": {
    "collapsed": false
   },
   "outputs": [
    {
     "data": {
      "text/html": [
       "<div>\n",
       "<table border=\"1\" class=\"dataframe\">\n",
       "  <thead>\n",
       "    <tr style=\"text-align: right;\">\n",
       "      <th></th>\n",
       "      <th>accountnumber</th>\n",
       "      <th>parcelid</th>\n",
       "      <th>spannumber</th>\n",
       "      <th>streetnumber</th>\n",
       "      <th>alternatenumber</th>\n",
       "      <th>streetname</th>\n",
       "      <th>unit</th>\n",
       "      <th>cuo1lastname</th>\n",
       "      <th>cuo1firstname</th>\n",
       "      <th>cuo2lastname</th>\n",
       "      <th>...</th>\n",
       "      <th>saleprice</th>\n",
       "      <th>grantorname</th>\n",
       "      <th>numofrooms</th>\n",
       "      <th>numofbedrooms</th>\n",
       "      <th>bathscombined</th>\n",
       "      <th>numofunits</th>\n",
       "      <th>zoningcode</th>\n",
       "      <th>foundation</th>\n",
       "      <th>depreciation</th>\n",
       "      <th>propertycenterpoint</th>\n",
       "    </tr>\n",
       "  </thead>\n",
       "  <tbody>\n",
       "    <tr>\n",
       "      <th>0</th>\n",
       "      <td>7502</td>\n",
       "      <td>049-3-187-000</td>\n",
       "      <td>114-035-17502</td>\n",
       "      <td>227</td>\n",
       "      <td>NaN</td>\n",
       "      <td>COLLEGE ST</td>\n",
       "      <td>NaN</td>\n",
       "      <td>city dpw</td>\n",
       "      <td>NaN</td>\n",
       "      <td>NaN</td>\n",
       "      <td>...</td>\n",
       "      <td>0</td>\n",
       "      <td>NaN</td>\n",
       "      <td>0</td>\n",
       "      <td>0</td>\n",
       "      <td>0 / 0</td>\n",
       "      <td>0</td>\n",
       "      <td>DT</td>\n",
       "      <td>NaN</td>\n",
       "      <td>0.0</td>\n",
       "      <td>(-73.2105, 44.47668)</td>\n",
       "    </tr>\n",
       "    <tr>\n",
       "      <th>1</th>\n",
       "      <td>10680</td>\n",
       "      <td>043-3-085-001</td>\n",
       "      <td>114-035-20680</td>\n",
       "      <td>53</td>\n",
       "      <td>NaN</td>\n",
       "      <td>WARD ST</td>\n",
       "      <td>NaN</td>\n",
       "      <td>emerson</td>\n",
       "      <td>DEBORAH A</td>\n",
       "      <td>EMERSON</td>\n",
       "      <td>...</td>\n",
       "      <td>0</td>\n",
       "      <td>NaN</td>\n",
       "      <td>6</td>\n",
       "      <td>3</td>\n",
       "      <td>1 / 0</td>\n",
       "      <td>1</td>\n",
       "      <td>NaN</td>\n",
       "      <td>C</td>\n",
       "      <td>0.3</td>\n",
       "      <td>NaN</td>\n",
       "    </tr>\n",
       "  </tbody>\n",
       "</table>\n",
       "<p>2 rows × 37 columns</p>\n",
       "</div>"
      ],
      "text/plain": [
       "   accountnumber       parcelid     spannumber streetnumber alternatenumber  \\\n",
       "0           7502  049-3-187-000  114-035-17502          227             NaN   \n",
       "1          10680  043-3-085-001  114-035-20680           53             NaN   \n",
       "\n",
       "   streetname unit cuo1lastname cuo1firstname cuo2lastname  \\\n",
       "0  COLLEGE ST  NaN     city dpw           NaN          NaN   \n",
       "1     WARD ST  NaN      emerson     DEBORAH A      EMERSON   \n",
       "\n",
       "           ...          saleprice grantorname numofrooms numofbedrooms  \\\n",
       "0          ...                  0         NaN          0             0   \n",
       "1          ...                  0         NaN          6             3   \n",
       "\n",
       "   bathscombined  numofunits  zoningcode  foundation  depreciation  \\\n",
       "0          0 / 0           0          DT         NaN           0.0   \n",
       "1          1 / 0           1         NaN           C           0.3   \n",
       "\n",
       "    propertycenterpoint  \n",
       "0  (-73.2105, 44.47668)  \n",
       "1                   NaN  \n",
       "\n",
       "[2 rows x 37 columns]"
      ]
     },
     "execution_count": 15,
     "metadata": {},
     "output_type": "execute_result"
    }
   ],
   "source": [
    "# Lower-case everything in a DataFrame column\n",
    "df.cuo1lastname = df.cuo1lastname.str.lower()\n",
    "df.head(2)"
   ]
  },
  {
   "cell_type": "code",
   "execution_count": 23,
   "metadata": {
    "collapsed": false
   },
   "outputs": [
    {
     "data": {
      "text/plain": [
       "1860    2.0\n",
       "9583    3.0\n",
       "3519    3.0\n",
       "7688    2.0\n",
       "8857    3.0\n",
       "Name: streetnumber, dtype: float64"
      ]
     },
     "execution_count": 23,
     "metadata": {},
     "output_type": "execute_result"
    }
   ],
   "source": [
    "# Get length of data in a DataFrame column\n",
    "dflen = df.streetnumber.str.len()\n",
    "dflen.head()"
   ]
  },
  {
   "cell_type": "code",
   "execution_count": 17,
   "metadata": {
    "collapsed": false
   },
   "outputs": [
    {
     "data": {
      "text/html": [
       "<div>\n",
       "<table border=\"1\" class=\"dataframe\">\n",
       "  <thead>\n",
       "    <tr style=\"text-align: right;\">\n",
       "      <th></th>\n",
       "      <th>accountnumber</th>\n",
       "      <th>parcelid</th>\n",
       "      <th>spannumber</th>\n",
       "      <th>streetnumber</th>\n",
       "      <th>alternatenumber</th>\n",
       "      <th>streetname</th>\n",
       "      <th>unit</th>\n",
       "      <th>cuo1lastname</th>\n",
       "      <th>cuo1firstname</th>\n",
       "      <th>cuo2lastname</th>\n",
       "      <th>...</th>\n",
       "      <th>saleprice</th>\n",
       "      <th>grantorname</th>\n",
       "      <th>numofrooms</th>\n",
       "      <th>numofbedrooms</th>\n",
       "      <th>bathscombined</th>\n",
       "      <th>numofunits</th>\n",
       "      <th>zoningcode</th>\n",
       "      <th>foundation</th>\n",
       "      <th>depreciation</th>\n",
       "      <th>propertycenterpoint</th>\n",
       "    </tr>\n",
       "  </thead>\n",
       "  <tbody>\n",
       "    <tr>\n",
       "      <th>1860</th>\n",
       "      <td>5333</td>\n",
       "      <td>044-4-033-000</td>\n",
       "      <td>114-035-15333</td>\n",
       "      <td>75</td>\n",
       "      <td>NaN</td>\n",
       "      <td>CHERRY ST</td>\n",
       "      <td>NaN</td>\n",
       "      <td>btc mall associates, llc</td>\n",
       "      <td>NaN</td>\n",
       "      <td>NaN</td>\n",
       "      <td>...</td>\n",
       "      <td>0</td>\n",
       "      <td>NaN</td>\n",
       "      <td>605</td>\n",
       "      <td>605</td>\n",
       "      <td>0 / 0</td>\n",
       "      <td>605</td>\n",
       "      <td>D</td>\n",
       "      <td>C</td>\n",
       "      <td>1.0000</td>\n",
       "      <td>(-73.215, 44.47894)</td>\n",
       "    </tr>\n",
       "    <tr>\n",
       "      <th>9583</th>\n",
       "      <td>7871</td>\n",
       "      <td>050-1-066-000</td>\n",
       "      <td>114-035-17871</td>\n",
       "      <td>225</td>\n",
       "      <td>NaN</td>\n",
       "      <td>SOUTH WILLARD ST</td>\n",
       "      <td>NaN</td>\n",
       "      <td>champlain college inc.</td>\n",
       "      <td>NaN</td>\n",
       "      <td>NaN</td>\n",
       "      <td>...</td>\n",
       "      <td>0</td>\n",
       "      <td>NaN</td>\n",
       "      <td>400</td>\n",
       "      <td>0</td>\n",
       "      <td>11 / 0</td>\n",
       "      <td>20</td>\n",
       "      <td>I</td>\n",
       "      <td>BS</td>\n",
       "      <td>0.3000</td>\n",
       "      <td>(-73.2063, 44.47431)</td>\n",
       "    </tr>\n",
       "    <tr>\n",
       "      <th>3519</th>\n",
       "      <td>7583</td>\n",
       "      <td>049-4-059-000</td>\n",
       "      <td>114-035-17583</td>\n",
       "      <td>230</td>\n",
       "      <td>NaN</td>\n",
       "      <td>ST PAUL ST</td>\n",
       "      <td>NaN</td>\n",
       "      <td>burlington housing authority</td>\n",
       "      <td>NaN</td>\n",
       "      <td>BHA DECKER TOWERS</td>\n",
       "      <td>...</td>\n",
       "      <td>0</td>\n",
       "      <td>NaN</td>\n",
       "      <td>371</td>\n",
       "      <td>106</td>\n",
       "      <td>161 / 1</td>\n",
       "      <td>161</td>\n",
       "      <td>RM</td>\n",
       "      <td>S</td>\n",
       "      <td>0.2782</td>\n",
       "      <td>(-73.213, 44.47275)</td>\n",
       "    </tr>\n",
       "  </tbody>\n",
       "</table>\n",
       "<p>3 rows × 37 columns</p>\n",
       "</div>"
      ],
      "text/plain": [
       "      accountnumber       parcelid     spannumber streetnumber  \\\n",
       "1860           5333  044-4-033-000  114-035-15333           75   \n",
       "9583           7871  050-1-066-000  114-035-17871          225   \n",
       "3519           7583  049-4-059-000  114-035-17583          230   \n",
       "\n",
       "     alternatenumber        streetname unit                  cuo1lastname  \\\n",
       "1860             NaN         CHERRY ST  NaN      btc mall associates, llc   \n",
       "9583             NaN  SOUTH WILLARD ST  NaN        champlain college inc.   \n",
       "3519             NaN        ST PAUL ST  NaN  burlington housing authority   \n",
       "\n",
       "     cuo1firstname       cuo2lastname          ...          saleprice  \\\n",
       "1860           NaN                NaN          ...                  0   \n",
       "9583           NaN                NaN          ...                  0   \n",
       "3519           NaN  BHA DECKER TOWERS          ...                  0   \n",
       "\n",
       "     grantorname numofrooms numofbedrooms  bathscombined  numofunits  \\\n",
       "1860         NaN        605           605          0 / 0         605   \n",
       "9583         NaN        400             0         11 / 0          20   \n",
       "3519         NaN        371           106        161 / 1         161   \n",
       "\n",
       "      zoningcode  foundation  depreciation   propertycenterpoint  \n",
       "1860           D           C        1.0000   (-73.215, 44.47894)  \n",
       "9583           I          BS        0.3000  (-73.2063, 44.47431)  \n",
       "3519          RM           S        0.2782   (-73.213, 44.47275)  \n",
       "\n",
       "[3 rows x 37 columns]"
      ]
     },
     "execution_count": 17,
     "metadata": {},
     "output_type": "execute_result"
    }
   ],
   "source": [
    "# Sort dataframe by multiple columns, 0 is descending from highest and 1 is ascending from lowest\n",
    "df = df.sort_values(by=['numofrooms','numofbedrooms','numofunits'],ascending=[0,1,0])\n",
    "\n",
    "df.head(3)"
   ]
  },
  {
   "cell_type": "code",
   "execution_count": 18,
   "metadata": {
    "collapsed": false
   },
   "outputs": [
    {
     "data": {
      "text/html": [
       "<div>\n",
       "<table border=\"1\" class=\"dataframe\">\n",
       "  <thead>\n",
       "    <tr style=\"text-align: right;\">\n",
       "      <th></th>\n",
       "      <th>accountnumber</th>\n",
       "      <th>parcelid</th>\n",
       "      <th>spannumber</th>\n",
       "      <th>streetnumber</th>\n",
       "      <th>alternatenumber</th>\n",
       "      <th>streetname</th>\n",
       "      <th>unit</th>\n",
       "      <th>cuo1lastname</th>\n",
       "      <th>cuo1firstname</th>\n",
       "      <th>cuo2lastname</th>\n",
       "      <th>...</th>\n",
       "      <th>saleprice</th>\n",
       "      <th>grantorname</th>\n",
       "      <th>numofrooms</th>\n",
       "      <th>numofbedrooms</th>\n",
       "      <th>bathscombined</th>\n",
       "      <th>numofunits</th>\n",
       "      <th>zoningcode</th>\n",
       "      <th>foundation</th>\n",
       "      <th>depreciation</th>\n",
       "      <th>propertycenterpoint</th>\n",
       "    </tr>\n",
       "  </thead>\n",
       "  <tbody>\n",
       "    <tr>\n",
       "      <th>1860</th>\n",
       "      <td>5333</td>\n",
       "      <td>044-4-033-000</td>\n",
       "      <td>114-035-15333</td>\n",
       "      <td>75</td>\n",
       "      <td>NaN</td>\n",
       "      <td>CHERRY ST</td>\n",
       "      <td>NaN</td>\n",
       "      <td>btc mall associates, llc</td>\n",
       "      <td>NaN</td>\n",
       "      <td>NaN</td>\n",
       "      <td>...</td>\n",
       "      <td>0</td>\n",
       "      <td>NaN</td>\n",
       "      <td>605</td>\n",
       "      <td>605</td>\n",
       "      <td>0 / 0</td>\n",
       "      <td>605</td>\n",
       "      <td>D</td>\n",
       "      <td>C</td>\n",
       "      <td>1.0000</td>\n",
       "      <td>(-73.215, 44.47894)</td>\n",
       "    </tr>\n",
       "    <tr>\n",
       "      <th>9583</th>\n",
       "      <td>7871</td>\n",
       "      <td>050-1-066-000</td>\n",
       "      <td>114-035-17871</td>\n",
       "      <td>225</td>\n",
       "      <td>NaN</td>\n",
       "      <td>SOUTH WILLARD ST</td>\n",
       "      <td>NaN</td>\n",
       "      <td>champlain college inc.</td>\n",
       "      <td>NaN</td>\n",
       "      <td>NaN</td>\n",
       "      <td>...</td>\n",
       "      <td>0</td>\n",
       "      <td>NaN</td>\n",
       "      <td>400</td>\n",
       "      <td>0</td>\n",
       "      <td>11 / 0</td>\n",
       "      <td>20</td>\n",
       "      <td>I</td>\n",
       "      <td>BS</td>\n",
       "      <td>0.3000</td>\n",
       "      <td>(-73.2063, 44.47431)</td>\n",
       "    </tr>\n",
       "    <tr>\n",
       "      <th>3519</th>\n",
       "      <td>7583</td>\n",
       "      <td>049-4-059-000</td>\n",
       "      <td>114-035-17583</td>\n",
       "      <td>230</td>\n",
       "      <td>NaN</td>\n",
       "      <td>ST PAUL ST</td>\n",
       "      <td>NaN</td>\n",
       "      <td>burlington housing authority</td>\n",
       "      <td>NaN</td>\n",
       "      <td>BHA DECKER TOWERS</td>\n",
       "      <td>...</td>\n",
       "      <td>0</td>\n",
       "      <td>NaN</td>\n",
       "      <td>371</td>\n",
       "      <td>106</td>\n",
       "      <td>161 / 1</td>\n",
       "      <td>161</td>\n",
       "      <td>RM</td>\n",
       "      <td>S</td>\n",
       "      <td>0.2782</td>\n",
       "      <td>(-73.213, 44.47275)</td>\n",
       "    </tr>\n",
       "    <tr>\n",
       "      <th>7688</th>\n",
       "      <td>7249</td>\n",
       "      <td>049-3-023-001</td>\n",
       "      <td>114-035-17249</td>\n",
       "      <td>80</td>\n",
       "      <td>NaN</td>\n",
       "      <td>ST PAUL ST</td>\n",
       "      <td>NaN</td>\n",
       "      <td>burlington savings bank</td>\n",
       "      <td>NaN</td>\n",
       "      <td>NaN</td>\n",
       "      <td>...</td>\n",
       "      <td>0</td>\n",
       "      <td>NaN</td>\n",
       "      <td>311</td>\n",
       "      <td>0</td>\n",
       "      <td>0 / 0</td>\n",
       "      <td>311</td>\n",
       "      <td>D</td>\n",
       "      <td>S</td>\n",
       "      <td>0.2775</td>\n",
       "      <td>(-73.2135, 44.47762)</td>\n",
       "    </tr>\n",
       "    <tr>\n",
       "      <th>8857</th>\n",
       "      <td>7856</td>\n",
       "      <td>050-1-051-000</td>\n",
       "      <td>114-035-17856</td>\n",
       "      <td>227</td>\n",
       "      <td>NaN</td>\n",
       "      <td>SOUTH WILLARD ST</td>\n",
       "      <td>NaN</td>\n",
       "      <td>champlain college inc.</td>\n",
       "      <td>NaN</td>\n",
       "      <td>NaN</td>\n",
       "      <td>...</td>\n",
       "      <td>0</td>\n",
       "      <td>NaN</td>\n",
       "      <td>289</td>\n",
       "      <td>0</td>\n",
       "      <td>8 / 2</td>\n",
       "      <td>25</td>\n",
       "      <td>I</td>\n",
       "      <td>BS</td>\n",
       "      <td>0.3000</td>\n",
       "      <td>(-73.2057, 44.47373)</td>\n",
       "    </tr>\n",
       "  </tbody>\n",
       "</table>\n",
       "<p>5 rows × 37 columns</p>\n",
       "</div>"
      ],
      "text/plain": [
       "      accountnumber       parcelid     spannumber streetnumber  \\\n",
       "1860           5333  044-4-033-000  114-035-15333           75   \n",
       "9583           7871  050-1-066-000  114-035-17871          225   \n",
       "3519           7583  049-4-059-000  114-035-17583          230   \n",
       "7688           7249  049-3-023-001  114-035-17249           80   \n",
       "8857           7856  050-1-051-000  114-035-17856          227   \n",
       "\n",
       "     alternatenumber        streetname unit                  cuo1lastname  \\\n",
       "1860             NaN         CHERRY ST  NaN      btc mall associates, llc   \n",
       "9583             NaN  SOUTH WILLARD ST  NaN        champlain college inc.   \n",
       "3519             NaN        ST PAUL ST  NaN  burlington housing authority   \n",
       "7688             NaN        ST PAUL ST  NaN       burlington savings bank   \n",
       "8857             NaN  SOUTH WILLARD ST  NaN        champlain college inc.   \n",
       "\n",
       "     cuo1firstname       cuo2lastname          ...          saleprice  \\\n",
       "1860           NaN                NaN          ...                  0   \n",
       "9583           NaN                NaN          ...                  0   \n",
       "3519           NaN  BHA DECKER TOWERS          ...                  0   \n",
       "7688           NaN                NaN          ...                  0   \n",
       "8857           NaN                NaN          ...                  0   \n",
       "\n",
       "     grantorname numofrooms numofbedrooms  bathscombined  numofunits  \\\n",
       "1860         NaN        605           605          0 / 0         605   \n",
       "9583         NaN        400             0         11 / 0          20   \n",
       "3519         NaN        371           106        161 / 1         161   \n",
       "7688         NaN        311             0          0 / 0         311   \n",
       "8857         NaN        289             0          8 / 2          25   \n",
       "\n",
       "      zoningcode  foundation  depreciation   propertycenterpoint  \n",
       "1860           D           C        1.0000   (-73.215, 44.47894)  \n",
       "9583           I          BS        0.3000  (-73.2063, 44.47431)  \n",
       "3519          RM           S        0.2782   (-73.213, 44.47275)  \n",
       "7688           D           S        0.2775  (-73.2135, 44.47762)  \n",
       "8857           I          BS        0.3000  (-73.2057, 44.47373)  \n",
       "\n",
       "[5 rows x 37 columns]"
      ]
     },
     "execution_count": 18,
     "metadata": {},
     "output_type": "execute_result"
    }
   ],
   "source": [
    "# Get top n for each group of columns in a sorted dataframe\n",
    "# (make sure dataframe is sorted first)\n",
    "top5 = df.groupby(['numofrooms','numofbedrooms']).head(5)\n",
    "top5.head()"
   ]
  },
  {
   "cell_type": "code",
   "execution_count": 19,
   "metadata": {
    "collapsed": false
   },
   "outputs": [
    {
     "data": {
      "text/html": [
       "<div>\n",
       "<table border=\"1\" class=\"dataframe\">\n",
       "  <thead>\n",
       "    <tr style=\"text-align: right;\">\n",
       "      <th></th>\n",
       "      <th>accountnumber</th>\n",
       "      <th>parcelid</th>\n",
       "      <th>spannumber</th>\n",
       "      <th>streetnumber</th>\n",
       "      <th>alternatenumber</th>\n",
       "      <th>streetname</th>\n",
       "      <th>unit</th>\n",
       "      <th>cuo1lastname</th>\n",
       "      <th>cuo1firstname</th>\n",
       "      <th>cuo2lastname</th>\n",
       "      <th>...</th>\n",
       "      <th>saleprice</th>\n",
       "      <th>grantorname</th>\n",
       "      <th>numofrooms</th>\n",
       "      <th>numofbedrooms</th>\n",
       "      <th>bathscombined</th>\n",
       "      <th>numofunits</th>\n",
       "      <th>zoningcode</th>\n",
       "      <th>foundation</th>\n",
       "      <th>depreciation</th>\n",
       "      <th>propertycenterpoint</th>\n",
       "    </tr>\n",
       "  </thead>\n",
       "  <tbody>\n",
       "    <tr>\n",
       "      <th>899</th>\n",
       "      <td>4881</td>\n",
       "      <td>044-2-019-000</td>\n",
       "      <td>114-035-14881</td>\n",
       "      <td>10</td>\n",
       "      <td>20</td>\n",
       "      <td>NORTH CHAMPLAIN ST</td>\n",
       "      <td>NaN</td>\n",
       "      <td>burlington housing authority</td>\n",
       "      <td>NaN</td>\n",
       "      <td>NaN</td>\n",
       "      <td>...</td>\n",
       "      <td>0</td>\n",
       "      <td>NaN</td>\n",
       "      <td>158</td>\n",
       "      <td>56</td>\n",
       "      <td>51 / 1</td>\n",
       "      <td>51</td>\n",
       "      <td>DT</td>\n",
       "      <td>S</td>\n",
       "      <td>0.228</td>\n",
       "      <td>(-73.217, 44.48069)</td>\n",
       "    </tr>\n",
       "    <tr>\n",
       "      <th>6547</th>\n",
       "      <td>11093</td>\n",
       "      <td>044-2-147-001</td>\n",
       "      <td>114-035-52634</td>\n",
       "      <td>41</td>\n",
       "      <td>55</td>\n",
       "      <td>CHERRY ST</td>\n",
       "      <td>NaN</td>\n",
       "      <td>41 cherry street llc</td>\n",
       "      <td>NaN</td>\n",
       "      <td>NaN</td>\n",
       "      <td>...</td>\n",
       "      <td>0</td>\n",
       "      <td>NaN</td>\n",
       "      <td>127</td>\n",
       "      <td>127</td>\n",
       "      <td>128 / 4</td>\n",
       "      <td>128</td>\n",
       "      <td>D</td>\n",
       "      <td>C</td>\n",
       "      <td>0.000</td>\n",
       "      <td>NaN</td>\n",
       "    </tr>\n",
       "    <tr>\n",
       "      <th>7484</th>\n",
       "      <td>4885</td>\n",
       "      <td>044-2-023-000</td>\n",
       "      <td>114-035-14885</td>\n",
       "      <td>80</td>\n",
       "      <td>90</td>\n",
       "      <td>PEARL ST</td>\n",
       "      <td>NaN</td>\n",
       "      <td>bove</td>\n",
       "      <td>RICHARD J</td>\n",
       "      <td>BOVE</td>\n",
       "      <td>...</td>\n",
       "      <td>0</td>\n",
       "      <td>NaN</td>\n",
       "      <td>123</td>\n",
       "      <td>54</td>\n",
       "      <td>34 / 8</td>\n",
       "      <td>34</td>\n",
       "      <td>DT</td>\n",
       "      <td>C</td>\n",
       "      <td>0.018</td>\n",
       "      <td>(-73.2157, 44.48059)</td>\n",
       "    </tr>\n",
       "  </tbody>\n",
       "</table>\n",
       "<p>3 rows × 37 columns</p>\n",
       "</div>"
      ],
      "text/plain": [
       "      accountnumber       parcelid     spannumber streetnumber  \\\n",
       "899            4881  044-2-019-000  114-035-14881           10   \n",
       "6547          11093  044-2-147-001  114-035-52634           41   \n",
       "7484           4885  044-2-023-000  114-035-14885           80   \n",
       "\n",
       "     alternatenumber          streetname unit                  cuo1lastname  \\\n",
       "899               20  NORTH CHAMPLAIN ST  NaN  burlington housing authority   \n",
       "6547              55           CHERRY ST  NaN          41 cherry street llc   \n",
       "7484              90            PEARL ST  NaN                          bove   \n",
       "\n",
       "     cuo1firstname cuo2lastname          ...          saleprice grantorname  \\\n",
       "899            NaN          NaN          ...                  0         NaN   \n",
       "6547           NaN          NaN          ...                  0         NaN   \n",
       "7484     RICHARD J         BOVE          ...                  0         NaN   \n",
       "\n",
       "     numofrooms numofbedrooms  bathscombined  numofunits  zoningcode  \\\n",
       "899         158            56         51 / 1          51          DT   \n",
       "6547        127           127        128 / 4         128           D   \n",
       "7484        123            54         34 / 8          34          DT   \n",
       "\n",
       "      foundation  depreciation   propertycenterpoint  \n",
       "899            S         0.228   (-73.217, 44.48069)  \n",
       "6547           C         0.000                   NaN  \n",
       "7484           C         0.018  (-73.2157, 44.48059)  \n",
       "\n",
       "[3 rows x 37 columns]"
      ]
     },
     "execution_count": 19,
     "metadata": {},
     "output_type": "execute_result"
    }
   ],
   "source": [
    "# Grab DataFrame rows where specific column notnull\n",
    "notnulldf = df[df['alternatenumber'].notnull()]\n",
    "notnulldf.head(3)"
   ]
  },
  {
   "cell_type": "code",
   "execution_count": 20,
   "metadata": {
    "collapsed": false
   },
   "outputs": [
    {
     "data": {
      "text/html": [
       "<div>\n",
       "<table border=\"1\" class=\"dataframe\">\n",
       "  <thead>\n",
       "    <tr style=\"text-align: right;\">\n",
       "      <th></th>\n",
       "      <th>accountnumber</th>\n",
       "      <th>parcelid</th>\n",
       "      <th>spannumber</th>\n",
       "      <th>streetnumber</th>\n",
       "      <th>alternatenumber</th>\n",
       "      <th>streetname</th>\n",
       "      <th>unit</th>\n",
       "      <th>cuo1lastname</th>\n",
       "      <th>cuo1firstname</th>\n",
       "      <th>cuo2lastname</th>\n",
       "      <th>...</th>\n",
       "      <th>saleprice</th>\n",
       "      <th>grantorname</th>\n",
       "      <th>numofrooms</th>\n",
       "      <th>numofbedrooms</th>\n",
       "      <th>bathscombined</th>\n",
       "      <th>numofunits</th>\n",
       "      <th>zoningcode</th>\n",
       "      <th>foundation</th>\n",
       "      <th>depreciation</th>\n",
       "      <th>propertycenterpoint</th>\n",
       "    </tr>\n",
       "  </thead>\n",
       "  <tbody>\n",
       "    <tr>\n",
       "      <th>1860</th>\n",
       "      <td>5333</td>\n",
       "      <td>044-4-033-000</td>\n",
       "      <td>114-035-15333</td>\n",
       "      <td>75</td>\n",
       "      <td>NaN</td>\n",
       "      <td>CHERRY ST</td>\n",
       "      <td>NaN</td>\n",
       "      <td>btc mall associates, llc</td>\n",
       "      <td>NaN</td>\n",
       "      <td>NaN</td>\n",
       "      <td>...</td>\n",
       "      <td>0</td>\n",
       "      <td>NaN</td>\n",
       "      <td>605</td>\n",
       "      <td>605</td>\n",
       "      <td>0 / 0</td>\n",
       "      <td>605</td>\n",
       "      <td>D</td>\n",
       "      <td>C</td>\n",
       "      <td>1.0000</td>\n",
       "      <td>(-73.215, 44.47894)</td>\n",
       "    </tr>\n",
       "    <tr>\n",
       "      <th>9583</th>\n",
       "      <td>7871</td>\n",
       "      <td>050-1-066-000</td>\n",
       "      <td>114-035-17871</td>\n",
       "      <td>225</td>\n",
       "      <td>NaN</td>\n",
       "      <td>SOUTH WILLARD ST</td>\n",
       "      <td>NaN</td>\n",
       "      <td>champlain college inc.</td>\n",
       "      <td>NaN</td>\n",
       "      <td>NaN</td>\n",
       "      <td>...</td>\n",
       "      <td>0</td>\n",
       "      <td>NaN</td>\n",
       "      <td>400</td>\n",
       "      <td>0</td>\n",
       "      <td>11 / 0</td>\n",
       "      <td>20</td>\n",
       "      <td>I</td>\n",
       "      <td>BS</td>\n",
       "      <td>0.3000</td>\n",
       "      <td>(-73.2063, 44.47431)</td>\n",
       "    </tr>\n",
       "    <tr>\n",
       "      <th>3519</th>\n",
       "      <td>7583</td>\n",
       "      <td>049-4-059-000</td>\n",
       "      <td>114-035-17583</td>\n",
       "      <td>230</td>\n",
       "      <td>NaN</td>\n",
       "      <td>ST PAUL ST</td>\n",
       "      <td>NaN</td>\n",
       "      <td>burlington housing authority</td>\n",
       "      <td>NaN</td>\n",
       "      <td>BHA DECKER TOWERS</td>\n",
       "      <td>...</td>\n",
       "      <td>0</td>\n",
       "      <td>NaN</td>\n",
       "      <td>371</td>\n",
       "      <td>106</td>\n",
       "      <td>161 / 1</td>\n",
       "      <td>161</td>\n",
       "      <td>RM</td>\n",
       "      <td>S</td>\n",
       "      <td>0.2782</td>\n",
       "      <td>(-73.213, 44.47275)</td>\n",
       "    </tr>\n",
       "  </tbody>\n",
       "</table>\n",
       "<p>3 rows × 37 columns</p>\n",
       "</div>"
      ],
      "text/plain": [
       "      accountnumber       parcelid     spannumber streetnumber  \\\n",
       "1860           5333  044-4-033-000  114-035-15333           75   \n",
       "9583           7871  050-1-066-000  114-035-17871          225   \n",
       "3519           7583  049-4-059-000  114-035-17583          230   \n",
       "\n",
       "     alternatenumber        streetname unit                  cuo1lastname  \\\n",
       "1860             NaN         CHERRY ST  NaN      btc mall associates, llc   \n",
       "9583             NaN  SOUTH WILLARD ST  NaN        champlain college inc.   \n",
       "3519             NaN        ST PAUL ST  NaN  burlington housing authority   \n",
       "\n",
       "     cuo1firstname       cuo2lastname          ...          saleprice  \\\n",
       "1860           NaN                NaN          ...                  0   \n",
       "9583           NaN                NaN          ...                  0   \n",
       "3519           NaN  BHA DECKER TOWERS          ...                  0   \n",
       "\n",
       "     grantorname numofrooms numofbedrooms  bathscombined  numofunits  \\\n",
       "1860         NaN        605           605          0 / 0         605   \n",
       "9583         NaN        400             0         11 / 0          20   \n",
       "3519         NaN        371           106        161 / 1         161   \n",
       "\n",
       "      zoningcode  foundation  depreciation   propertycenterpoint  \n",
       "1860           D           C        1.0000   (-73.215, 44.47894)  \n",
       "9583           I          BS        0.3000  (-73.2063, 44.47431)  \n",
       "3519          RM           S        0.2782   (-73.213, 44.47275)  \n",
       "\n",
       "[3 rows x 37 columns]"
      ]
     },
     "execution_count": 20,
     "metadata": {},
     "output_type": "execute_result"
    }
   ],
   "source": [
    "# Grab DataFrame rows where specific column is null\n",
    "nulldf = df[df['alternatenumber'].isnull()]\n",
    "nulldf.head(3)"
   ]
  },
  {
   "cell_type": "markdown",
   "metadata": {},
   "source": [
    "Everything Below IS IN PROGRESS\n",
    "================="
   ]
  },
  {
   "cell_type": "code",
   "execution_count": 21,
   "metadata": {
    "collapsed": false
   },
   "outputs": [
    {
     "ename": "SyntaxError",
     "evalue": "Missing parentheses in call to 'print' (<ipython-input-21-a249cdb35683>, line 7)",
     "output_type": "error",
     "traceback": [
      "\u001b[0;36m  File \u001b[0;32m\"<ipython-input-21-a249cdb35683>\"\u001b[0;36m, line \u001b[0;32m7\u001b[0m\n\u001b[0;31m    print index, row['some column']\u001b[0m\n\u001b[0m              ^\u001b[0m\n\u001b[0;31mSyntaxError\u001b[0m\u001b[0;31m:\u001b[0m Missing parentheses in call to 'print'\n"
     ]
    }
   ],
   "source": [
    "# Even more fancy DataFrame column re-naming\n",
    "# lower-case all DataFrame column names (for example)\n",
    "df.rename(columns=lambda x: x.split('.')[-1], inplace=True)\n",
    "# Loop through rows in a DataFrame\n",
    "# (if you must)\n",
    "for index, row in df.iterrows():\n",
    "    print index, row['some column']"
   ]
  },
  {
   "cell_type": "code",
   "execution_count": null,
   "metadata": {
    "collapsed": false
   },
   "outputs": [],
   "source": [
    "# Select from DataFrame using multiple keys of a hierarchical index\n",
    "#df.xs(('index level 1 value','index level 2 value'), level=('level 1','level 2'))"
   ]
  },
  {
   "cell_type": "code",
   "execution_count": null,
   "metadata": {
    "collapsed": false
   },
   "outputs": [],
   "source": [
    "# Change all NaNs to None (useful before loading to a db)\n",
    "#df = df.where((pd.notnull(df)), None)\n",
    "df.head(3)"
   ]
  },
  {
   "cell_type": "code",
   "execution_count": null,
   "metadata": {
    "collapsed": false
   },
   "outputs": [],
   "source": [
    "# Get quick count of rows in a DataFrame\n",
    "len(df.index)"
   ]
  },
  {
   "cell_type": "code",
   "execution_count": null,
   "metadata": {
    "collapsed": true
   },
   "outputs": [],
   "source": [
    "# Pivot data (with flexibility about what what\n",
    "# becomes a column and what stays a row)\n",
    "# Syntax works on Pandas >= .14\n",
    "#pd.pivot_table(\n",
    "#  df,values='cell_value',\n",
    "#  index=['col1', 'col2', 'col3'], #these stay as columns; will fail silently if any of these cols have null values\n",
    "#  columns=['col4']) #data values in this column become their own column\n"
   ]
  },
  {
   "cell_type": "code",
   "execution_count": null,
   "metadata": {
    "collapsed": true
   },
   "outputs": [],
   "source": [
    "# Change data type of DataFrame column\n",
    "df.column_name = df.column_name.astype(np.int64)"
   ]
  },
  {
   "cell_type": "code",
   "execution_count": null,
   "metadata": {
    "collapsed": true
   },
   "outputs": [],
   "source": [
    "# Set DataFrame column values based on other column values (h/t: @mlevkov)\n",
    "df.loc[(df['column1'] == some_value) & (df['column2'] == some_other_value), ['column_to_change']] = new_value"
   ]
  },
  {
   "cell_type": "code",
   "execution_count": null,
   "metadata": {
    "collapsed": true
   },
   "outputs": [],
   "source": [
    "# Clean up missing values in multiple DataFrame columns\n",
    "df = df.fillna({\n",
    "    'col1': 'missing',\n",
    "    'col2': '99.999',\n",
    "    'col3': '999',\n",
    "    'col4': 'missing',\n",
    "    'col5': 'missing',\n",
    "    'col6': '99'\n",
    "})"
   ]
  },
  {
   "cell_type": "code",
   "execution_count": null,
   "metadata": {
    "collapsed": true
   },
   "outputs": [],
   "source": [
    "# Concatenate two DataFrame columns into a new, single column\n",
    "# (useful when dealing with composite keys, for example)\n",
    "#df['newcol'] = df['col1'].map(str) + df['col2'].map(str)"
   ]
  },
  {
   "cell_type": "code",
   "execution_count": null,
   "metadata": {
    "collapsed": true
   },
   "outputs": [],
   "source": [
    "# Doing calculations with DataFrame columns that have missing values\n",
    "# In example below, swap in 0 for df['col1'] cells that contain null\n",
    "df['new_col'] = np.where(pd.isnull(df['col1']),0,df['col1']) + df['col2']"
   ]
  },
  {
   "cell_type": "code",
   "execution_count": null,
   "metadata": {
    "collapsed": true
   },
   "outputs": [],
   "source": [
    "# Split delimited values in a DataFrame column into two new columns\n",
    "df['new_col1'], df['new_col2'] = zip(*df['original_col'].apply(lambda x: x.split(': ', 1)))"
   ]
  },
  {
   "cell_type": "code",
   "execution_count": null,
   "metadata": {
    "collapsed": true
   },
   "outputs": [],
   "source": [
    "# Get rid of non-numeric values throughout a DataFrame:\n",
    "for col in refunds.columns.values:\n",
    "  refunds[col] = refunds[col].replace('[^0-9]+.-', '', regex=True)"
   ]
  },
  {
   "cell_type": "code",
   "execution_count": null,
   "metadata": {
    "collapsed": true
   },
   "outputs": [],
   "source": [
    "# Collapse hierarchical column indexes\n",
    "df.columns = df.columns.get_level_values(0)"
   ]
  },
  {
   "cell_type": "code",
   "execution_count": null,
   "metadata": {
    "collapsed": true
   },
   "outputs": [],
   "source": [
    "# Convert Django queryset to DataFrame\n",
    "qs = DjangoModelName.objects.all()\n",
    "q = qs.values()\n",
    "df = pd.DataFrame.from_records(q)\n"
   ]
  },
  {
   "cell_type": "code",
   "execution_count": null,
   "metadata": {
    "collapsed": true
   },
   "outputs": [],
   "source": [
    "# Create a DataFrame from a Python dictionary\n",
    "df = pd.DataFrame(list(a_dictionary.items()), columns = ['column1', 'column2'])"
   ]
  },
  {
   "cell_type": "code",
   "execution_count": null,
   "metadata": {
    "collapsed": true
   },
   "outputs": [],
   "source": [
    "# Get a report of all duplicate records in a dataframe, based on specific columns\n",
    "dupes = df[df.duplicated(['col1', 'col2', 'col3'], keep=False)]"
   ]
  },
  {
   "cell_type": "code",
   "execution_count": null,
   "metadata": {
    "collapsed": true
   },
   "outputs": [],
   "source": [
    "# Set up formatting so larger numbers aren't displayed in scientific notation (h/t @thecapacity)\n",
    "pd.set_option('display.float_format', lambda x: '%.3f' % x)"
   ]
  },
  {
   "cell_type": "code",
   "execution_count": null,
   "metadata": {
    "collapsed": true
   },
   "outputs": [],
   "source": [
    "wholedf['Date'] = pd.to_datetime(wholedf['Date'])"
   ]
  }
 ],
 "metadata": {
  "anaconda-cloud": {},
  "kernelspec": {
   "display_name": "Python [conda root]",
   "language": "python",
   "name": "conda-root-py"
  },
  "language_info": {
   "codemirror_mode": {
    "name": "ipython",
    "version": 3
   },
   "file_extension": ".py",
   "mimetype": "text/x-python",
   "name": "python",
   "nbconvert_exporter": "python",
   "pygments_lexer": "ipython3",
   "version": "3.5.2"
  }
 },
 "nbformat": 4,
 "nbformat_minor": 1
}
