{
 "cells": [
  {
   "cell_type": "markdown",
   "metadata": {},
   "source": [
    "Pandas\n",
    "==========\n",
    "Pandas is a powerful tool to manipulate dataframes in Python.  There are many features and examples are listed below.\n",
    "\n",
    "Addiitional releated packages:\n",
    "* NumPy: the fundamental package for scientific computing\n",
    "* matplotlib: the most popular Python library for producing plots and other 2D data visualizations\n",
    "* pandas: a library providing high-performance, easy-to-use data structures and data analysis tools\n",
    "* SciPy: a collection of packages addressing a number of different standard problem domains in scientific computing\n",
    "* sklearn: machine learning in Python"
   ]
  },
  {
   "cell_type": "code",
   "execution_count": 1,
   "metadata": {
    "collapsed": true
   },
   "outputs": [],
   "source": [
    "import numpy as np\n",
    "import pandas as pd"
   ]
  },
  {
   "cell_type": "code",
   "execution_count": 2,
   "metadata": {
    "collapsed": false
   },
   "outputs": [],
   "source": [
    "df = pd.read_csv('~/Desktop/PythonLearning/City_of_Burlington_Property_Details.csv')"
   ]
  },
  {
   "cell_type": "markdown",
   "metadata": {},
   "source": [
    "replacing vaues with NaN, Suppose the letter included is 'g':\n",
    "\n",
    "cchs = pd.read_csv(\"cchs2012.csv\", header=0, na_values=['g'])\n",
    " \n",
    "If the data contains missing data indicated by 'NA', you can read the data in as follows:\n",
    "\n",
    "cchs = pd.read_csv(\"cchs2012.csv\", header=0, na_values=['NA'])"
   ]
  },
  {
   "cell_type": "code",
   "execution_count": 3,
   "metadata": {
    "collapsed": false,
    "scrolled": true
   },
   "outputs": [
    {
     "name": "stdout",
     "output_type": "stream",
     "text": [
      "<class 'pandas.core.frame.DataFrame'>\n",
      "RangeIndex: 10832 entries, 0 to 10831\n",
      "Data columns (total 38 columns):\n",
      "AccountNumber            10832 non-null int64\n",
      "ParcelID                 10832 non-null object\n",
      "SpanNumber               10832 non-null object\n",
      "StreetNumber             10827 non-null object\n",
      "AlternateNumber          1074 non-null object\n",
      "StreetName               10832 non-null object\n",
      "Unit                     2076 non-null object\n",
      "CuO1LastName             10831 non-null object\n",
      "CuO1FirstName            8519 non-null object\n",
      "CuO2LastName             5633 non-null object\n",
      "CuO2FirstName            5107 non-null object\n",
      "CuO3LastName             572 non-null object\n",
      "CuO3FirstName            461 non-null object\n",
      "LandUse                  10832 non-null object\n",
      "CurrentAcres             10832 non-null float64\n",
      "TotalGrossArea           10832 non-null int64\n",
      "FinishedArea             10832 non-null float64\n",
      "CurrentValue             10832 non-null float64\n",
      "CurrentLandValue         10832 non-null int64\n",
      "CurrentYardItemsValue    10832 non-null int64\n",
      "CurrentBuildingValue     10832 non-null float64\n",
      "BuildingType             10431 non-null object\n",
      "HeatFuel                 10339 non-null object\n",
      "HeatType                 10409 non-null object\n",
      "Grade                    10431 non-null object\n",
      "YearBlt                  10832 non-null int64\n",
      "SaleDate                 4636 non-null object\n",
      "SalePrice                10832 non-null int64\n",
      "LegalReference           10832 non-null object\n",
      "GrantorLastName          4635 non-null object\n",
      "NumofRooms               10832 non-null int64\n",
      "NumofBedrooms            10832 non-null int64\n",
      "Baths                    10832 non-null object\n",
      "NumofUnits               10832 non-null int64\n",
      "ZoningCode               10777 non-null object\n",
      "Foundation               10382 non-null object\n",
      "Depreciation             10832 non-null float64\n",
      "PropertyCenterPoint      10615 non-null object\n",
      "dtypes: float64(5), int64(9), object(24)\n",
      "memory usage: 3.1+ MB\n"
     ]
    }
   ],
   "source": [
    "# Checks correlation of the dataframe, specify a column in the parenthesis to check against a specific variable\n",
    "df.corr()\n",
    "\n",
    "# Display the top 5 rows (including the column names)\n",
    "df.head(5)\n",
    "\n",
    "# Lists summary info of datafram including count of non-null elements, data type, memory useage and range index\n",
    "df.info()\n",
    "\n",
    "# Count of number of rows and columns (in that order) ex: (24,12)\n",
    "#df.shape()"
   ]
  },
  {
   "cell_type": "code",
   "execution_count": 67,
   "metadata": {
    "collapsed": false
   },
   "outputs": [
    {
     "data": {
      "text/plain": [
       "1860    Commercial Land\n",
       "9583     Partial Exempt\n",
       "3519             Exempt\n",
       "7688         Commercial\n",
       "Name: LandUse, dtype: object"
      ]
     },
     "execution_count": 67,
     "metadata": {},
     "output_type": "execute_result"
    }
   ],
   "source": [
    "#Just pull a specific column\n",
    "df['LandUse'].head(4)"
   ]
  },
  {
   "cell_type": "code",
   "execution_count": 68,
   "metadata": {
    "collapsed": false
   },
   "outputs": [
    {
     "data": {
      "text/plain": [
       "Single Family                   5176\n",
       "Residential Condo               2150\n",
       "2 Family                        1041\n",
       "3 Family                         369\n",
       "Apartments 5+Units               367\n",
       "Commercial                       299\n",
       "Exempt                           286\n",
       "4 Family                         239\n",
       "Res. Vacant Land                 235\n",
       "Commercial and Residential       158\n",
       "Mobile Home                      117\n",
       "Exempt Land                      112\n",
       "Commercial Condo                  91\n",
       "Seasonal home                     45\n",
       "Partial Exempt                    43\n",
       "Commercial Land                   34\n",
       "Industrial                        22\n",
       "Exempt Utility                    11\n",
       "Mobile Home w/Land                 8\n",
       "RESIDENTAL APT CONDO               6\n",
       "Utility Electric                   6\n",
       "Farmland                           6\n",
       "Utility Other                      4\n",
       "Industrial Land                    3\n",
       "Farm                               2\n",
       "Commercial/Residential Condo       1\n",
       "Cable TV personal property         1\n",
       "Name: LandUse, dtype: int64"
      ]
     },
     "execution_count": 68,
     "metadata": {},
     "output_type": "execute_result"
    }
   ],
   "source": [
    "df['LandUse'].value_counts()"
   ]
  },
  {
   "cell_type": "code",
   "execution_count": 4,
   "metadata": {
    "collapsed": false
   },
   "outputs": [
    {
     "data": {
      "text/plain": [
       "array([  0,   1,   2,   4,  13,   3,   6,   5,  19,  44,  37, 123,   7,\n",
       "        49,   9,  61,  11,  10,   8, 109,  21,  16, 401,  26,  51,  33,\n",
       "        27,  12,  17,  41,  47, 125,  23,  54,  25, 375,  39, 605,  80,\n",
       "       112,  42,  52,  24,  55, 462,  14, 140,  15, 161,  20,  18,  76,\n",
       "       258,  22,  34,  36,  31,  82,  28, 396,  81, 581, 205, 460, 303,\n",
       "        29, 227, 128,  84, 144, 311, 216,  66, 160,  59,  56,  65, 225,\n",
       "       117, 338, 220,  43,  35,  40, 908,  30, 679, 150], dtype=int64)"
      ]
     },
     "execution_count": 4,
     "metadata": {},
     "output_type": "execute_result"
    }
   ],
   "source": [
    "# List unique values in a DataFrame column\n",
    "pd.unique(df.NumofUnits.ravel())"
   ]
  },
  {
   "cell_type": "code",
   "execution_count": 5,
   "metadata": {
    "collapsed": false
   },
   "outputs": [
    {
     "data": {
      "text/plain": [
       "10832"
      ]
     },
     "execution_count": 5,
     "metadata": {},
     "output_type": "execute_result"
    }
   ],
   "source": [
    "# Get quick count of rows in a DataFrame\n",
    "len(df.index)"
   ]
  },
  {
   "cell_type": "markdown",
   "metadata": {},
   "source": [
    "Numpy\n",
    "-----------\n",
    "Quick Mathmatical Functions"
   ]
  },
  {
   "cell_type": "code",
   "execution_count": 6,
   "metadata": {
    "collapsed": false
   },
   "outputs": [
    {
     "data": {
      "text/plain": [
       "AccountNumber              5538.50000\n",
       "CurrentAcres                  0.15152\n",
       "TotalGrossArea             3174.00000\n",
       "FinishedArea               1602.00000\n",
       "CurrentValue             236150.00000\n",
       "CurrentLandValue          91600.00000\n",
       "CurrentYardItemsValue         0.00000\n",
       "CurrentBuildingValue     147600.00000\n",
       "YearBlt                    1950.00000\n",
       "SalePrice                     0.00000\n",
       "NumofRooms                    6.00000\n",
       "NumofBedrooms                 3.00000\n",
       "NumofUnits                    1.00000\n",
       "Depreciation                  0.24000\n",
       "dtype: float64"
      ]
     },
     "execution_count": 6,
     "metadata": {},
     "output_type": "execute_result"
    }
   ],
   "source": [
    "# Mathmatical description and statistics of all numerical columns\n",
    "df.describe()\n",
    "\n",
    "# Returns a count of not null elements in each column (much like df.info)\n",
    "df.count()\n",
    "\n",
    "# Returns a list of numerical columns with total sum\n",
    "df.sum()\n",
    "\n",
    "# Returns a list of numerical columns with standard deviation\n",
    "df.std()\n",
    "\n",
    "# Returns a list of numerical columns with mean\n",
    "df.mean()\n",
    "\n",
    "# Returns a list of numerical columns with median\n",
    "df.median()"
   ]
  },
  {
   "cell_type": "code",
   "execution_count": 7,
   "metadata": {
    "collapsed": false
   },
   "outputs": [
    {
     "data": {
      "text/plain": [
       "0    3.0\n",
       "1    2.0\n",
       "2    2.0\n",
       "3    3.0\n",
       "4    2.0\n",
       "Name: StreetNumber, dtype: float64"
      ]
     },
     "execution_count": 7,
     "metadata": {},
     "output_type": "execute_result"
    }
   ],
   "source": [
    "# Get length of data in a DataFrame column\n",
    "dflen = df.StreetNumber.str.len()\n",
    "dflen.head()"
   ]
  },
  {
   "cell_type": "markdown",
   "metadata": {},
   "source": [
    "Creating Group By Lists\n",
    "------------"
   ]
  },
  {
   "cell_type": "code",
   "execution_count": 62,
   "metadata": {
    "collapsed": false
   },
   "outputs": [
    {
     "data": {
      "text/html": [
       "<div>\n",
       "<table border=\"1\" class=\"dataframe\">\n",
       "  <thead>\n",
       "    <tr style=\"text-align: right;\">\n",
       "      <th></th>\n",
       "      <th>HeatType</th>\n",
       "      <th>NumofRooms</th>\n",
       "    </tr>\n",
       "  </thead>\n",
       "  <tbody>\n",
       "    <tr>\n",
       "      <th>0</th>\n",
       "      <td>ELECTRIC</td>\n",
       "      <td>307</td>\n",
       "    </tr>\n",
       "    <tr>\n",
       "      <th>1</th>\n",
       "      <td>H WATER/RADI</td>\n",
       "      <td>52</td>\n",
       "    </tr>\n",
       "    <tr>\n",
       "      <th>2</th>\n",
       "      <td>HEAT PUMP</td>\n",
       "      <td>69</td>\n",
       "    </tr>\n",
       "    <tr>\n",
       "      <th>3</th>\n",
       "      <td>HOT AIR</td>\n",
       "      <td>4240</td>\n",
       "    </tr>\n",
       "    <tr>\n",
       "      <th>4</th>\n",
       "      <td>HOT WATER</td>\n",
       "      <td>4482</td>\n",
       "    </tr>\n",
       "    <tr>\n",
       "      <th>5</th>\n",
       "      <td>HVAC</td>\n",
       "      <td>80</td>\n",
       "    </tr>\n",
       "    <tr>\n",
       "      <th>6</th>\n",
       "      <td>RADIANT FLR</td>\n",
       "      <td>60</td>\n",
       "    </tr>\n",
       "    <tr>\n",
       "      <th>7</th>\n",
       "      <td>SPACE HEAT</td>\n",
       "      <td>823</td>\n",
       "    </tr>\n",
       "    <tr>\n",
       "      <th>8</th>\n",
       "      <td>STEAM</td>\n",
       "      <td>249</td>\n",
       "    </tr>\n",
       "    <tr>\n",
       "      <th>9</th>\n",
       "      <td>TYPICAL</td>\n",
       "      <td>6</td>\n",
       "    </tr>\n",
       "    <tr>\n",
       "      <th>10</th>\n",
       "      <td>UNHEATED</td>\n",
       "      <td>41</td>\n",
       "    </tr>\n",
       "  </tbody>\n",
       "</table>\n",
       "</div>"
      ],
      "text/plain": [
       "        HeatType  NumofRooms\n",
       "0       ELECTRIC         307\n",
       "1   H WATER/RADI          52\n",
       "2      HEAT PUMP          69\n",
       "3        HOT AIR        4240\n",
       "4      HOT WATER        4482\n",
       "5           HVAC          80\n",
       "6    RADIANT FLR          60\n",
       "7     SPACE HEAT         823\n",
       "8          STEAM         249\n",
       "9        TYPICAL           6\n",
       "10      UNHEATED          41"
      ]
     },
     "execution_count": 62,
     "metadata": {},
     "output_type": "execute_result"
    }
   ],
   "source": [
    "df[[\"HeatType\", \"NumofRooms\"]].groupby(['HeatType'], as_index=False).count()\n",
    "#df[[\"HeatType\", \"NumofRooms\"]].groupby(['HeatType'], as_index=False).mean()\n",
    "#df[[\"HeatType\", \"NumofRooms\"]].groupby(['HeatType'], as_index=False).median()\n"
   ]
  },
  {
   "cell_type": "markdown",
   "metadata": {},
   "source": [
    "Numpy Percentiles\n",
    "------------"
   ]
  },
  {
   "cell_type": "code",
   "execution_count": 8,
   "metadata": {
    "collapsed": false
   },
   "outputs": [
    {
     "data": {
      "text/plain": [
       "array([  0.00000000e+00,   2.31700000e+03,   3.17400000e+03,\n",
       "         2.54235100e+06])"
      ]
     },
     "execution_count": 8,
     "metadata": {},
     "output_type": "execute_result"
    }
   ],
   "source": [
    "# Returns percentile value for specificed column\n",
    "np.percentile(df['TotalGrossArea'],25)\n",
    "\n",
    "# Returns an array of specified percentiles for specificed column, it is in scientific notation because it is float\n",
    "np.percentile(df['TotalGrossArea'],[0,25,50,100])"
   ]
  },
  {
   "cell_type": "code",
   "execution_count": 9,
   "metadata": {
    "collapsed": false
   },
   "outputs": [
    {
     "data": {
      "text/plain": [
       "array([    0.,  1905.,  1950.,  2015.])"
      ]
     },
     "execution_count": 9,
     "metadata": {},
     "output_type": "execute_result"
    }
   ],
   "source": [
    "# When doing it with an interger it will not have scientific notation\n",
    "np.percentile(df['YearBlt'],[0,25,50,100])"
   ]
  },
  {
   "cell_type": "markdown",
   "metadata": {},
   "source": [
    "Binning\n",
    "------"
   ]
  },
  {
   "cell_type": "code",
   "execution_count": 10,
   "metadata": {
    "collapsed": false
   },
   "outputs": [
    {
     "data": {
      "text/html": [
       "<div>\n",
       "<table border=\"1\" class=\"dataframe\">\n",
       "  <thead>\n",
       "    <tr style=\"text-align: right;\">\n",
       "      <th></th>\n",
       "      <th>AccountNumber</th>\n",
       "      <th>ParcelID</th>\n",
       "      <th>SpanNumber</th>\n",
       "      <th>StreetNumber</th>\n",
       "      <th>AlternateNumber</th>\n",
       "      <th>StreetName</th>\n",
       "      <th>Unit</th>\n",
       "      <th>CuO1LastName</th>\n",
       "      <th>CuO1FirstName</th>\n",
       "      <th>CuO2LastName</th>\n",
       "      <th>...</th>\n",
       "      <th>GrantorLastName</th>\n",
       "      <th>NumofRooms</th>\n",
       "      <th>NumofBedrooms</th>\n",
       "      <th>Baths</th>\n",
       "      <th>NumofUnits</th>\n",
       "      <th>ZoningCode</th>\n",
       "      <th>Foundation</th>\n",
       "      <th>Depreciation</th>\n",
       "      <th>PropertyCenterPoint</th>\n",
       "      <th>YearBltBin</th>\n",
       "    </tr>\n",
       "  </thead>\n",
       "  <tbody>\n",
       "    <tr>\n",
       "      <th>0</th>\n",
       "      <td>7502</td>\n",
       "      <td>049-3-187-000</td>\n",
       "      <td>114-035-17502</td>\n",
       "      <td>227</td>\n",
       "      <td>NaN</td>\n",
       "      <td>COLLEGE ST</td>\n",
       "      <td>NaN</td>\n",
       "      <td>CITY DPW</td>\n",
       "      <td>NaN</td>\n",
       "      <td>NaN</td>\n",
       "      <td>...</td>\n",
       "      <td>NaN</td>\n",
       "      <td>0</td>\n",
       "      <td>0</td>\n",
       "      <td>0 / 0</td>\n",
       "      <td>0</td>\n",
       "      <td>DT</td>\n",
       "      <td>NaN</td>\n",
       "      <td>0.0</td>\n",
       "      <td>(-73.2105, 44.47668)</td>\n",
       "      <td>NaN</td>\n",
       "    </tr>\n",
       "    <tr>\n",
       "      <th>1</th>\n",
       "      <td>10680</td>\n",
       "      <td>043-3-085-001</td>\n",
       "      <td>114-035-20680</td>\n",
       "      <td>53</td>\n",
       "      <td>NaN</td>\n",
       "      <td>WARD ST</td>\n",
       "      <td>NaN</td>\n",
       "      <td>EMERSON</td>\n",
       "      <td>DEBORAH A</td>\n",
       "      <td>EMERSON</td>\n",
       "      <td>...</td>\n",
       "      <td>NaN</td>\n",
       "      <td>6</td>\n",
       "      <td>3</td>\n",
       "      <td>1 / 0</td>\n",
       "      <td>1</td>\n",
       "      <td>NaN</td>\n",
       "      <td>C</td>\n",
       "      <td>0.3</td>\n",
       "      <td>NaN</td>\n",
       "      <td>(1905, 1950]</td>\n",
       "    </tr>\n",
       "    <tr>\n",
       "      <th>2</th>\n",
       "      <td>9512</td>\n",
       "      <td>057-1-013-000</td>\n",
       "      <td>114-035-19512</td>\n",
       "      <td>47</td>\n",
       "      <td>NaN</td>\n",
       "      <td>SEARS LN</td>\n",
       "      <td>NaN</td>\n",
       "      <td>CITY OF BURLINGTON</td>\n",
       "      <td>NaN</td>\n",
       "      <td>NaN</td>\n",
       "      <td>...</td>\n",
       "      <td>NaN</td>\n",
       "      <td>0</td>\n",
       "      <td>0</td>\n",
       "      <td>0 / 0</td>\n",
       "      <td>0</td>\n",
       "      <td>ELM</td>\n",
       "      <td>NaN</td>\n",
       "      <td>0.0</td>\n",
       "      <td>(-73.2168, 44.45806)</td>\n",
       "      <td>NaN</td>\n",
       "    </tr>\n",
       "  </tbody>\n",
       "</table>\n",
       "<p>3 rows × 39 columns</p>\n",
       "</div>"
      ],
      "text/plain": [
       "   AccountNumber       ParcelID     SpanNumber StreetNumber AlternateNumber  \\\n",
       "0           7502  049-3-187-000  114-035-17502          227             NaN   \n",
       "1          10680  043-3-085-001  114-035-20680           53             NaN   \n",
       "2           9512  057-1-013-000  114-035-19512           47             NaN   \n",
       "\n",
       "   StreetName Unit        CuO1LastName CuO1FirstName CuO2LastName  \\\n",
       "0  COLLEGE ST  NaN            CITY DPW           NaN          NaN   \n",
       "1     WARD ST  NaN             EMERSON     DEBORAH A      EMERSON   \n",
       "2    SEARS LN  NaN  CITY OF BURLINGTON           NaN          NaN   \n",
       "\n",
       "       ...      GrantorLastName NumofRooms NumofBedrooms  Baths  NumofUnits  \\\n",
       "0      ...                  NaN          0             0  0 / 0           0   \n",
       "1      ...                  NaN          6             3  1 / 0           1   \n",
       "2      ...                  NaN          0             0  0 / 0           0   \n",
       "\n",
       "   ZoningCode  Foundation  Depreciation   PropertyCenterPoint    YearBltBin  \n",
       "0          DT         NaN           0.0  (-73.2105, 44.47668)           NaN  \n",
       "1         NaN           C           0.3                   NaN  (1905, 1950]  \n",
       "2         ELM         NaN           0.0  (-73.2168, 44.45806)           NaN  \n",
       "\n",
       "[3 rows x 39 columns]"
      ]
     },
     "execution_count": 10,
     "metadata": {},
     "output_type": "execute_result"
    }
   ],
   "source": [
    "# You can bin at whatever cut you want, in this case it is percentiles\n",
    "yearperc = np.percentile(df['YearBlt'],[0,25,50,100])\n",
    "\n",
    "# This creates a new column, but you can also overwrite the data already there\n",
    "df['YearBltBin'] = pd.cut(df['YearBlt'], yearperc)\n",
    "df.head(3)"
   ]
  },
  {
   "cell_type": "markdown",
   "metadata": {},
   "source": [
    "Subsetting\n",
    "------------\n",
    "Return subsets of a dateframe"
   ]
  },
  {
   "cell_type": "code",
   "execution_count": 11,
   "metadata": {
    "collapsed": false
   },
   "outputs": [
    {
     "data": {
      "text/plain": [
       "(50, 39)"
      ]
     },
     "execution_count": 11,
     "metadata": {},
     "output_type": "execute_result"
    }
   ],
   "source": [
    "# Returns first row through the specified number of rows, in this case 50\n",
    "subdf = df[:50]\n",
    "subdf.shape"
   ]
  },
  {
   "cell_type": "code",
   "execution_count": 12,
   "metadata": {
    "collapsed": false
   },
   "outputs": [
    {
     "data": {
      "text/plain": [
       "(10732, 39)"
      ]
     },
     "execution_count": 12,
     "metadata": {},
     "output_type": "execute_result"
    }
   ],
   "source": [
    "# Returns from row 100 through too the end of the dataframe\n",
    "subdf = df[100:]\n",
    "subdf.shape"
   ]
  },
  {
   "cell_type": "code",
   "execution_count": 56,
   "metadata": {
    "collapsed": false
   },
   "outputs": [
    {
     "data": {
      "text/html": [
       "<div>\n",
       "<table border=\"1\" class=\"dataframe\">\n",
       "  <thead>\n",
       "    <tr style=\"text-align: right;\">\n",
       "      <th></th>\n",
       "      <th>AccountNumber</th>\n",
       "      <th>ParcelID</th>\n",
       "      <th>SpanNumber</th>\n",
       "      <th>StreetNumber</th>\n",
       "      <th>AlternateNumber</th>\n",
       "      <th>StreetName</th>\n",
       "      <th>Unit</th>\n",
       "      <th>CuO1LastName</th>\n",
       "      <th>CuO1FirstName</th>\n",
       "      <th>CuO2LastName</th>\n",
       "      <th>...</th>\n",
       "      <th>GrantorName</th>\n",
       "      <th>NumofRooms</th>\n",
       "      <th>NumofBedrooms</th>\n",
       "      <th>BathsCombined</th>\n",
       "      <th>NumofUnits</th>\n",
       "      <th>ZoningCode</th>\n",
       "      <th>Foundation</th>\n",
       "      <th>Depreciation</th>\n",
       "      <th>PropertyCenterPoint</th>\n",
       "      <th>YearBltBin</th>\n",
       "    </tr>\n",
       "  </thead>\n",
       "  <tbody>\n",
       "    <tr>\n",
       "      <th>1860</th>\n",
       "      <td>5333</td>\n",
       "      <td>044-4-033-000</td>\n",
       "      <td>114-035-15333</td>\n",
       "      <td>75</td>\n",
       "      <td>NaN</td>\n",
       "      <td>CHERRY ST</td>\n",
       "      <td>NaN</td>\n",
       "      <td>btc mall associates, llc</td>\n",
       "      <td>NaN</td>\n",
       "      <td>NaN</td>\n",
       "      <td>...</td>\n",
       "      <td>NaN</td>\n",
       "      <td>605</td>\n",
       "      <td>605</td>\n",
       "      <td>0 / 0</td>\n",
       "      <td>605</td>\n",
       "      <td>D</td>\n",
       "      <td>C</td>\n",
       "      <td>1.000</td>\n",
       "      <td>(-73.215, 44.47894)</td>\n",
       "      <td>(1950, 2015]</td>\n",
       "    </tr>\n",
       "    <tr>\n",
       "      <th>2295</th>\n",
       "      <td>7815</td>\n",
       "      <td>050-1-009-000</td>\n",
       "      <td>114-035-17815</td>\n",
       "      <td>368</td>\n",
       "      <td>NaN</td>\n",
       "      <td>MAIN ST</td>\n",
       "      <td>NaN</td>\n",
       "      <td>alpha lambda chapter</td>\n",
       "      <td>NaN</td>\n",
       "      <td>HOUSE ASSOCIATION</td>\n",
       "      <td>...</td>\n",
       "      <td>NaN</td>\n",
       "      <td>289</td>\n",
       "      <td>17</td>\n",
       "      <td>2 / 1</td>\n",
       "      <td>17</td>\n",
       "      <td>RH</td>\n",
       "      <td>C</td>\n",
       "      <td>0.215</td>\n",
       "      <td>(-73.2043, 44.47671)</td>\n",
       "      <td>(1950, 2015]</td>\n",
       "    </tr>\n",
       "    <tr>\n",
       "      <th>583</th>\n",
       "      <td>4865</td>\n",
       "      <td>044-2-005-000</td>\n",
       "      <td>114-035-14865</td>\n",
       "      <td>16</td>\n",
       "      <td>NaN</td>\n",
       "      <td>CHERRY ST</td>\n",
       "      <td>NaN</td>\n",
       "      <td>cssl limited partnership</td>\n",
       "      <td>NaN</td>\n",
       "      <td>NaN</td>\n",
       "      <td>...</td>\n",
       "      <td>NaN</td>\n",
       "      <td>221</td>\n",
       "      <td>112</td>\n",
       "      <td>108 / 6</td>\n",
       "      <td>109</td>\n",
       "      <td>D</td>\n",
       "      <td>C</td>\n",
       "      <td>0.162</td>\n",
       "      <td>(-73.2178, 44.47959)</td>\n",
       "      <td>(1950, 2015]</td>\n",
       "    </tr>\n",
       "  </tbody>\n",
       "</table>\n",
       "<p>3 rows × 38 columns</p>\n",
       "</div>"
      ],
      "text/plain": [
       "      AccountNumber       ParcelID     SpanNumber StreetNumber  \\\n",
       "1860           5333  044-4-033-000  114-035-15333           75   \n",
       "2295           7815  050-1-009-000  114-035-17815          368   \n",
       "583            4865  044-2-005-000  114-035-14865           16   \n",
       "\n",
       "     AlternateNumber StreetName Unit              CuO1LastName CuO1FirstName  \\\n",
       "1860             NaN  CHERRY ST  NaN  btc mall associates, llc           NaN   \n",
       "2295             NaN    MAIN ST  NaN      alpha lambda chapter           NaN   \n",
       "583              NaN  CHERRY ST  NaN  cssl limited partnership           NaN   \n",
       "\n",
       "           CuO2LastName      ...      GrantorName NumofRooms NumofBedrooms  \\\n",
       "1860                NaN      ...              NaN        605           605   \n",
       "2295  HOUSE ASSOCIATION      ...              NaN        289            17   \n",
       "583                 NaN      ...              NaN        221           112   \n",
       "\n",
       "     BathsCombined  NumofUnits  ZoningCode  Foundation  Depreciation  \\\n",
       "1860         0 / 0         605           D           C         1.000   \n",
       "2295         2 / 1          17          RH           C         0.215   \n",
       "583        108 / 6         109           D           C         0.162   \n",
       "\n",
       "       PropertyCenterPoint    YearBltBin  \n",
       "1860   (-73.215, 44.47894)  (1950, 2015]  \n",
       "2295  (-73.2043, 44.47671)  (1950, 2015]  \n",
       "583   (-73.2178, 44.47959)  (1950, 2015]  \n",
       "\n",
       "[3 rows x 38 columns]"
      ]
     },
     "execution_count": 56,
     "metadata": {},
     "output_type": "execute_result"
    }
   ],
   "source": [
    "# Select from DataFrame using criteria from multiple columns\n",
    "# (use `|` instead of `&` to do an OR)\n",
    "newdf = df[(df['NumofRooms'] > 1) & (df['Foundation'] == 'C')]\n",
    "newdf.head(3)"
   ]
  },
  {
   "cell_type": "code",
   "execution_count": 45,
   "metadata": {
    "collapsed": false
   },
   "outputs": [
    {
     "data": {
      "text/html": [
       "<div>\n",
       "<table border=\"1\" class=\"dataframe\">\n",
       "  <thead>\n",
       "    <tr style=\"text-align: right;\">\n",
       "      <th></th>\n",
       "      <th>StreetNumber</th>\n",
       "      <th>AlternateNumber</th>\n",
       "      <th>StreetName</th>\n",
       "    </tr>\n",
       "  </thead>\n",
       "  <tbody>\n",
       "    <tr>\n",
       "      <th>1860</th>\n",
       "      <td>75</td>\n",
       "      <td>NaN</td>\n",
       "      <td>CHERRY ST</td>\n",
       "    </tr>\n",
       "    <tr>\n",
       "      <th>9583</th>\n",
       "      <td>225</td>\n",
       "      <td>NaN</td>\n",
       "      <td>SOUTH WILLARD ST</td>\n",
       "    </tr>\n",
       "    <tr>\n",
       "      <th>3519</th>\n",
       "      <td>230</td>\n",
       "      <td>NaN</td>\n",
       "      <td>ST PAUL ST</td>\n",
       "    </tr>\n",
       "    <tr>\n",
       "      <th>7688</th>\n",
       "      <td>80</td>\n",
       "      <td>NaN</td>\n",
       "      <td>ST PAUL ST</td>\n",
       "    </tr>\n",
       "    <tr>\n",
       "      <th>8857</th>\n",
       "      <td>227</td>\n",
       "      <td>NaN</td>\n",
       "      <td>SOUTH WILLARD ST</td>\n",
       "    </tr>\n",
       "  </tbody>\n",
       "</table>\n",
       "</div>"
      ],
      "text/plain": [
       "     StreetNumber AlternateNumber        StreetName\n",
       "1860           75             NaN         CHERRY ST\n",
       "9583          225             NaN  SOUTH WILLARD ST\n",
       "3519          230             NaN        ST PAUL ST\n",
       "7688           80             NaN        ST PAUL ST\n",
       "8857          227             NaN  SOUTH WILLARD ST"
      ]
     },
     "execution_count": 45,
     "metadata": {},
     "output_type": "execute_result"
    }
   ],
   "source": [
    "# pixdf = df.ix[:,'StreetNumber':'StreetName']\n",
    "ixdf = df.ix[:,'StreetNumber':'StreetName']\n",
    "ixdf.head(5)"
   ]
  },
  {
   "cell_type": "code",
   "execution_count": 41,
   "metadata": {
    "collapsed": false
   },
   "outputs": [
    {
     "data": {
      "text/html": [
       "<div>\n",
       "<table border=\"1\" class=\"dataframe\">\n",
       "  <thead>\n",
       "    <tr style=\"text-align: right;\">\n",
       "      <th></th>\n",
       "      <th>AccountNumber</th>\n",
       "      <th>ParcelID</th>\n",
       "      <th>SpanNumber</th>\n",
       "      <th>StreetNumber</th>\n",
       "      <th>AlternateNumber</th>\n",
       "      <th>StreetName</th>\n",
       "      <th>Unit</th>\n",
       "      <th>CuO1LastName</th>\n",
       "      <th>CuO1FirstName</th>\n",
       "      <th>CuO2LastName</th>\n",
       "      <th>...</th>\n",
       "      <th>GrantorName</th>\n",
       "      <th>NumofRooms</th>\n",
       "      <th>NumofBedrooms</th>\n",
       "      <th>BathsCombined</th>\n",
       "      <th>NumofUnits</th>\n",
       "      <th>ZoningCode</th>\n",
       "      <th>Foundation</th>\n",
       "      <th>Depreciation</th>\n",
       "      <th>PropertyCenterPoint</th>\n",
       "      <th>YearBltBin</th>\n",
       "    </tr>\n",
       "  </thead>\n",
       "  <tbody>\n",
       "  </tbody>\n",
       "</table>\n",
       "<p>0 rows × 38 columns</p>\n",
       "</div>"
      ],
      "text/plain": [
       "Empty DataFrame\n",
       "Columns: [AccountNumber, ParcelID, SpanNumber, StreetNumber, AlternateNumber, StreetName, Unit, CuO1LastName, CuO1FirstName, CuO2LastName, CuO2FirstName, CuO3LastName, CuO3FirstName, LandUse, CurrentAcres, TotalGrossArea, FinishedArea, CurrentValue, CurrentLandValue, CurrentYardItemsValue, CurrentBuildingValue, BuildingType, HeatFuel, HeatType, Grade, YearBlt, SaleDate, SalePrice, GrantorName, NumofRooms, NumofBedrooms, BathsCombined, NumofUnits, ZoningCode, Foundation, Depreciation, PropertyCenterPoint, YearBltBin]\n",
       "Index: []\n",
       "\n",
       "[0 rows x 38 columns]"
      ]
     },
     "execution_count": 41,
     "metadata": {},
     "output_type": "execute_result"
    }
   ],
   "source": [
    "# Grab DataFrame rows where column has certain values\n",
    "valuelist = ['4']\n",
    "dfselect = df[df.NumofUnits.isin(valuelist)]\n",
    "dfselect.head(2)"
   ]
  },
  {
   "cell_type": "code",
   "execution_count": 14,
   "metadata": {
    "collapsed": false
   },
   "outputs": [
    {
     "data": {
      "text/html": [
       "<div>\n",
       "<table border=\"1\" class=\"dataframe\">\n",
       "  <thead>\n",
       "    <tr style=\"text-align: right;\">\n",
       "      <th></th>\n",
       "      <th>AccountNumber</th>\n",
       "      <th>ParcelID</th>\n",
       "      <th>SpanNumber</th>\n",
       "      <th>StreetNumber</th>\n",
       "      <th>AlternateNumber</th>\n",
       "      <th>StreetName</th>\n",
       "      <th>Unit</th>\n",
       "      <th>CuO1LastName</th>\n",
       "      <th>CuO1FirstName</th>\n",
       "      <th>CuO2LastName</th>\n",
       "      <th>...</th>\n",
       "      <th>GrantorLastName</th>\n",
       "      <th>NumofRooms</th>\n",
       "      <th>NumofBedrooms</th>\n",
       "      <th>Baths</th>\n",
       "      <th>NumofUnits</th>\n",
       "      <th>ZoningCode</th>\n",
       "      <th>Foundation</th>\n",
       "      <th>Depreciation</th>\n",
       "      <th>PropertyCenterPoint</th>\n",
       "      <th>YearBltBin</th>\n",
       "    </tr>\n",
       "  </thead>\n",
       "  <tbody>\n",
       "    <tr>\n",
       "      <th>0</th>\n",
       "      <td>7502</td>\n",
       "      <td>049-3-187-000</td>\n",
       "      <td>114-035-17502</td>\n",
       "      <td>227</td>\n",
       "      <td>NaN</td>\n",
       "      <td>COLLEGE ST</td>\n",
       "      <td>NaN</td>\n",
       "      <td>CITY DPW</td>\n",
       "      <td>NaN</td>\n",
       "      <td>NaN</td>\n",
       "      <td>...</td>\n",
       "      <td>NaN</td>\n",
       "      <td>0</td>\n",
       "      <td>0</td>\n",
       "      <td>0 / 0</td>\n",
       "      <td>0</td>\n",
       "      <td>DT</td>\n",
       "      <td>NaN</td>\n",
       "      <td>0.0</td>\n",
       "      <td>(-73.2105, 44.47668)</td>\n",
       "      <td>NaN</td>\n",
       "    </tr>\n",
       "    <tr>\n",
       "      <th>1</th>\n",
       "      <td>10680</td>\n",
       "      <td>043-3-085-001</td>\n",
       "      <td>114-035-20680</td>\n",
       "      <td>53</td>\n",
       "      <td>NaN</td>\n",
       "      <td>WARD ST</td>\n",
       "      <td>NaN</td>\n",
       "      <td>EMERSON</td>\n",
       "      <td>DEBORAH A</td>\n",
       "      <td>EMERSON</td>\n",
       "      <td>...</td>\n",
       "      <td>NaN</td>\n",
       "      <td>6</td>\n",
       "      <td>3</td>\n",
       "      <td>1 / 0</td>\n",
       "      <td>1</td>\n",
       "      <td>NaN</td>\n",
       "      <td>C</td>\n",
       "      <td>0.3</td>\n",
       "      <td>NaN</td>\n",
       "      <td>(1905, 1950]</td>\n",
       "    </tr>\n",
       "  </tbody>\n",
       "</table>\n",
       "<p>2 rows × 39 columns</p>\n",
       "</div>"
      ],
      "text/plain": [
       "   AccountNumber       ParcelID     SpanNumber StreetNumber AlternateNumber  \\\n",
       "0           7502  049-3-187-000  114-035-17502          227             NaN   \n",
       "1          10680  043-3-085-001  114-035-20680           53             NaN   \n",
       "\n",
       "   StreetName Unit CuO1LastName CuO1FirstName CuO2LastName      ...       \\\n",
       "0  COLLEGE ST  NaN     CITY DPW           NaN          NaN      ...        \n",
       "1     WARD ST  NaN      EMERSON     DEBORAH A      EMERSON      ...        \n",
       "\n",
       "  GrantorLastName NumofRooms NumofBedrooms  Baths  NumofUnits  ZoningCode  \\\n",
       "0             NaN          0             0  0 / 0           0          DT   \n",
       "1             NaN          6             3  1 / 0           1         NaN   \n",
       "\n",
       "   Foundation  Depreciation   PropertyCenterPoint    YearBltBin  \n",
       "0         NaN           0.0  (-73.2105, 44.47668)           NaN  \n",
       "1           C           0.3                   NaN  (1905, 1950]  \n",
       "\n",
       "[2 rows x 39 columns]"
      ]
     },
     "execution_count": 14,
     "metadata": {},
     "output_type": "execute_result"
    }
   ],
   "source": [
    "# Grab DataFrame rows where column doesn't have certain values\n",
    "valuelist = ['4', '13', '6']\n",
    "dfnotselect = df[~df.NumofUnits.isin(valuelist)]\n",
    "dfnotselect.head(2)"
   ]
  },
  {
   "cell_type": "markdown",
   "metadata": {},
   "source": [
    "Subsetting Not Null/Null\n",
    "-------------"
   ]
  },
  {
   "cell_type": "code",
   "execution_count": 16,
   "metadata": {
    "collapsed": false
   },
   "outputs": [
    {
     "data": {
      "text/html": [
       "<div>\n",
       "<table border=\"1\" class=\"dataframe\">\n",
       "  <thead>\n",
       "    <tr style=\"text-align: right;\">\n",
       "      <th></th>\n",
       "      <th>AccountNumber</th>\n",
       "      <th>ParcelID</th>\n",
       "      <th>SpanNumber</th>\n",
       "      <th>StreetNumber</th>\n",
       "      <th>AlternateNumber</th>\n",
       "      <th>StreetName</th>\n",
       "      <th>Unit</th>\n",
       "      <th>CuO1LastName</th>\n",
       "      <th>CuO1FirstName</th>\n",
       "      <th>CuO2LastName</th>\n",
       "      <th>...</th>\n",
       "      <th>GrantorLastName</th>\n",
       "      <th>NumofRooms</th>\n",
       "      <th>NumofBedrooms</th>\n",
       "      <th>Baths</th>\n",
       "      <th>NumofUnits</th>\n",
       "      <th>ZoningCode</th>\n",
       "      <th>Foundation</th>\n",
       "      <th>Depreciation</th>\n",
       "      <th>PropertyCenterPoint</th>\n",
       "      <th>YearBltBin</th>\n",
       "    </tr>\n",
       "  </thead>\n",
       "  <tbody>\n",
       "    <tr>\n",
       "      <th>0</th>\n",
       "      <td>7502</td>\n",
       "      <td>049-3-187-000</td>\n",
       "      <td>114-035-17502</td>\n",
       "      <td>227</td>\n",
       "      <td>NaN</td>\n",
       "      <td>COLLEGE ST</td>\n",
       "      <td>NaN</td>\n",
       "      <td>CITY DPW</td>\n",
       "      <td>NaN</td>\n",
       "      <td>NaN</td>\n",
       "      <td>...</td>\n",
       "      <td>NaN</td>\n",
       "      <td>0</td>\n",
       "      <td>0</td>\n",
       "      <td>0 / 0</td>\n",
       "      <td>0</td>\n",
       "      <td>DT</td>\n",
       "      <td>NaN</td>\n",
       "      <td>0.0</td>\n",
       "      <td>(-73.2105, 44.47668)</td>\n",
       "      <td>NaN</td>\n",
       "    </tr>\n",
       "    <tr>\n",
       "      <th>1</th>\n",
       "      <td>10680</td>\n",
       "      <td>043-3-085-001</td>\n",
       "      <td>114-035-20680</td>\n",
       "      <td>53</td>\n",
       "      <td>NaN</td>\n",
       "      <td>WARD ST</td>\n",
       "      <td>NaN</td>\n",
       "      <td>EMERSON</td>\n",
       "      <td>DEBORAH A</td>\n",
       "      <td>EMERSON</td>\n",
       "      <td>...</td>\n",
       "      <td>NaN</td>\n",
       "      <td>6</td>\n",
       "      <td>3</td>\n",
       "      <td>1 / 0</td>\n",
       "      <td>1</td>\n",
       "      <td>NaN</td>\n",
       "      <td>C</td>\n",
       "      <td>0.3</td>\n",
       "      <td>NaN</td>\n",
       "      <td>(1905, 1950]</td>\n",
       "    </tr>\n",
       "    <tr>\n",
       "      <th>2</th>\n",
       "      <td>9512</td>\n",
       "      <td>057-1-013-000</td>\n",
       "      <td>114-035-19512</td>\n",
       "      <td>47</td>\n",
       "      <td>NaN</td>\n",
       "      <td>SEARS LN</td>\n",
       "      <td>NaN</td>\n",
       "      <td>CITY OF BURLINGTON</td>\n",
       "      <td>NaN</td>\n",
       "      <td>NaN</td>\n",
       "      <td>...</td>\n",
       "      <td>NaN</td>\n",
       "      <td>0</td>\n",
       "      <td>0</td>\n",
       "      <td>0 / 0</td>\n",
       "      <td>0</td>\n",
       "      <td>ELM</td>\n",
       "      <td>NaN</td>\n",
       "      <td>0.0</td>\n",
       "      <td>(-73.2168, 44.45806)</td>\n",
       "      <td>NaN</td>\n",
       "    </tr>\n",
       "  </tbody>\n",
       "</table>\n",
       "<p>3 rows × 39 columns</p>\n",
       "</div>"
      ],
      "text/plain": [
       "   AccountNumber       ParcelID     SpanNumber StreetNumber AlternateNumber  \\\n",
       "0           7502  049-3-187-000  114-035-17502          227             NaN   \n",
       "1          10680  043-3-085-001  114-035-20680           53             NaN   \n",
       "2           9512  057-1-013-000  114-035-19512           47             NaN   \n",
       "\n",
       "   StreetName Unit        CuO1LastName CuO1FirstName CuO2LastName  \\\n",
       "0  COLLEGE ST  NaN            CITY DPW           NaN          NaN   \n",
       "1     WARD ST  NaN             EMERSON     DEBORAH A      EMERSON   \n",
       "2    SEARS LN  NaN  CITY OF BURLINGTON           NaN          NaN   \n",
       "\n",
       "       ...      GrantorLastName NumofRooms NumofBedrooms  Baths  NumofUnits  \\\n",
       "0      ...                  NaN          0             0  0 / 0           0   \n",
       "1      ...                  NaN          6             3  1 / 0           1   \n",
       "2      ...                  NaN          0             0  0 / 0           0   \n",
       "\n",
       "   ZoningCode  Foundation  Depreciation   PropertyCenterPoint    YearBltBin  \n",
       "0          DT         NaN           0.0  (-73.2105, 44.47668)           NaN  \n",
       "1         NaN           C           0.3                   NaN  (1905, 1950]  \n",
       "2         ELM         NaN           0.0  (-73.2168, 44.45806)           NaN  \n",
       "\n",
       "[3 rows x 39 columns]"
      ]
     },
     "execution_count": 16,
     "metadata": {},
     "output_type": "execute_result"
    }
   ],
   "source": [
    "# Grab DataFrame rows where specific column is null\n",
    "nulldf = df[df['AlternateNumber'].isnull()]\n",
    "nulldf.head(3)\n",
    "\n",
    "#Alternative way to write it\n",
    "nulldf = df[pd.isnull(df['AlternateNumber'])]\n",
    "nulldf.head(3)"
   ]
  },
  {
   "cell_type": "code",
   "execution_count": 17,
   "metadata": {
    "collapsed": false
   },
   "outputs": [
    {
     "data": {
      "text/html": [
       "<div>\n",
       "<table border=\"1\" class=\"dataframe\">\n",
       "  <thead>\n",
       "    <tr style=\"text-align: right;\">\n",
       "      <th></th>\n",
       "      <th>AccountNumber</th>\n",
       "      <th>ParcelID</th>\n",
       "      <th>SpanNumber</th>\n",
       "      <th>StreetNumber</th>\n",
       "      <th>AlternateNumber</th>\n",
       "      <th>StreetName</th>\n",
       "      <th>Unit</th>\n",
       "      <th>CuO1LastName</th>\n",
       "      <th>CuO1FirstName</th>\n",
       "      <th>CuO2LastName</th>\n",
       "      <th>...</th>\n",
       "      <th>GrantorLastName</th>\n",
       "      <th>NumofRooms</th>\n",
       "      <th>NumofBedrooms</th>\n",
       "      <th>Baths</th>\n",
       "      <th>NumofUnits</th>\n",
       "      <th>ZoningCode</th>\n",
       "      <th>Foundation</th>\n",
       "      <th>Depreciation</th>\n",
       "      <th>PropertyCenterPoint</th>\n",
       "      <th>YearBltBin</th>\n",
       "    </tr>\n",
       "  </thead>\n",
       "  <tbody>\n",
       "    <tr>\n",
       "      <th>21</th>\n",
       "      <td>10714</td>\n",
       "      <td>054-3-001-143</td>\n",
       "      <td>114-035-20714</td>\n",
       "      <td>384</td>\n",
       "      <td>392</td>\n",
       "      <td>SOUTH PROSPECT ST</td>\n",
       "      <td>NaN</td>\n",
       "      <td>UNIVERSITY OF VERMONT</td>\n",
       "      <td>NaN</td>\n",
       "      <td>STATE AGRICULTURAL COLLEGE</td>\n",
       "      <td>...</td>\n",
       "      <td>NaN</td>\n",
       "      <td>0</td>\n",
       "      <td>0</td>\n",
       "      <td>1 / 2</td>\n",
       "      <td>2</td>\n",
       "      <td>NaN</td>\n",
       "      <td>C</td>\n",
       "      <td>0.399</td>\n",
       "      <td>NaN</td>\n",
       "      <td>(1905, 1950]</td>\n",
       "    </tr>\n",
       "    <tr>\n",
       "      <th>25</th>\n",
       "      <td>6052</td>\n",
       "      <td>045-2-075-000</td>\n",
       "      <td>114-035-16052</td>\n",
       "      <td>47</td>\n",
       "      <td>49</td>\n",
       "      <td>GREENE ST</td>\n",
       "      <td>NaN</td>\n",
       "      <td>LANG</td>\n",
       "      <td>ANN G</td>\n",
       "      <td>NaN</td>\n",
       "      <td>...</td>\n",
       "      <td>NaN</td>\n",
       "      <td>8</td>\n",
       "      <td>4</td>\n",
       "      <td>2 / 0</td>\n",
       "      <td>2</td>\n",
       "      <td>RM</td>\n",
       "      <td>BS</td>\n",
       "      <td>0.270</td>\n",
       "      <td>(-73.2078, 44.48206)</td>\n",
       "      <td>(0, 1905]</td>\n",
       "    </tr>\n",
       "    <tr>\n",
       "      <th>48</th>\n",
       "      <td>5507</td>\n",
       "      <td>044-4-185-000</td>\n",
       "      <td>114-035-15507</td>\n",
       "      <td>247</td>\n",
       "      <td>249</td>\n",
       "      <td>PEARL ST</td>\n",
       "      <td>NaN</td>\n",
       "      <td>247 PEARL LLC</td>\n",
       "      <td>NaN</td>\n",
       "      <td>NaN</td>\n",
       "      <td>...</td>\n",
       "      <td>NaN</td>\n",
       "      <td>0</td>\n",
       "      <td>0</td>\n",
       "      <td>1 / 6</td>\n",
       "      <td>3</td>\n",
       "      <td>RH</td>\n",
       "      <td>BS</td>\n",
       "      <td>0.475</td>\n",
       "      <td>(-73.2087, 44.48001)</td>\n",
       "      <td>(0, 1905]</td>\n",
       "    </tr>\n",
       "  </tbody>\n",
       "</table>\n",
       "<p>3 rows × 39 columns</p>\n",
       "</div>"
      ],
      "text/plain": [
       "    AccountNumber       ParcelID     SpanNumber StreetNumber AlternateNumber  \\\n",
       "21          10714  054-3-001-143  114-035-20714          384             392   \n",
       "25           6052  045-2-075-000  114-035-16052           47              49   \n",
       "48           5507  044-4-185-000  114-035-15507          247             249   \n",
       "\n",
       "           StreetName Unit           CuO1LastName CuO1FirstName  \\\n",
       "21  SOUTH PROSPECT ST  NaN  UNIVERSITY OF VERMONT           NaN   \n",
       "25          GREENE ST  NaN                   LANG         ANN G   \n",
       "48           PEARL ST  NaN          247 PEARL LLC           NaN   \n",
       "\n",
       "                  CuO2LastName      ...      GrantorLastName NumofRooms  \\\n",
       "21  STATE AGRICULTURAL COLLEGE      ...                  NaN          0   \n",
       "25                         NaN      ...                  NaN          8   \n",
       "48                         NaN      ...                  NaN          0   \n",
       "\n",
       "   NumofBedrooms  Baths  NumofUnits  ZoningCode  Foundation  Depreciation  \\\n",
       "21             0  1 / 2           2         NaN           C         0.399   \n",
       "25             4  2 / 0           2          RM          BS         0.270   \n",
       "48             0  1 / 6           3          RH          BS         0.475   \n",
       "\n",
       "     PropertyCenterPoint    YearBltBin  \n",
       "21                   NaN  (1905, 1950]  \n",
       "25  (-73.2078, 44.48206)     (0, 1905]  \n",
       "48  (-73.2087, 44.48001)     (0, 1905]  \n",
       "\n",
       "[3 rows x 39 columns]"
      ]
     },
     "execution_count": 17,
     "metadata": {},
     "output_type": "execute_result"
    }
   ],
   "source": [
    "# Grab DataFrame rows where specific column notnull\n",
    "notnulldf = df[df['AlternateNumber'].notnull()]\n",
    "notnulldf.head(3)"
   ]
  },
  {
   "cell_type": "markdown",
   "metadata": {},
   "source": [
    "Replacing Column Names\n",
    "---------------"
   ]
  },
  {
   "cell_type": "code",
   "execution_count": 36,
   "metadata": {
    "collapsed": false
   },
   "outputs": [
    {
     "data": {
      "text/html": [
       "<div>\n",
       "<table border=\"1\" class=\"dataframe\">\n",
       "  <thead>\n",
       "    <tr style=\"text-align: right;\">\n",
       "      <th></th>\n",
       "      <th>AccountNumber</th>\n",
       "      <th>ParcelID</th>\n",
       "      <th>SpanNumber</th>\n",
       "      <th>StreetNumber</th>\n",
       "      <th>AlternateNumber</th>\n",
       "      <th>StreetName</th>\n",
       "      <th>Unit</th>\n",
       "      <th>CuO1LastName</th>\n",
       "      <th>CuO1FirstName</th>\n",
       "      <th>CuO2LastName</th>\n",
       "      <th>...</th>\n",
       "      <th>GrantorName</th>\n",
       "      <th>NumofRooms</th>\n",
       "      <th>NumofBedrooms</th>\n",
       "      <th>BathsCombined</th>\n",
       "      <th>NumofUnits</th>\n",
       "      <th>ZoningCode</th>\n",
       "      <th>Foundation</th>\n",
       "      <th>Depreciation</th>\n",
       "      <th>PropertyCenterPoint</th>\n",
       "      <th>YearBltBin</th>\n",
       "    </tr>\n",
       "  </thead>\n",
       "  <tbody>\n",
       "    <tr>\n",
       "      <th>1860</th>\n",
       "      <td>5333</td>\n",
       "      <td>044-4-033-000</td>\n",
       "      <td>114-035-15333</td>\n",
       "      <td>75</td>\n",
       "      <td>NaN</td>\n",
       "      <td>CHERRY ST</td>\n",
       "      <td>NaN</td>\n",
       "      <td>btc mall associates, llc</td>\n",
       "      <td>NaN</td>\n",
       "      <td>NaN</td>\n",
       "      <td>...</td>\n",
       "      <td>NaN</td>\n",
       "      <td>605</td>\n",
       "      <td>605</td>\n",
       "      <td>0 / 0</td>\n",
       "      <td>605</td>\n",
       "      <td>D</td>\n",
       "      <td>C</td>\n",
       "      <td>1.0</td>\n",
       "      <td>(-73.215, 44.47894)</td>\n",
       "      <td>(1950, 2015]</td>\n",
       "    </tr>\n",
       "  </tbody>\n",
       "</table>\n",
       "<p>1 rows × 38 columns</p>\n",
       "</div>"
      ],
      "text/plain": [
       "      AccountNumber       ParcelID     SpanNumber StreetNumber  \\\n",
       "1860           5333  044-4-033-000  114-035-15333           75   \n",
       "\n",
       "     AlternateNumber StreetName Unit              CuO1LastName CuO1FirstName  \\\n",
       "1860             NaN  CHERRY ST  NaN  btc mall associates, llc           NaN   \n",
       "\n",
       "     CuO2LastName      ...      GrantorName NumofRooms NumofBedrooms  \\\n",
       "1860          NaN      ...              NaN        605           605   \n",
       "\n",
       "     BathsCombined  NumofUnits  ZoningCode  Foundation  Depreciation  \\\n",
       "1860         0 / 0         605           D           C           1.0   \n",
       "\n",
       "      PropertyCenterPoint    YearBltBin  \n",
       "1860  (-73.215, 44.47894)  (1950, 2015]  \n",
       "\n",
       "[1 rows x 38 columns]"
      ]
     },
     "execution_count": 36,
     "metadata": {},
     "output_type": "execute_result"
    }
   ],
   "source": [
    "# Rename several DataFrame columns\n",
    "df = df.rename(columns = {\n",
    "    'Baths':'BathsCombined',\n",
    "    'GrantorLastName':'GrantorName',\n",
    "})\n",
    "df.head(1)"
   ]
  },
  {
   "cell_type": "code",
   "execution_count": 57,
   "metadata": {
    "collapsed": false
   },
   "outputs": [],
   "source": [
    "# Even more fancy DataFrame column re-naming\n",
    "# lower-case all DataFrame column names (for example)\n",
    "#df.rename(columns=lambda x: x.split('.')[-1], inplace=True)\n",
    "# Loop through rows in a DataFrame\n",
    "# (if you must)\n",
    "#for index, row in df.iterrows():\n",
    "#    print index, row['some column']"
   ]
  },
  {
   "cell_type": "markdown",
   "metadata": {},
   "source": [
    "Replace Values\n",
    "------"
   ]
  },
  {
   "cell_type": "code",
   "execution_count": 70,
   "metadata": {
    "collapsed": false
   },
   "outputs": [
    {
     "data": {
      "text/html": [
       "<div>\n",
       "<table border=\"1\" class=\"dataframe\">\n",
       "  <thead>\n",
       "    <tr style=\"text-align: right;\">\n",
       "      <th></th>\n",
       "      <th>AccountNumber</th>\n",
       "      <th>ParcelID</th>\n",
       "      <th>SpanNumber</th>\n",
       "      <th>StreetNumber</th>\n",
       "      <th>AlternateNumber</th>\n",
       "      <th>StreetName</th>\n",
       "      <th>Unit</th>\n",
       "      <th>CuO1LastName</th>\n",
       "      <th>CuO1FirstName</th>\n",
       "      <th>CuO2LastName</th>\n",
       "      <th>...</th>\n",
       "      <th>GrantorName</th>\n",
       "      <th>NumofRooms</th>\n",
       "      <th>NumofBedrooms</th>\n",
       "      <th>BathsCombined</th>\n",
       "      <th>NumofUnits</th>\n",
       "      <th>ZoningCode</th>\n",
       "      <th>Foundation</th>\n",
       "      <th>Depreciation</th>\n",
       "      <th>PropertyCenterPoint</th>\n",
       "      <th>YearBltBin</th>\n",
       "    </tr>\n",
       "  </thead>\n",
       "  <tbody>\n",
       "    <tr>\n",
       "      <th>1860</th>\n",
       "      <td>5333</td>\n",
       "      <td>044-4-033-000</td>\n",
       "      <td>114-035-15333</td>\n",
       "      <td>75</td>\n",
       "      <td>NaN</td>\n",
       "      <td>CHERRY ST</td>\n",
       "      <td>NaN</td>\n",
       "      <td>btc mall associates, llc</td>\n",
       "      <td>NaN</td>\n",
       "      <td>NaN</td>\n",
       "      <td>...</td>\n",
       "      <td>NaN</td>\n",
       "      <td>605</td>\n",
       "      <td>605</td>\n",
       "      <td>0 / 0</td>\n",
       "      <td>605</td>\n",
       "      <td>D</td>\n",
       "      <td>C</td>\n",
       "      <td>1.0000</td>\n",
       "      <td>(-73.215, 44.47894)</td>\n",
       "      <td>(1950, 2015]</td>\n",
       "    </tr>\n",
       "    <tr>\n",
       "      <th>9583</th>\n",
       "      <td>7871</td>\n",
       "      <td>050-1-066-000</td>\n",
       "      <td>114-035-17871</td>\n",
       "      <td>225</td>\n",
       "      <td>NaN</td>\n",
       "      <td>S Willard Street</td>\n",
       "      <td>NaN</td>\n",
       "      <td>champlain college inc.</td>\n",
       "      <td>NaN</td>\n",
       "      <td>NaN</td>\n",
       "      <td>...</td>\n",
       "      <td>NaN</td>\n",
       "      <td>400</td>\n",
       "      <td>0</td>\n",
       "      <td>11 / 0</td>\n",
       "      <td>20</td>\n",
       "      <td>I</td>\n",
       "      <td>BS</td>\n",
       "      <td>0.3000</td>\n",
       "      <td>(-73.2063, 44.47431)</td>\n",
       "      <td>(0, 1905]</td>\n",
       "    </tr>\n",
       "    <tr>\n",
       "      <th>3519</th>\n",
       "      <td>7583</td>\n",
       "      <td>049-4-059-000</td>\n",
       "      <td>114-035-17583</td>\n",
       "      <td>230</td>\n",
       "      <td>NaN</td>\n",
       "      <td>ST PAUL ST</td>\n",
       "      <td>NaN</td>\n",
       "      <td>burlington housing authority</td>\n",
       "      <td>NaN</td>\n",
       "      <td>BHA DECKER TOWERS</td>\n",
       "      <td>...</td>\n",
       "      <td>NaN</td>\n",
       "      <td>371</td>\n",
       "      <td>106</td>\n",
       "      <td>161 / 1</td>\n",
       "      <td>161</td>\n",
       "      <td>RM</td>\n",
       "      <td>S</td>\n",
       "      <td>0.2782</td>\n",
       "      <td>(-73.213, 44.47275)</td>\n",
       "      <td>(1950, 2015]</td>\n",
       "    </tr>\n",
       "    <tr>\n",
       "      <th>7688</th>\n",
       "      <td>7249</td>\n",
       "      <td>049-3-023-001</td>\n",
       "      <td>114-035-17249</td>\n",
       "      <td>80</td>\n",
       "      <td>NaN</td>\n",
       "      <td>ST PAUL ST</td>\n",
       "      <td>NaN</td>\n",
       "      <td>burlington savings bank</td>\n",
       "      <td>NaN</td>\n",
       "      <td>NaN</td>\n",
       "      <td>...</td>\n",
       "      <td>NaN</td>\n",
       "      <td>311</td>\n",
       "      <td>0</td>\n",
       "      <td>0 / 0</td>\n",
       "      <td>311</td>\n",
       "      <td>D</td>\n",
       "      <td>S</td>\n",
       "      <td>0.2775</td>\n",
       "      <td>(-73.2135, 44.47762)</td>\n",
       "      <td>(1950, 2015]</td>\n",
       "    </tr>\n",
       "    <tr>\n",
       "      <th>8857</th>\n",
       "      <td>7856</td>\n",
       "      <td>050-1-051-000</td>\n",
       "      <td>114-035-17856</td>\n",
       "      <td>227</td>\n",
       "      <td>NaN</td>\n",
       "      <td>S Willard Street</td>\n",
       "      <td>NaN</td>\n",
       "      <td>champlain college inc.</td>\n",
       "      <td>NaN</td>\n",
       "      <td>NaN</td>\n",
       "      <td>...</td>\n",
       "      <td>NaN</td>\n",
       "      <td>289</td>\n",
       "      <td>0</td>\n",
       "      <td>8 / 2</td>\n",
       "      <td>25</td>\n",
       "      <td>I</td>\n",
       "      <td>BS</td>\n",
       "      <td>0.3000</td>\n",
       "      <td>(-73.2057, 44.47373)</td>\n",
       "      <td>(0, 1905]</td>\n",
       "    </tr>\n",
       "  </tbody>\n",
       "</table>\n",
       "<p>5 rows × 38 columns</p>\n",
       "</div>"
      ],
      "text/plain": [
       "      AccountNumber       ParcelID     SpanNumber StreetNumber  \\\n",
       "1860           5333  044-4-033-000  114-035-15333           75   \n",
       "9583           7871  050-1-066-000  114-035-17871          225   \n",
       "3519           7583  049-4-059-000  114-035-17583          230   \n",
       "7688           7249  049-3-023-001  114-035-17249           80   \n",
       "8857           7856  050-1-051-000  114-035-17856          227   \n",
       "\n",
       "     AlternateNumber        StreetName Unit                  CuO1LastName  \\\n",
       "1860             NaN         CHERRY ST  NaN      btc mall associates, llc   \n",
       "9583             NaN  S Willard Street  NaN        champlain college inc.   \n",
       "3519             NaN        ST PAUL ST  NaN  burlington housing authority   \n",
       "7688             NaN        ST PAUL ST  NaN       burlington savings bank   \n",
       "8857             NaN  S Willard Street  NaN        champlain college inc.   \n",
       "\n",
       "     CuO1FirstName       CuO2LastName      ...      GrantorName NumofRooms  \\\n",
       "1860           NaN                NaN      ...              NaN        605   \n",
       "9583           NaN                NaN      ...              NaN        400   \n",
       "3519           NaN  BHA DECKER TOWERS      ...              NaN        371   \n",
       "7688           NaN                NaN      ...              NaN        311   \n",
       "8857           NaN                NaN      ...              NaN        289   \n",
       "\n",
       "     NumofBedrooms BathsCombined  NumofUnits  ZoningCode  Foundation  \\\n",
       "1860           605         0 / 0         605           D           C   \n",
       "9583             0        11 / 0          20           I          BS   \n",
       "3519           106       161 / 1         161          RM           S   \n",
       "7688             0         0 / 0         311           D           S   \n",
       "8857             0         8 / 2          25           I          BS   \n",
       "\n",
       "      Depreciation   PropertyCenterPoint    YearBltBin  \n",
       "1860        1.0000   (-73.215, 44.47894)  (1950, 2015]  \n",
       "9583        0.3000  (-73.2063, 44.47431)     (0, 1905]  \n",
       "3519        0.2782   (-73.213, 44.47275)  (1950, 2015]  \n",
       "7688        0.2775  (-73.2135, 44.47762)  (1950, 2015]  \n",
       "8857        0.3000  (-73.2057, 44.47373)     (0, 1905]  \n",
       "\n",
       "[5 rows x 38 columns]"
      ]
     },
     "execution_count": 70,
     "metadata": {},
     "output_type": "execute_result"
    }
   ],
   "source": [
    "# Replace one value with another for the whole dataframe\n",
    "dfreplace = df.replace(\"SOUTH WILLARD ST\",\"S Willard Street\")\n",
    "dfreplace.head(5)"
   ]
  },
  {
   "cell_type": "code",
   "execution_count": null,
   "metadata": {
    "collapsed": true
   },
   "outputs": [],
   "source": [
    "#This can also be done with multiple changes in one line\n",
    "dfreplace = df.replace({\"COLLEGE ST\":\"College Street\",\n",
    "                        \"CHERRY ST\":\"Cherry Street\"})\n",
    "dfreplace.head(3)"
   ]
  },
  {
   "cell_type": "code",
   "execution_count": null,
   "metadata": {
    "collapsed": true
   },
   "outputs": [],
   "source": [
    "#train_df.loc[train_df[\"Title\"] == \"Mlle\", \"Title\"] = 'Miss'"
   ]
  },
  {
   "cell_type": "code",
   "execution_count": 87,
   "metadata": {
    "collapsed": false
   },
   "outputs": [
    {
     "data": {
      "text/html": [
       "<div>\n",
       "<table border=\"1\" class=\"dataframe\">\n",
       "  <thead>\n",
       "    <tr style=\"text-align: right;\">\n",
       "      <th></th>\n",
       "      <th>AccountNumber</th>\n",
       "      <th>ParcelID</th>\n",
       "      <th>SpanNumber</th>\n",
       "      <th>StreetNumber</th>\n",
       "      <th>AlternateNumber</th>\n",
       "      <th>StreetName</th>\n",
       "      <th>Unit</th>\n",
       "      <th>CuO1LastName</th>\n",
       "      <th>CuO1FirstName</th>\n",
       "      <th>CuO2LastName</th>\n",
       "      <th>...</th>\n",
       "      <th>GrantorName</th>\n",
       "      <th>NumofRooms</th>\n",
       "      <th>NumofBedrooms</th>\n",
       "      <th>BathsCombined</th>\n",
       "      <th>NumofUnits</th>\n",
       "      <th>ZoningCode</th>\n",
       "      <th>Foundation</th>\n",
       "      <th>Depreciation</th>\n",
       "      <th>PropertyCenterPoint</th>\n",
       "      <th>YearBltBin</th>\n",
       "    </tr>\n",
       "  </thead>\n",
       "  <tbody>\n",
       "    <tr>\n",
       "      <th>1860</th>\n",
       "      <td>5333</td>\n",
       "      <td>044-4-033-000</td>\n",
       "      <td>114-035-15333</td>\n",
       "      <td>75</td>\n",
       "      <td>1</td>\n",
       "      <td>CHERRY ST</td>\n",
       "      <td>NaN</td>\n",
       "      <td>btc mall associates, llc</td>\n",
       "      <td>NaN</td>\n",
       "      <td>NaN</td>\n",
       "      <td>...</td>\n",
       "      <td>NaN</td>\n",
       "      <td>605</td>\n",
       "      <td>605</td>\n",
       "      <td>0 / 0</td>\n",
       "      <td>605</td>\n",
       "      <td>D</td>\n",
       "      <td>C</td>\n",
       "      <td>1.0</td>\n",
       "      <td>(-73.215, 44.47894)</td>\n",
       "      <td>(1950, 2015]</td>\n",
       "    </tr>\n",
       "    <tr>\n",
       "      <th>9583</th>\n",
       "      <td>7871</td>\n",
       "      <td>050-1-066-000</td>\n",
       "      <td>114-035-17871</td>\n",
       "      <td>225</td>\n",
       "      <td>NaN</td>\n",
       "      <td>SOUTH WILLARD ST</td>\n",
       "      <td>NaN</td>\n",
       "      <td>champlain college inc.</td>\n",
       "      <td>NaN</td>\n",
       "      <td>NaN</td>\n",
       "      <td>...</td>\n",
       "      <td>NaN</td>\n",
       "      <td>400</td>\n",
       "      <td>0</td>\n",
       "      <td>11 / 0</td>\n",
       "      <td>20</td>\n",
       "      <td>I</td>\n",
       "      <td>BS</td>\n",
       "      <td>0.3</td>\n",
       "      <td>(-73.2063, 44.47431)</td>\n",
       "      <td>(0, 1905]</td>\n",
       "    </tr>\n",
       "  </tbody>\n",
       "</table>\n",
       "<p>2 rows × 38 columns</p>\n",
       "</div>"
      ],
      "text/plain": [
       "      AccountNumber       ParcelID     SpanNumber StreetNumber  \\\n",
       "1860           5333  044-4-033-000  114-035-15333           75   \n",
       "9583           7871  050-1-066-000  114-035-17871          225   \n",
       "\n",
       "     AlternateNumber        StreetName Unit              CuO1LastName  \\\n",
       "1860               1         CHERRY ST  NaN  btc mall associates, llc   \n",
       "9583             NaN  SOUTH WILLARD ST  NaN    champlain college inc.   \n",
       "\n",
       "     CuO1FirstName CuO2LastName      ...      GrantorName NumofRooms  \\\n",
       "1860           NaN          NaN      ...              NaN        605   \n",
       "9583           NaN          NaN      ...              NaN        400   \n",
       "\n",
       "     NumofBedrooms BathsCombined  NumofUnits  ZoningCode  Foundation  \\\n",
       "1860           605         0 / 0         605           D           C   \n",
       "9583             0        11 / 0          20           I          BS   \n",
       "\n",
       "      Depreciation   PropertyCenterPoint    YearBltBin  \n",
       "1860           1.0   (-73.215, 44.47894)  (1950, 2015]  \n",
       "9583           0.3  (-73.2063, 44.47431)     (0, 1905]  \n",
       "\n",
       "[2 rows x 38 columns]"
      ]
     },
     "execution_count": 87,
     "metadata": {},
     "output_type": "execute_result"
    }
   ],
   "source": [
    "# Set DataFrame column values based on other column values\n",
    "df.loc[(df['AccountNumber'] == 5333), 'AlternateNumber'] = 1\n",
    "df.head(2)"
   ]
  },
  {
   "cell_type": "code",
   "execution_count": 88,
   "metadata": {
    "collapsed": false
   },
   "outputs": [
    {
     "data": {
      "text/html": [
       "<div>\n",
       "<table border=\"1\" class=\"dataframe\">\n",
       "  <thead>\n",
       "    <tr style=\"text-align: right;\">\n",
       "      <th></th>\n",
       "      <th>AccountNumber</th>\n",
       "      <th>ParcelID</th>\n",
       "      <th>SpanNumber</th>\n",
       "      <th>StreetNumber</th>\n",
       "      <th>AlternateNumber</th>\n",
       "      <th>StreetName</th>\n",
       "      <th>Unit</th>\n",
       "      <th>CuO1LastName</th>\n",
       "      <th>CuO1FirstName</th>\n",
       "      <th>CuO2LastName</th>\n",
       "      <th>...</th>\n",
       "      <th>GrantorName</th>\n",
       "      <th>NumofRooms</th>\n",
       "      <th>NumofBedrooms</th>\n",
       "      <th>BathsCombined</th>\n",
       "      <th>NumofUnits</th>\n",
       "      <th>ZoningCode</th>\n",
       "      <th>Foundation</th>\n",
       "      <th>Depreciation</th>\n",
       "      <th>PropertyCenterPoint</th>\n",
       "      <th>YearBltBin</th>\n",
       "    </tr>\n",
       "  </thead>\n",
       "  <tbody>\n",
       "    <tr>\n",
       "      <th>1860</th>\n",
       "      <td>5333</td>\n",
       "      <td>044-4-033-000</td>\n",
       "      <td>114-035-15333</td>\n",
       "      <td>75</td>\n",
       "      <td>3</td>\n",
       "      <td>CHERRY ST</td>\n",
       "      <td>NaN</td>\n",
       "      <td>btc mall associates, llc</td>\n",
       "      <td>NaN</td>\n",
       "      <td>NaN</td>\n",
       "      <td>...</td>\n",
       "      <td>NaN</td>\n",
       "      <td>605</td>\n",
       "      <td>605</td>\n",
       "      <td>0 / 0</td>\n",
       "      <td>605</td>\n",
       "      <td>D</td>\n",
       "      <td>C</td>\n",
       "      <td>1.0</td>\n",
       "      <td>(-73.215, 44.47894)</td>\n",
       "      <td>(1950, 2015]</td>\n",
       "    </tr>\n",
       "    <tr>\n",
       "      <th>9583</th>\n",
       "      <td>7871</td>\n",
       "      <td>050-1-066-000</td>\n",
       "      <td>114-035-17871</td>\n",
       "      <td>225</td>\n",
       "      <td>NaN</td>\n",
       "      <td>SOUTH WILLARD ST</td>\n",
       "      <td>NaN</td>\n",
       "      <td>champlain college inc.</td>\n",
       "      <td>NaN</td>\n",
       "      <td>NaN</td>\n",
       "      <td>...</td>\n",
       "      <td>NaN</td>\n",
       "      <td>400</td>\n",
       "      <td>0</td>\n",
       "      <td>11 / 0</td>\n",
       "      <td>20</td>\n",
       "      <td>I</td>\n",
       "      <td>BS</td>\n",
       "      <td>0.3</td>\n",
       "      <td>(-73.2063, 44.47431)</td>\n",
       "      <td>(0, 1905]</td>\n",
       "    </tr>\n",
       "  </tbody>\n",
       "</table>\n",
       "<p>2 rows × 38 columns</p>\n",
       "</div>"
      ],
      "text/plain": [
       "      AccountNumber       ParcelID     SpanNumber StreetNumber  \\\n",
       "1860           5333  044-4-033-000  114-035-15333           75   \n",
       "9583           7871  050-1-066-000  114-035-17871          225   \n",
       "\n",
       "     AlternateNumber        StreetName Unit              CuO1LastName  \\\n",
       "1860               3         CHERRY ST  NaN  btc mall associates, llc   \n",
       "9583             NaN  SOUTH WILLARD ST  NaN    champlain college inc.   \n",
       "\n",
       "     CuO1FirstName CuO2LastName      ...      GrantorName NumofRooms  \\\n",
       "1860           NaN          NaN      ...              NaN        605   \n",
       "9583           NaN          NaN      ...              NaN        400   \n",
       "\n",
       "     NumofBedrooms BathsCombined  NumofUnits  ZoningCode  Foundation  \\\n",
       "1860           605         0 / 0         605           D           C   \n",
       "9583             0        11 / 0          20           I          BS   \n",
       "\n",
       "      Depreciation   PropertyCenterPoint    YearBltBin  \n",
       "1860           1.0   (-73.215, 44.47894)  (1950, 2015]  \n",
       "9583           0.3  (-73.2063, 44.47431)     (0, 1905]  \n",
       "\n",
       "[2 rows x 38 columns]"
      ]
     },
     "execution_count": 88,
     "metadata": {},
     "output_type": "execute_result"
    }
   ],
   "source": [
    "# Set DataFrame column values based on other column values\n",
    "df.loc[(df['AccountNumber'] == 5333) | (df['StreetNumber'] == 75), 'AlternateNumber'] = 3\n",
    "df.head(2)"
   ]
  },
  {
   "cell_type": "code",
   "execution_count": null,
   "metadata": {
    "collapsed": true
   },
   "outputs": [],
   "source": [
    "#test_df[\"Fare\"].fillna(test_df[\"Fare\"].median(), inplace=True)\n",
    "#train_df['Age']= train_df.Age.fillna(train_df.Age.interpolate(method='linear')) \n",
    "#train_df['Age']= train_df.Age.fillna(train_df.Age.mean())"
   ]
  },
  {
   "cell_type": "code",
   "execution_count": 20,
   "metadata": {
    "collapsed": true
   },
   "outputs": [],
   "source": [
    "# Clean up missing values in multiple DataFrame columns\n",
    "df = df.fillna({\n",
    "    'col1': 'No Street',\n",
    "    'col2': '99.999',\n",
    "})"
   ]
  },
  {
   "cell_type": "code",
   "execution_count": 21,
   "metadata": {
    "collapsed": true
   },
   "outputs": [],
   "source": [
    "# Delete column from DataFrame\n",
    "del df['LegalReference']"
   ]
  },
  {
   "cell_type": "markdown",
   "metadata": {},
   "source": [
    "Converting Types of Data\n",
    "--------------"
   ]
  },
  {
   "cell_type": "code",
   "execution_count": 64,
   "metadata": {
    "collapsed": true
   },
   "outputs": [],
   "source": [
    "# Converting a float to interger\n",
    "df['FinishedArea'] = df['FinishedArea'].astype(int)"
   ]
  },
  {
   "cell_type": "code",
   "execution_count": 69,
   "metadata": {
    "collapsed": true
   },
   "outputs": [],
   "source": [
    "# Another way to change data type of DataFrame column\n",
    "df.TotalGrossArea = df.TotalGrossArea.astype(np.int64)"
   ]
  },
  {
   "cell_type": "code",
   "execution_count": 95,
   "metadata": {
    "collapsed": false
   },
   "outputs": [
    {
     "ename": "AttributeError",
     "evalue": "'Series' object has no attribute 'to_numeric'",
     "output_type": "error",
     "traceback": [
      "\u001b[0;31m---------------------------------------------------------------------------\u001b[0m",
      "\u001b[0;31mAttributeError\u001b[0m                            Traceback (most recent call last)",
      "\u001b[0;32m<ipython-input-95-319039f8e116>\u001b[0m in \u001b[0;36m<module>\u001b[0;34m()\u001b[0m\n\u001b[1;32m      1\u001b[0m \u001b[1;31m# Convert Series datatype to numeric, getting rid of any non-numeric values\u001b[0m\u001b[1;33m\u001b[0m\u001b[1;33m\u001b[0m\u001b[0m\n\u001b[0;32m----> 2\u001b[0;31m \u001b[0mdf\u001b[0m\u001b[1;33m[\u001b[0m\u001b[1;34m'ZoningCodeconvert'\u001b[0m\u001b[1;33m]\u001b[0m \u001b[1;33m=\u001b[0m \u001b[0mdf\u001b[0m\u001b[1;33m[\u001b[0m\u001b[1;34m'ZoningCode'\u001b[0m\u001b[1;33m]\u001b[0m\u001b[1;33m.\u001b[0m\u001b[0mto_numeric\u001b[0m\u001b[1;33m(\u001b[0m\u001b[0mdf\u001b[0m\u001b[1;33m[\u001b[0m\u001b[1;34m'ZoningCode'\u001b[0m\u001b[1;33m]\u001b[0m\u001b[1;33m)\u001b[0m\u001b[1;33m\u001b[0m\u001b[0m\n\u001b[0m\u001b[1;32m      3\u001b[0m \u001b[1;31m#df['ZoningCode']\u001b[0m\u001b[1;33m\u001b[0m\u001b[1;33m\u001b[0m\u001b[0m\n",
      "\u001b[0;32mC:\\Users\\kefor\\Anaconda3\\lib\\site-packages\\pandas\\core\\generic.py\u001b[0m in \u001b[0;36m__getattr__\u001b[0;34m(self, name)\u001b[0m\n\u001b[1;32m   2670\u001b[0m             \u001b[1;32mif\u001b[0m \u001b[0mname\u001b[0m \u001b[1;32min\u001b[0m \u001b[0mself\u001b[0m\u001b[1;33m.\u001b[0m\u001b[0m_info_axis\u001b[0m\u001b[1;33m:\u001b[0m\u001b[1;33m\u001b[0m\u001b[0m\n\u001b[1;32m   2671\u001b[0m                 \u001b[1;32mreturn\u001b[0m \u001b[0mself\u001b[0m\u001b[1;33m[\u001b[0m\u001b[0mname\u001b[0m\u001b[1;33m]\u001b[0m\u001b[1;33m\u001b[0m\u001b[0m\n\u001b[0;32m-> 2672\u001b[0;31m             \u001b[1;32mreturn\u001b[0m \u001b[0mobject\u001b[0m\u001b[1;33m.\u001b[0m\u001b[0m__getattribute__\u001b[0m\u001b[1;33m(\u001b[0m\u001b[0mself\u001b[0m\u001b[1;33m,\u001b[0m \u001b[0mname\u001b[0m\u001b[1;33m)\u001b[0m\u001b[1;33m\u001b[0m\u001b[0m\n\u001b[0m\u001b[1;32m   2673\u001b[0m \u001b[1;33m\u001b[0m\u001b[0m\n\u001b[1;32m   2674\u001b[0m     \u001b[1;32mdef\u001b[0m \u001b[0m__setattr__\u001b[0m\u001b[1;33m(\u001b[0m\u001b[0mself\u001b[0m\u001b[1;33m,\u001b[0m \u001b[0mname\u001b[0m\u001b[1;33m,\u001b[0m \u001b[0mvalue\u001b[0m\u001b[1;33m)\u001b[0m\u001b[1;33m:\u001b[0m\u001b[1;33m\u001b[0m\u001b[0m\n",
      "\u001b[0;31mAttributeError\u001b[0m: 'Series' object has no attribute 'to_numeric'"
     ]
    }
   ],
   "source": [
    "# Convert Series datatype to numeric, getting rid of any non-numeric values\n",
    "df['ZoningCodeconvert'] = df['ZoningCode'].to_numeric(df['ZoningCode'])\n",
    "#df['ZoningCode']\n",
    "\n",
    "for dataset in combine:\n",
    "    dataset['Sex'] = dataset['Sex'].map( {'female': 1, 'male': 0} ).astype(int)\n",
    "\n",
    "train_df.head()"
   ]
  },
  {
   "cell_type": "markdown",
   "metadata": {},
   "source": [
    "Sorting\n",
    "---------------"
   ]
  },
  {
   "cell_type": "code",
   "execution_count": 34,
   "metadata": {
    "collapsed": false
   },
   "outputs": [
    {
     "data": {
      "text/html": [
       "<div>\n",
       "<table border=\"1\" class=\"dataframe\">\n",
       "  <thead>\n",
       "    <tr style=\"text-align: right;\">\n",
       "      <th></th>\n",
       "      <th>AccountNumber</th>\n",
       "      <th>ParcelID</th>\n",
       "      <th>SpanNumber</th>\n",
       "      <th>StreetNumber</th>\n",
       "      <th>AlternateNumber</th>\n",
       "      <th>StreetName</th>\n",
       "      <th>Unit</th>\n",
       "      <th>CuO1LastName</th>\n",
       "      <th>CuO1FirstName</th>\n",
       "      <th>CuO2LastName</th>\n",
       "      <th>...</th>\n",
       "      <th>GrantorName</th>\n",
       "      <th>NumofRooms</th>\n",
       "      <th>NumofBedrooms</th>\n",
       "      <th>BathsCombined</th>\n",
       "      <th>NumofUnits</th>\n",
       "      <th>ZoningCode</th>\n",
       "      <th>Foundation</th>\n",
       "      <th>Depreciation</th>\n",
       "      <th>PropertyCenterPoint</th>\n",
       "      <th>YearBltBin</th>\n",
       "    </tr>\n",
       "  </thead>\n",
       "  <tbody>\n",
       "    <tr>\n",
       "      <th>1860</th>\n",
       "      <td>5333</td>\n",
       "      <td>044-4-033-000</td>\n",
       "      <td>114-035-15333</td>\n",
       "      <td>75</td>\n",
       "      <td>NaN</td>\n",
       "      <td>CHERRY ST</td>\n",
       "      <td>NaN</td>\n",
       "      <td>btc mall associates, llc</td>\n",
       "      <td>NaN</td>\n",
       "      <td>NaN</td>\n",
       "      <td>...</td>\n",
       "      <td>NaN</td>\n",
       "      <td>605</td>\n",
       "      <td>605</td>\n",
       "      <td>0 / 0</td>\n",
       "      <td>605</td>\n",
       "      <td>D</td>\n",
       "      <td>C</td>\n",
       "      <td>1.0000</td>\n",
       "      <td>(-73.215, 44.47894)</td>\n",
       "      <td>(1950, 2015]</td>\n",
       "    </tr>\n",
       "    <tr>\n",
       "      <th>9583</th>\n",
       "      <td>7871</td>\n",
       "      <td>050-1-066-000</td>\n",
       "      <td>114-035-17871</td>\n",
       "      <td>225</td>\n",
       "      <td>NaN</td>\n",
       "      <td>SOUTH WILLARD ST</td>\n",
       "      <td>NaN</td>\n",
       "      <td>champlain college inc.</td>\n",
       "      <td>NaN</td>\n",
       "      <td>NaN</td>\n",
       "      <td>...</td>\n",
       "      <td>NaN</td>\n",
       "      <td>400</td>\n",
       "      <td>0</td>\n",
       "      <td>11 / 0</td>\n",
       "      <td>20</td>\n",
       "      <td>I</td>\n",
       "      <td>BS</td>\n",
       "      <td>0.3000</td>\n",
       "      <td>(-73.2063, 44.47431)</td>\n",
       "      <td>(0, 1905]</td>\n",
       "    </tr>\n",
       "    <tr>\n",
       "      <th>3519</th>\n",
       "      <td>7583</td>\n",
       "      <td>049-4-059-000</td>\n",
       "      <td>114-035-17583</td>\n",
       "      <td>230</td>\n",
       "      <td>NaN</td>\n",
       "      <td>ST PAUL ST</td>\n",
       "      <td>NaN</td>\n",
       "      <td>burlington housing authority</td>\n",
       "      <td>NaN</td>\n",
       "      <td>BHA DECKER TOWERS</td>\n",
       "      <td>...</td>\n",
       "      <td>NaN</td>\n",
       "      <td>371</td>\n",
       "      <td>106</td>\n",
       "      <td>161 / 1</td>\n",
       "      <td>161</td>\n",
       "      <td>RM</td>\n",
       "      <td>S</td>\n",
       "      <td>0.2782</td>\n",
       "      <td>(-73.213, 44.47275)</td>\n",
       "      <td>(1950, 2015]</td>\n",
       "    </tr>\n",
       "  </tbody>\n",
       "</table>\n",
       "<p>3 rows × 38 columns</p>\n",
       "</div>"
      ],
      "text/plain": [
       "      AccountNumber       ParcelID     SpanNumber StreetNumber  \\\n",
       "1860           5333  044-4-033-000  114-035-15333           75   \n",
       "9583           7871  050-1-066-000  114-035-17871          225   \n",
       "3519           7583  049-4-059-000  114-035-17583          230   \n",
       "\n",
       "     AlternateNumber        StreetName Unit                  CuO1LastName  \\\n",
       "1860             NaN         CHERRY ST  NaN      btc mall associates, llc   \n",
       "9583             NaN  SOUTH WILLARD ST  NaN        champlain college inc.   \n",
       "3519             NaN        ST PAUL ST  NaN  burlington housing authority   \n",
       "\n",
       "     CuO1FirstName       CuO2LastName      ...      GrantorName NumofRooms  \\\n",
       "1860           NaN                NaN      ...              NaN        605   \n",
       "9583           NaN                NaN      ...              NaN        400   \n",
       "3519           NaN  BHA DECKER TOWERS      ...              NaN        371   \n",
       "\n",
       "     NumofBedrooms BathsCombined  NumofUnits  ZoningCode  Foundation  \\\n",
       "1860           605         0 / 0         605           D           C   \n",
       "9583             0        11 / 0          20           I          BS   \n",
       "3519           106       161 / 1         161          RM           S   \n",
       "\n",
       "      Depreciation   PropertyCenterPoint    YearBltBin  \n",
       "1860        1.0000   (-73.215, 44.47894)  (1950, 2015]  \n",
       "9583        0.3000  (-73.2063, 44.47431)     (0, 1905]  \n",
       "3519        0.2782   (-73.213, 44.47275)  (1950, 2015]  \n",
       "\n",
       "[3 rows x 38 columns]"
      ]
     },
     "execution_count": 34,
     "metadata": {},
     "output_type": "execute_result"
    }
   ],
   "source": [
    "# Sort dataframe by multiple columns, 0 is descending from highest and 1 is ascending from lowest\n",
    "df = df.sort_values(by=['NumofRooms','NumofBedrooms','NumofUnits'],ascending=[0,1,0])\n",
    "df.head(3)"
   ]
  },
  {
   "cell_type": "markdown",
   "metadata": {},
   "source": [
    "Get Dummies\n",
    "-------\n",
    "This is used to change categorical information to multiple true false columns"
   ]
  },
  {
   "cell_type": "code",
   "execution_count": 63,
   "metadata": {
    "collapsed": false
   },
   "outputs": [
    {
     "data": {
      "text/html": [
       "<div>\n",
       "<table border=\"1\" class=\"dataframe\">\n",
       "  <thead>\n",
       "    <tr style=\"text-align: right;\">\n",
       "      <th></th>\n",
       "      <th>ZoningCode_BST</th>\n",
       "      <th>ZoningCode_D</th>\n",
       "      <th>ZoningCode_DT</th>\n",
       "      <th>ZoningCode_DW</th>\n",
       "      <th>ZoningCode_DWPT</th>\n",
       "      <th>ZoningCode_EAE</th>\n",
       "      <th>ZoningCode_ELM</th>\n",
       "      <th>ZoningCode_I</th>\n",
       "      <th>ZoningCode_NAC</th>\n",
       "      <th>ZoningCode_NACR</th>\n",
       "      <th>...</th>\n",
       "      <th>ZoningCode_RCOA</th>\n",
       "      <th>ZoningCode_RCOC</th>\n",
       "      <th>ZoningCode_RCOG</th>\n",
       "      <th>ZoningCode_RH</th>\n",
       "      <th>ZoningCode_RL</th>\n",
       "      <th>ZoningCode_RL-W</th>\n",
       "      <th>ZoningCode_RLW</th>\n",
       "      <th>ZoningCode_RM</th>\n",
       "      <th>ZoningCode_RMW</th>\n",
       "      <th>ZoningCode_UR</th>\n",
       "    </tr>\n",
       "  </thead>\n",
       "  <tbody>\n",
       "    <tr>\n",
       "      <th>1860</th>\n",
       "      <td>0.0</td>\n",
       "      <td>1.0</td>\n",
       "      <td>0.0</td>\n",
       "      <td>0.0</td>\n",
       "      <td>0.0</td>\n",
       "      <td>0.0</td>\n",
       "      <td>0.0</td>\n",
       "      <td>0.0</td>\n",
       "      <td>0.0</td>\n",
       "      <td>0.0</td>\n",
       "      <td>...</td>\n",
       "      <td>0.0</td>\n",
       "      <td>0.0</td>\n",
       "      <td>0.0</td>\n",
       "      <td>0.0</td>\n",
       "      <td>0.0</td>\n",
       "      <td>0.0</td>\n",
       "      <td>0.0</td>\n",
       "      <td>0.0</td>\n",
       "      <td>0.0</td>\n",
       "      <td>0.0</td>\n",
       "    </tr>\n",
       "    <tr>\n",
       "      <th>9583</th>\n",
       "      <td>0.0</td>\n",
       "      <td>0.0</td>\n",
       "      <td>0.0</td>\n",
       "      <td>0.0</td>\n",
       "      <td>0.0</td>\n",
       "      <td>0.0</td>\n",
       "      <td>0.0</td>\n",
       "      <td>1.0</td>\n",
       "      <td>0.0</td>\n",
       "      <td>0.0</td>\n",
       "      <td>...</td>\n",
       "      <td>0.0</td>\n",
       "      <td>0.0</td>\n",
       "      <td>0.0</td>\n",
       "      <td>0.0</td>\n",
       "      <td>0.0</td>\n",
       "      <td>0.0</td>\n",
       "      <td>0.0</td>\n",
       "      <td>0.0</td>\n",
       "      <td>0.0</td>\n",
       "      <td>0.0</td>\n",
       "    </tr>\n",
       "    <tr>\n",
       "      <th>3519</th>\n",
       "      <td>0.0</td>\n",
       "      <td>0.0</td>\n",
       "      <td>0.0</td>\n",
       "      <td>0.0</td>\n",
       "      <td>0.0</td>\n",
       "      <td>0.0</td>\n",
       "      <td>0.0</td>\n",
       "      <td>0.0</td>\n",
       "      <td>0.0</td>\n",
       "      <td>0.0</td>\n",
       "      <td>...</td>\n",
       "      <td>0.0</td>\n",
       "      <td>0.0</td>\n",
       "      <td>0.0</td>\n",
       "      <td>0.0</td>\n",
       "      <td>0.0</td>\n",
       "      <td>0.0</td>\n",
       "      <td>0.0</td>\n",
       "      <td>1.0</td>\n",
       "      <td>0.0</td>\n",
       "      <td>0.0</td>\n",
       "    </tr>\n",
       "  </tbody>\n",
       "</table>\n",
       "<p>3 rows × 21 columns</p>\n",
       "</div>"
      ],
      "text/plain": [
       "      ZoningCode_BST  ZoningCode_D  ZoningCode_DT  ZoningCode_DW  \\\n",
       "1860             0.0           1.0            0.0            0.0   \n",
       "9583             0.0           0.0            0.0            0.0   \n",
       "3519             0.0           0.0            0.0            0.0   \n",
       "\n",
       "      ZoningCode_DWPT  ZoningCode_EAE  ZoningCode_ELM  ZoningCode_I  \\\n",
       "1860              0.0             0.0             0.0           0.0   \n",
       "9583              0.0             0.0             0.0           1.0   \n",
       "3519              0.0             0.0             0.0           0.0   \n",
       "\n",
       "      ZoningCode_NAC  ZoningCode_NACR      ...        ZoningCode_RCOA  \\\n",
       "1860             0.0              0.0      ...                    0.0   \n",
       "9583             0.0              0.0      ...                    0.0   \n",
       "3519             0.0              0.0      ...                    0.0   \n",
       "\n",
       "      ZoningCode_RCOC  ZoningCode_RCOG  ZoningCode_RH  ZoningCode_RL  \\\n",
       "1860              0.0              0.0            0.0            0.0   \n",
       "9583              0.0              0.0            0.0            0.0   \n",
       "3519              0.0              0.0            0.0            0.0   \n",
       "\n",
       "      ZoningCode_RL-W  ZoningCode_RLW  ZoningCode_RM  ZoningCode_RMW  \\\n",
       "1860              0.0             0.0            0.0             0.0   \n",
       "9583              0.0             0.0            0.0             0.0   \n",
       "3519              0.0             0.0            1.0             0.0   \n",
       "\n",
       "      ZoningCode_UR  \n",
       "1860            0.0  \n",
       "9583            0.0  \n",
       "3519            0.0  \n",
       "\n",
       "[3 rows x 21 columns]"
      ]
     },
     "execution_count": 63,
     "metadata": {},
     "output_type": "execute_result"
    }
   ],
   "source": [
    "foundation = pd.get_dummies(df['ZoningCode'], prefix = 'ZoningCode')\n",
    "foundation.head(3)"
   ]
  },
  {
   "cell_type": "markdown",
   "metadata": {},
   "source": [
    "Merging and Joining\n",
    "-------"
   ]
  },
  {
   "cell_type": "code",
   "execution_count": 25,
   "metadata": {
    "collapsed": false
   },
   "outputs": [],
   "source": [
    "#Merge two different datasets\n",
    "# dfmerged = pd.merge(set1,set2,on=proper)"
   ]
  },
  {
   "cell_type": "code",
   "execution_count": 92,
   "metadata": {
    "collapsed": false
   },
   "outputs": [
    {
     "data": {
      "text/html": [
       "<div>\n",
       "<table border=\"1\" class=\"dataframe\">\n",
       "  <thead>\n",
       "    <tr style=\"text-align: right;\">\n",
       "      <th></th>\n",
       "      <th>AccountNumber</th>\n",
       "      <th>ParcelID</th>\n",
       "      <th>SpanNumber</th>\n",
       "      <th>StreetNumber</th>\n",
       "      <th>AlternateNumber</th>\n",
       "      <th>StreetName</th>\n",
       "      <th>Unit</th>\n",
       "      <th>CuO1LastName</th>\n",
       "      <th>CuO1FirstName</th>\n",
       "      <th>CuO2LastName</th>\n",
       "    </tr>\n",
       "  </thead>\n",
       "  <tbody>\n",
       "    <tr>\n",
       "      <th>1860</th>\n",
       "      <td>5333</td>\n",
       "      <td>044-4-033-000</td>\n",
       "      <td>114-035-15333</td>\n",
       "      <td>75</td>\n",
       "      <td>3</td>\n",
       "      <td>CHERRY ST</td>\n",
       "      <td>NaN</td>\n",
       "      <td>btc mall associates, llc</td>\n",
       "      <td>NaN</td>\n",
       "      <td>NaN</td>\n",
       "    </tr>\n",
       "    <tr>\n",
       "      <th>9583</th>\n",
       "      <td>7871</td>\n",
       "      <td>050-1-066-000</td>\n",
       "      <td>114-035-17871</td>\n",
       "      <td>225</td>\n",
       "      <td>NaN</td>\n",
       "      <td>SOUTH WILLARD ST</td>\n",
       "      <td>NaN</td>\n",
       "      <td>champlain college inc.</td>\n",
       "      <td>NaN</td>\n",
       "      <td>NaN</td>\n",
       "    </tr>\n",
       "    <tr>\n",
       "      <th>3519</th>\n",
       "      <td>7583</td>\n",
       "      <td>049-4-059-000</td>\n",
       "      <td>114-035-17583</td>\n",
       "      <td>230</td>\n",
       "      <td>NaN</td>\n",
       "      <td>ST PAUL ST</td>\n",
       "      <td>NaN</td>\n",
       "      <td>burlington housing authority</td>\n",
       "      <td>NaN</td>\n",
       "      <td>BHA DECKER TOWERS</td>\n",
       "    </tr>\n",
       "    <tr>\n",
       "      <th>7688</th>\n",
       "      <td>7249</td>\n",
       "      <td>049-3-023-001</td>\n",
       "      <td>114-035-17249</td>\n",
       "      <td>80</td>\n",
       "      <td>NaN</td>\n",
       "      <td>ST PAUL ST</td>\n",
       "      <td>NaN</td>\n",
       "      <td>burlington savings bank</td>\n",
       "      <td>NaN</td>\n",
       "      <td>NaN</td>\n",
       "    </tr>\n",
       "    <tr>\n",
       "      <th>8857</th>\n",
       "      <td>7856</td>\n",
       "      <td>050-1-051-000</td>\n",
       "      <td>114-035-17856</td>\n",
       "      <td>227</td>\n",
       "      <td>NaN</td>\n",
       "      <td>SOUTH WILLARD ST</td>\n",
       "      <td>NaN</td>\n",
       "      <td>champlain college inc.</td>\n",
       "      <td>NaN</td>\n",
       "      <td>NaN</td>\n",
       "    </tr>\n",
       "  </tbody>\n",
       "</table>\n",
       "</div>"
      ],
      "text/plain": [
       "      AccountNumber       ParcelID     SpanNumber StreetNumber  \\\n",
       "1860           5333  044-4-033-000  114-035-15333           75   \n",
       "9583           7871  050-1-066-000  114-035-17871          225   \n",
       "3519           7583  049-4-059-000  114-035-17583          230   \n",
       "7688           7249  049-3-023-001  114-035-17249           80   \n",
       "8857           7856  050-1-051-000  114-035-17856          227   \n",
       "\n",
       "     AlternateNumber        StreetName Unit                  CuO1LastName  \\\n",
       "1860               3         CHERRY ST  NaN      btc mall associates, llc   \n",
       "9583             NaN  SOUTH WILLARD ST  NaN        champlain college inc.   \n",
       "3519             NaN        ST PAUL ST  NaN  burlington housing authority   \n",
       "7688             NaN        ST PAUL ST  NaN       burlington savings bank   \n",
       "8857             NaN  SOUTH WILLARD ST  NaN        champlain college inc.   \n",
       "\n",
       "     CuO1FirstName       CuO2LastName  \n",
       "1860           NaN                NaN  \n",
       "9583           NaN                NaN  \n",
       "3519           NaN  BHA DECKER TOWERS  \n",
       "7688           NaN                NaN  \n",
       "8857           NaN                NaN  "
      ]
     },
     "execution_count": 92,
     "metadata": {},
     "output_type": "execute_result"
    }
   ],
   "source": [
    "setone = df[['AccountNumber','ParcelID','SpanNumber']]\n",
    "settwo = df[['StreetNumber','AlternateNumber','StreetName','Unit','CuO1LastName','CuO1FirstName','CuO2LastName']]\n",
    "\n",
    "# combine the two sets on the verticle axis\n",
    "concatdf = pd.concat([setone, settwo], axis=1)\n",
    "concatdf.head()"
   ]
  },
  {
   "cell_type": "markdown",
   "metadata": {},
   "source": [
    "Lower-Case Column Names\n",
    "------------"
   ]
  },
  {
   "cell_type": "code",
   "execution_count": 26,
   "metadata": {
    "collapsed": false
   },
   "outputs": [
    {
     "data": {
      "text/html": [
       "<div>\n",
       "<table border=\"1\" class=\"dataframe\">\n",
       "  <thead>\n",
       "    <tr style=\"text-align: right;\">\n",
       "      <th></th>\n",
       "      <th>AccountNumber</th>\n",
       "      <th>ParcelID</th>\n",
       "      <th>SpanNumber</th>\n",
       "      <th>StreetNumber</th>\n",
       "      <th>AlternateNumber</th>\n",
       "      <th>StreetName</th>\n",
       "      <th>Unit</th>\n",
       "      <th>CuO1LastName</th>\n",
       "      <th>CuO1FirstName</th>\n",
       "      <th>CuO2LastName</th>\n",
       "      <th>...</th>\n",
       "      <th>GrantorName</th>\n",
       "      <th>NumofRooms</th>\n",
       "      <th>NumofBedrooms</th>\n",
       "      <th>BathsCombined</th>\n",
       "      <th>NumofUnits</th>\n",
       "      <th>ZoningCode</th>\n",
       "      <th>Foundation</th>\n",
       "      <th>Depreciation</th>\n",
       "      <th>PropertyCenterPoint</th>\n",
       "      <th>YearBltBin</th>\n",
       "    </tr>\n",
       "  </thead>\n",
       "  <tbody>\n",
       "    <tr>\n",
       "      <th>1860</th>\n",
       "      <td>5333</td>\n",
       "      <td>044-4-033-000</td>\n",
       "      <td>114-035-15333</td>\n",
       "      <td>75</td>\n",
       "      <td>NaN</td>\n",
       "      <td>CHERRY ST</td>\n",
       "      <td>NaN</td>\n",
       "      <td>btc mall associates, llc</td>\n",
       "      <td>NaN</td>\n",
       "      <td>NaN</td>\n",
       "      <td>...</td>\n",
       "      <td>NaN</td>\n",
       "      <td>605</td>\n",
       "      <td>605</td>\n",
       "      <td>0 / 0</td>\n",
       "      <td>605</td>\n",
       "      <td>D</td>\n",
       "      <td>C</td>\n",
       "      <td>1.0</td>\n",
       "      <td>(-73.215, 44.47894)</td>\n",
       "      <td>(1950, 2015]</td>\n",
       "    </tr>\n",
       "    <tr>\n",
       "      <th>9583</th>\n",
       "      <td>7871</td>\n",
       "      <td>050-1-066-000</td>\n",
       "      <td>114-035-17871</td>\n",
       "      <td>225</td>\n",
       "      <td>NaN</td>\n",
       "      <td>SOUTH WILLARD ST</td>\n",
       "      <td>NaN</td>\n",
       "      <td>champlain college inc.</td>\n",
       "      <td>NaN</td>\n",
       "      <td>NaN</td>\n",
       "      <td>...</td>\n",
       "      <td>NaN</td>\n",
       "      <td>400</td>\n",
       "      <td>0</td>\n",
       "      <td>11 / 0</td>\n",
       "      <td>20</td>\n",
       "      <td>I</td>\n",
       "      <td>BS</td>\n",
       "      <td>0.3</td>\n",
       "      <td>(-73.2063, 44.47431)</td>\n",
       "      <td>(0, 1905]</td>\n",
       "    </tr>\n",
       "  </tbody>\n",
       "</table>\n",
       "<p>2 rows × 38 columns</p>\n",
       "</div>"
      ],
      "text/plain": [
       "      AccountNumber       ParcelID     SpanNumber StreetNumber  \\\n",
       "1860           5333  044-4-033-000  114-035-15333           75   \n",
       "9583           7871  050-1-066-000  114-035-17871          225   \n",
       "\n",
       "     AlternateNumber        StreetName Unit              CuO1LastName  \\\n",
       "1860             NaN         CHERRY ST  NaN  btc mall associates, llc   \n",
       "9583             NaN  SOUTH WILLARD ST  NaN    champlain college inc.   \n",
       "\n",
       "     CuO1FirstName CuO2LastName      ...      GrantorName NumofRooms  \\\n",
       "1860           NaN          NaN      ...              NaN        605   \n",
       "9583           NaN          NaN      ...              NaN        400   \n",
       "\n",
       "     NumofBedrooms BathsCombined  NumofUnits  ZoningCode  Foundation  \\\n",
       "1860           605         0 / 0         605           D           C   \n",
       "9583             0        11 / 0          20           I          BS   \n",
       "\n",
       "      Depreciation   PropertyCenterPoint    YearBltBin  \n",
       "1860           1.0   (-73.215, 44.47894)  (1950, 2015]  \n",
       "9583           0.3  (-73.2063, 44.47431)     (0, 1905]  \n",
       "\n",
       "[2 rows x 38 columns]"
      ]
     },
     "execution_count": 26,
     "metadata": {},
     "output_type": "execute_result"
    }
   ],
   "source": [
    "# Lower-case everything in a DataFrame column\n",
    "df.CuO1LastName = df.CuO1LastName.str.lower()\n",
    "df.head(2)"
   ]
  },
  {
   "cell_type": "code",
   "execution_count": 27,
   "metadata": {
    "collapsed": false
   },
   "outputs": [
    {
     "data": {
      "text/html": [
       "<div>\n",
       "<table border=\"1\" class=\"dataframe\">\n",
       "  <thead>\n",
       "    <tr style=\"text-align: right;\">\n",
       "      <th></th>\n",
       "      <th>AccountNumber</th>\n",
       "      <th>ParcelID</th>\n",
       "      <th>SpanNumber</th>\n",
       "      <th>StreetNumber</th>\n",
       "      <th>AlternateNumber</th>\n",
       "      <th>StreetName</th>\n",
       "      <th>Unit</th>\n",
       "      <th>CuO1LastName</th>\n",
       "      <th>CuO1FirstName</th>\n",
       "      <th>CuO2LastName</th>\n",
       "      <th>...</th>\n",
       "      <th>GrantorName</th>\n",
       "      <th>NumofRooms</th>\n",
       "      <th>NumofBedrooms</th>\n",
       "      <th>BathsCombined</th>\n",
       "      <th>NumofUnits</th>\n",
       "      <th>ZoningCode</th>\n",
       "      <th>Foundation</th>\n",
       "      <th>Depreciation</th>\n",
       "      <th>PropertyCenterPoint</th>\n",
       "      <th>YearBltBin</th>\n",
       "    </tr>\n",
       "  </thead>\n",
       "  <tbody>\n",
       "    <tr>\n",
       "      <th>1860</th>\n",
       "      <td>5333</td>\n",
       "      <td>044-4-033-000</td>\n",
       "      <td>114-035-15333</td>\n",
       "      <td>75</td>\n",
       "      <td>NaN</td>\n",
       "      <td>CHERRY ST</td>\n",
       "      <td>NaN</td>\n",
       "      <td>btc mall associates, llc</td>\n",
       "      <td>NaN</td>\n",
       "      <td>NaN</td>\n",
       "      <td>...</td>\n",
       "      <td>NaN</td>\n",
       "      <td>605</td>\n",
       "      <td>605</td>\n",
       "      <td>0 / 0</td>\n",
       "      <td>605</td>\n",
       "      <td>D</td>\n",
       "      <td>C</td>\n",
       "      <td>1.0</td>\n",
       "      <td>(-73.215, 44.47894)</td>\n",
       "      <td>(1950, 2015]</td>\n",
       "    </tr>\n",
       "  </tbody>\n",
       "</table>\n",
       "<p>1 rows × 38 columns</p>\n",
       "</div>"
      ],
      "text/plain": [
       "      AccountNumber       ParcelID     SpanNumber StreetNumber  \\\n",
       "1860           5333  044-4-033-000  114-035-15333           75   \n",
       "\n",
       "     AlternateNumber StreetName Unit              CuO1LastName CuO1FirstName  \\\n",
       "1860             NaN  CHERRY ST  NaN  btc mall associates, llc           NaN   \n",
       "\n",
       "     CuO2LastName      ...      GrantorName NumofRooms NumofBedrooms  \\\n",
       "1860          NaN      ...              NaN        605           605   \n",
       "\n",
       "     BathsCombined  NumofUnits  ZoningCode  Foundation  Depreciation  \\\n",
       "1860         0 / 0         605           D           C           1.0   \n",
       "\n",
       "      PropertyCenterPoint    YearBltBin  \n",
       "1860  (-73.215, 44.47894)  (1950, 2015]  \n",
       "\n",
       "[1 rows x 38 columns]"
      ]
     },
     "execution_count": 27,
     "metadata": {},
     "output_type": "execute_result"
    }
   ],
   "source": [
    "# Lower-case all DataFrame column names, this applies to the df unconditionally and may make troubleshooting hard if half way through\n",
    "#df.columns = map(str.lower, df.columns)\n",
    "df.head(1)"
   ]
  },
  {
   "cell_type": "markdown",
   "metadata": {},
   "source": [
    "Everything Below Is not yet ready for prime time\n",
    "================="
   ]
  },
  {
   "cell_type": "code",
   "execution_count": 28,
   "metadata": {
    "collapsed": false
   },
   "outputs": [],
   "source": [
    "# Full list of .str functions: http://pandas.pydata.org/pandas-docs/stable/text.html\n",
    "# Slice values in a DataFrame column (aka Series)\n",
    "#df.column.str[0:2]"
   ]
  },
  {
   "cell_type": "code",
   "execution_count": null,
   "metadata": {
    "collapsed": false
   },
   "outputs": [],
   "source": [
    "# Select from DataFrame using multiple keys of a hierarchical index\n",
    "#df.xs(('index level 1 value','index level 2 value'), level=('level 1','level 2'))"
   ]
  },
  {
   "cell_type": "code",
   "execution_count": null,
   "metadata": {
    "collapsed": false
   },
   "outputs": [],
   "source": [
    "# Change all NaNs to None (useful before loading to a db)\n",
    "#df = df.where((pd.notnull(df)), None)\n",
    "df.head(3)"
   ]
  },
  {
   "cell_type": "code",
   "execution_count": null,
   "metadata": {
    "collapsed": true
   },
   "outputs": [],
   "source": [
    "# Pivot data (with flexibility about what what\n",
    "# becomes a column and what stays a row)\n",
    "# Syntax works on Pandas >= .14\n",
    "#pd.pivot_table(\n",
    "#  df,values='cell_value',\n",
    "#  index=['col1', 'col2', 'col3'], #these stay as columns; will fail silently if any of these cols have null values\n",
    "#  columns=['col4']) #data values in this column become their own column\n"
   ]
  },
  {
   "cell_type": "code",
   "execution_count": null,
   "metadata": {
    "collapsed": true
   },
   "outputs": [],
   "source": []
  },
  {
   "cell_type": "code",
   "execution_count": null,
   "metadata": {
    "collapsed": true
   },
   "outputs": [],
   "source": [
    "# Concatenate two DataFrame columns into a new, single column\n",
    "# (useful when dealing with composite keys, for example)\n",
    "#df['newcol'] = df['col1'].map(str) + df['col2'].map(str)"
   ]
  },
  {
   "cell_type": "code",
   "execution_count": null,
   "metadata": {
    "collapsed": true
   },
   "outputs": [],
   "source": [
    "# Doing calculations with DataFrame columns that have missing values\n",
    "# In example below, swap in 0 for df['col1'] cells that contain null\n",
    "df['new_col'] = np.where(pd.isnull(df['col1']),0,df['col1']) + df['col2']"
   ]
  },
  {
   "cell_type": "code",
   "execution_count": null,
   "metadata": {
    "collapsed": true
   },
   "outputs": [],
   "source": [
    "# Split delimited values in a DataFrame column into two new columns\n",
    "df['new_col1'], df['new_col2'] = zip(*df['original_col'].apply(lambda x: x.split(': ', 1)))"
   ]
  },
  {
   "cell_type": "code",
   "execution_count": null,
   "metadata": {
    "collapsed": true
   },
   "outputs": [],
   "source": [
    "# Get rid of non-numeric values throughout a DataFrame:\n",
    "for col in refunds.columns.values:\n",
    "  refunds[col] = refunds[col].replace('[^0-9]+.-', '', regex=True)"
   ]
  },
  {
   "cell_type": "code",
   "execution_count": null,
   "metadata": {
    "collapsed": true
   },
   "outputs": [],
   "source": [
    "# Collapse hierarchical column indexes\n",
    "df.columns = df.columns.get_level_values(0)"
   ]
  },
  {
   "cell_type": "code",
   "execution_count": null,
   "metadata": {
    "collapsed": true
   },
   "outputs": [],
   "source": [
    "# Convert Django queryset to DataFrame\n",
    "qs = DjangoModelName.objects.all()\n",
    "q = qs.values()\n",
    "df = pd.DataFrame.from_records(q)\n"
   ]
  },
  {
   "cell_type": "code",
   "execution_count": null,
   "metadata": {
    "collapsed": true
   },
   "outputs": [],
   "source": [
    "# Create a DataFrame from a Python dictionary\n",
    "df = pd.DataFrame(list(a_dictionary.items()), columns = ['column1', 'column2'])"
   ]
  },
  {
   "cell_type": "code",
   "execution_count": null,
   "metadata": {
    "collapsed": true
   },
   "outputs": [],
   "source": [
    "# Get a report of all duplicate records in a dataframe, based on specific columns\n",
    "dupes = df[df.duplicated(['col1', 'col2', 'col3'], keep=False)]"
   ]
  },
  {
   "cell_type": "code",
   "execution_count": null,
   "metadata": {
    "collapsed": true
   },
   "outputs": [],
   "source": [
    "# Set up formatting so larger numbers aren't displayed in scientific notation (h/t @thecapacity)\n",
    "pd.set_option('display.float_format', lambda x: '%.3f' % x)"
   ]
  },
  {
   "cell_type": "code",
   "execution_count": null,
   "metadata": {
    "collapsed": true
   },
   "outputs": [],
   "source": [
    "wholedf['Date'] = pd.to_datetime(wholedf['Date'])"
   ]
  }
 ],
 "metadata": {
  "anaconda-cloud": {},
  "kernelspec": {
   "display_name": "Python [conda root]",
   "language": "python",
   "name": "conda-root-py"
  },
  "language_info": {
   "codemirror_mode": {
    "name": "ipython",
    "version": 3
   },
   "file_extension": ".py",
   "mimetype": "text/x-python",
   "name": "python",
   "nbconvert_exporter": "python",
   "pygments_lexer": "ipython3",
   "version": "3.5.2"
  }
 },
 "nbformat": 4,
 "nbformat_minor": 1
}
